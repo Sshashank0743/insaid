{
 "cells": [
  {
   "cell_type": "markdown",
   "metadata": {},
   "source": [
    "![housesbanner](housesbanner.png \"housesbanner\")\n",
    "\n"
   ]
  },
  {
   "cell_type": "markdown",
   "metadata": {},
   "source": [
    "# **Description :**\n",
    "\n",
    "####  *Ask a home buyer to describe their dream house, and they probably won't begin with the height of the basement ceiling or the proximity to an east-west railroad. But this playground competition's dataset proves that much more influences price negotiations than the number of bedrooms or a white-picket fence.*\n",
    "\n",
    "#### *With 79 explanatory variables describing (almost) every aspect of residential homes in Ames, Iowa, this competition challenges you to predict the final price of each home.*\n",
    "\n",
    "#### Data fields\n",
    "Here's a brief version of what you'll find in the data description file.\n",
    "\n",
    "> - SalePrice - the property's sale price in dollars. This is the target variable that you're trying to predict.\n",
    "- MSSubClass: The building class\n",
    "- MSZoning: The general zoning classification\n",
    "- LotFrontage: Linear feet of street connected to property\n",
    "- LotArea: Lot size in square feet\n",
    "- Street: Type of road access\n",
    "- Alley: Type of alley access\n",
    "- LotShape: General shape of property\n",
    "- LandContour: Flatness of the property\n",
    "- Utilities: Type of utilities available\n",
    "- LotConfig: Lot configuration\n",
    "- LandSlope: Slope of property\n",
    "- Neighborhood: Physical locations within Ames city limits\n",
    "- Condition1: Proximity to main road or railroad\n",
    "- Condition2: Proximity to main road or railroad (if a second is present)\n",
    "- BldgType: Type of dwelling\n",
    "- HouseStyle: Style of dwelling\n",
    "- OverallQual: Overall material and finish quality\n",
    "- OverallCond: Overall condition rating\n",
    "- YearBuilt: Original construction date\n",
    "- YearRemodAdd: Remodel date\n",
    "- RoofStyle: Type of roof\n",
    "- RoofMatl: Roof material\n",
    "- Exterior1st: Exterior covering on house\n",
    "- Exterior2nd: Exterior covering on house (if more than one material)\n",
    "- MasVnrType: Masonry veneer type\n",
    "- MasVnrArea: Masonry veneer area in square feet\n",
    "- ExterQual: Exterior material quality\n",
    "- ExterCond: Present condition of the material on the exterior\n",
    "- Foundation: Type of foundation\n",
    "- BsmtQual: Height of the basement\n",
    "- BsmtCond: General condition of the basement\n",
    "- BsmtExposure: Walkout or garden level basement walls\n",
    "- BsmtFinType1: Quality of basement finished area\n",
    "- BsmtFinSF1: Type 1 finished square feet\n",
    "- BsmtFinType2: Quality of second finished area (if present)\n",
    "- BsmtFinSF2: Type 2 finished square feet\n",
    "- BsmtUnfSF: Unfinished square feet of basement area\n",
    "- TotalBsmtSF: Total square feet of basement area\n",
    "- Heating: Type of heating\n",
    "- HeatingQC: Heating quality and condition\n",
    "- CentralAir: Central air conditioning\n",
    "- Electrical: Electrical system\n",
    "- 1stFlrSF: First Floor square feet\n",
    "- 2ndFlrSF: Second floor square feet\n",
    "- LowQualFinSF: Low quality finished square feet (all floors)\n",
    "- GrLivArea: Above grade (ground) living area square feet\n",
    "- BsmtFullBath: Basement full bathrooms\n",
    "- BsmtHalfBath: Basement half bathrooms\n",
    "- FullBath: Full bathrooms above grade\n",
    "- HalfBath: Half baths above grade\n",
    "- Bedroom: Number of bedrooms above basement level\n",
    "- Kitchen: Number of kitchens\n",
    "- KitchenQual: Kitchen quality\n",
    "- TotRmsAbvGrd: Total rooms above grade (does not include bathrooms)\n",
    "- Functional: Home functionality rating\n",
    "- Fireplaces: Number of fireplaces\n",
    "- FireplaceQu: Fireplace quality\n",
    "- GarageType: Garage location\n",
    "- GarageYrBlt: Year garage was built\n",
    "- GarageFinish: Interior finish of the garage\n",
    "- GarageCars: Size of garage in car capacity\n",
    "- GarageArea: Size of garage in square feet\n",
    "- GarageQual: Garage quality\n",
    "- GarageCond: Garage condition\n",
    "- PavedDrive: Paved driveway\n",
    "- WoodDeckSF: Wood deck area in square feet\n",
    "- OpenPorchSF: Open porch area in square feet\n",
    "- EnclosedPorch: Enclosed porch area in square feet\n",
    "- 3SsnPorch: Three season porch area in square feet\n",
    "- ScreenPorch: Screen porch area in square feet\n",
    "- PoolArea: Pool area in square feet\n",
    "- PoolQC: Pool quality\n",
    "- Fence: Fence quality\n",
    "- MiscFeature: Miscellaneous feature not covered in other categories\n",
    "- MiscVal: $Value of miscellaneous feature\n",
    "- MoSold: Month Sold\n",
    "- YrSold: Year Sold\n",
    "- SaleType: Type of sale\n",
    "- SaleCondition: Condition of sale"
   ]
  },
  {
   "cell_type": "code",
   "execution_count": 547,
   "metadata": {},
   "outputs": [
    {
     "name": "stdout",
     "output_type": "stream",
     "text": [
      "Basic packages imported!!!\n",
      "Model related packages imported!!!\n",
      "Basic notebook settings done!!!\n"
     ]
    }
   ],
   "source": [
    "# import packages.\n",
    "import pandas as pd\n",
    "import numpy as np\n",
    "import matplotlib.pyplot as plt\n",
    "import seaborn as sns\n",
    "print(\"Basic packages imported!!!\")\n",
    "\n",
    "from scipy import stats\n",
    "from scipy.stats import norm, skew #for some statistics\n",
    "from sklearn.preprocessing import StandardScaler\n",
    "from sklearn.model_selection import train_test_split\n",
    "from sklearn.metrics import r2_score\n",
    "from sklearn.metrics import mean_squared_error\n",
    "from sklearn.ensemble import RandomForestRegressor\n",
    "import math\n",
    "from scipy.stats import skew\n",
    "import collections\n",
    "print(\"Model related packages imported!!!\")\n",
    "\n",
    "import warnings\n",
    "\n",
    "%config IPCompleter.greedy = True # autocomplete feature.\n",
    "%matplotlib inline\n",
    "\n",
    "pd.options.display.precision = 2 # set the precision of floating point numbers.\n",
    "warnings.filterwarnings('ignore') # ignore warnings.\n",
    "\n",
    "print(\"Basic notebook settings done!!!\")"
   ]
  },
  {
   "cell_type": "code",
   "execution_count": 548,
   "metadata": {},
   "outputs": [],
   "source": [
    "# read dataset (train, test)\n",
    "df_train = pd.read_csv('train.csv')\n",
    "df_test = pd.read_csv('test.csv')"
   ]
  },
  {
   "cell_type": "code",
   "execution_count": 549,
   "metadata": {},
   "outputs": [
    {
     "data": {
      "text/html": [
       "<div>\n",
       "<style scoped>\n",
       "    .dataframe tbody tr th:only-of-type {\n",
       "        vertical-align: middle;\n",
       "    }\n",
       "\n",
       "    .dataframe tbody tr th {\n",
       "        vertical-align: top;\n",
       "    }\n",
       "\n",
       "    .dataframe thead th {\n",
       "        text-align: right;\n",
       "    }\n",
       "</style>\n",
       "<table border=\"1\" class=\"dataframe\">\n",
       "  <thead>\n",
       "    <tr style=\"text-align: right;\">\n",
       "      <th></th>\n",
       "      <th>Id</th>\n",
       "      <th>MSSubClass</th>\n",
       "      <th>LotFrontage</th>\n",
       "      <th>LotArea</th>\n",
       "      <th>OverallQual</th>\n",
       "      <th>OverallCond</th>\n",
       "      <th>YearBuilt</th>\n",
       "      <th>YearRemodAdd</th>\n",
       "      <th>MasVnrArea</th>\n",
       "      <th>BsmtFinSF1</th>\n",
       "      <th>...</th>\n",
       "      <th>WoodDeckSF</th>\n",
       "      <th>OpenPorchSF</th>\n",
       "      <th>EnclosedPorch</th>\n",
       "      <th>3SsnPorch</th>\n",
       "      <th>ScreenPorch</th>\n",
       "      <th>PoolArea</th>\n",
       "      <th>MiscVal</th>\n",
       "      <th>MoSold</th>\n",
       "      <th>YrSold</th>\n",
       "      <th>SalePrice</th>\n",
       "    </tr>\n",
       "  </thead>\n",
       "  <tbody>\n",
       "    <tr>\n",
       "      <th>count</th>\n",
       "      <td>1460.00</td>\n",
       "      <td>1460.0</td>\n",
       "      <td>1201.00</td>\n",
       "      <td>1460.00</td>\n",
       "      <td>1460.00</td>\n",
       "      <td>1460.00</td>\n",
       "      <td>1460.00</td>\n",
       "      <td>1460.00</td>\n",
       "      <td>1452.00</td>\n",
       "      <td>1460.00</td>\n",
       "      <td>...</td>\n",
       "      <td>1460.00</td>\n",
       "      <td>1460.00</td>\n",
       "      <td>1460.00</td>\n",
       "      <td>1460.00</td>\n",
       "      <td>1460.00</td>\n",
       "      <td>1460.00</td>\n",
       "      <td>1460.00</td>\n",
       "      <td>1460.00</td>\n",
       "      <td>1460.00</td>\n",
       "      <td>1460.0</td>\n",
       "    </tr>\n",
       "    <tr>\n",
       "      <th>mean</th>\n",
       "      <td>730.50</td>\n",
       "      <td>56.9</td>\n",
       "      <td>70.05</td>\n",
       "      <td>10516.83</td>\n",
       "      <td>6.10</td>\n",
       "      <td>5.58</td>\n",
       "      <td>1971.27</td>\n",
       "      <td>1984.87</td>\n",
       "      <td>103.69</td>\n",
       "      <td>443.64</td>\n",
       "      <td>...</td>\n",
       "      <td>94.24</td>\n",
       "      <td>46.66</td>\n",
       "      <td>21.95</td>\n",
       "      <td>3.41</td>\n",
       "      <td>15.06</td>\n",
       "      <td>2.76</td>\n",
       "      <td>43.49</td>\n",
       "      <td>6.32</td>\n",
       "      <td>2007.82</td>\n",
       "      <td>180921.2</td>\n",
       "    </tr>\n",
       "    <tr>\n",
       "      <th>std</th>\n",
       "      <td>421.61</td>\n",
       "      <td>42.3</td>\n",
       "      <td>24.28</td>\n",
       "      <td>9981.26</td>\n",
       "      <td>1.38</td>\n",
       "      <td>1.11</td>\n",
       "      <td>30.20</td>\n",
       "      <td>20.65</td>\n",
       "      <td>181.07</td>\n",
       "      <td>456.10</td>\n",
       "      <td>...</td>\n",
       "      <td>125.34</td>\n",
       "      <td>66.26</td>\n",
       "      <td>61.12</td>\n",
       "      <td>29.32</td>\n",
       "      <td>55.76</td>\n",
       "      <td>40.18</td>\n",
       "      <td>496.12</td>\n",
       "      <td>2.70</td>\n",
       "      <td>1.33</td>\n",
       "      <td>79442.5</td>\n",
       "    </tr>\n",
       "    <tr>\n",
       "      <th>min</th>\n",
       "      <td>1.00</td>\n",
       "      <td>20.0</td>\n",
       "      <td>21.00</td>\n",
       "      <td>1300.00</td>\n",
       "      <td>1.00</td>\n",
       "      <td>1.00</td>\n",
       "      <td>1872.00</td>\n",
       "      <td>1950.00</td>\n",
       "      <td>0.00</td>\n",
       "      <td>0.00</td>\n",
       "      <td>...</td>\n",
       "      <td>0.00</td>\n",
       "      <td>0.00</td>\n",
       "      <td>0.00</td>\n",
       "      <td>0.00</td>\n",
       "      <td>0.00</td>\n",
       "      <td>0.00</td>\n",
       "      <td>0.00</td>\n",
       "      <td>1.00</td>\n",
       "      <td>2006.00</td>\n",
       "      <td>34900.0</td>\n",
       "    </tr>\n",
       "    <tr>\n",
       "      <th>25%</th>\n",
       "      <td>365.75</td>\n",
       "      <td>20.0</td>\n",
       "      <td>59.00</td>\n",
       "      <td>7553.50</td>\n",
       "      <td>5.00</td>\n",
       "      <td>5.00</td>\n",
       "      <td>1954.00</td>\n",
       "      <td>1967.00</td>\n",
       "      <td>0.00</td>\n",
       "      <td>0.00</td>\n",
       "      <td>...</td>\n",
       "      <td>0.00</td>\n",
       "      <td>0.00</td>\n",
       "      <td>0.00</td>\n",
       "      <td>0.00</td>\n",
       "      <td>0.00</td>\n",
       "      <td>0.00</td>\n",
       "      <td>0.00</td>\n",
       "      <td>5.00</td>\n",
       "      <td>2007.00</td>\n",
       "      <td>129975.0</td>\n",
       "    </tr>\n",
       "    <tr>\n",
       "      <th>50%</th>\n",
       "      <td>730.50</td>\n",
       "      <td>50.0</td>\n",
       "      <td>69.00</td>\n",
       "      <td>9478.50</td>\n",
       "      <td>6.00</td>\n",
       "      <td>5.00</td>\n",
       "      <td>1973.00</td>\n",
       "      <td>1994.00</td>\n",
       "      <td>0.00</td>\n",
       "      <td>383.50</td>\n",
       "      <td>...</td>\n",
       "      <td>0.00</td>\n",
       "      <td>25.00</td>\n",
       "      <td>0.00</td>\n",
       "      <td>0.00</td>\n",
       "      <td>0.00</td>\n",
       "      <td>0.00</td>\n",
       "      <td>0.00</td>\n",
       "      <td>6.00</td>\n",
       "      <td>2008.00</td>\n",
       "      <td>163000.0</td>\n",
       "    </tr>\n",
       "    <tr>\n",
       "      <th>75%</th>\n",
       "      <td>1095.25</td>\n",
       "      <td>70.0</td>\n",
       "      <td>80.00</td>\n",
       "      <td>11601.50</td>\n",
       "      <td>7.00</td>\n",
       "      <td>6.00</td>\n",
       "      <td>2000.00</td>\n",
       "      <td>2004.00</td>\n",
       "      <td>166.00</td>\n",
       "      <td>712.25</td>\n",
       "      <td>...</td>\n",
       "      <td>168.00</td>\n",
       "      <td>68.00</td>\n",
       "      <td>0.00</td>\n",
       "      <td>0.00</td>\n",
       "      <td>0.00</td>\n",
       "      <td>0.00</td>\n",
       "      <td>0.00</td>\n",
       "      <td>8.00</td>\n",
       "      <td>2009.00</td>\n",
       "      <td>214000.0</td>\n",
       "    </tr>\n",
       "    <tr>\n",
       "      <th>max</th>\n",
       "      <td>1460.00</td>\n",
       "      <td>190.0</td>\n",
       "      <td>313.00</td>\n",
       "      <td>215245.00</td>\n",
       "      <td>10.00</td>\n",
       "      <td>9.00</td>\n",
       "      <td>2010.00</td>\n",
       "      <td>2010.00</td>\n",
       "      <td>1600.00</td>\n",
       "      <td>5644.00</td>\n",
       "      <td>...</td>\n",
       "      <td>857.00</td>\n",
       "      <td>547.00</td>\n",
       "      <td>552.00</td>\n",
       "      <td>508.00</td>\n",
       "      <td>480.00</td>\n",
       "      <td>738.00</td>\n",
       "      <td>15500.00</td>\n",
       "      <td>12.00</td>\n",
       "      <td>2010.00</td>\n",
       "      <td>755000.0</td>\n",
       "    </tr>\n",
       "  </tbody>\n",
       "</table>\n",
       "<p>8 rows × 38 columns</p>\n",
       "</div>"
      ],
      "text/plain": [
       "            Id  MSSubClass  LotFrontage    LotArea  OverallQual  OverallCond  \\\n",
       "count  1460.00      1460.0      1201.00    1460.00      1460.00      1460.00   \n",
       "mean    730.50        56.9        70.05   10516.83         6.10         5.58   \n",
       "std     421.61        42.3        24.28    9981.26         1.38         1.11   \n",
       "min       1.00        20.0        21.00    1300.00         1.00         1.00   \n",
       "25%     365.75        20.0        59.00    7553.50         5.00         5.00   \n",
       "50%     730.50        50.0        69.00    9478.50         6.00         5.00   \n",
       "75%    1095.25        70.0        80.00   11601.50         7.00         6.00   \n",
       "max    1460.00       190.0       313.00  215245.00        10.00         9.00   \n",
       "\n",
       "       YearBuilt  YearRemodAdd  MasVnrArea  BsmtFinSF1  ...  WoodDeckSF  \\\n",
       "count    1460.00       1460.00     1452.00     1460.00  ...     1460.00   \n",
       "mean     1971.27       1984.87      103.69      443.64  ...       94.24   \n",
       "std        30.20         20.65      181.07      456.10  ...      125.34   \n",
       "min      1872.00       1950.00        0.00        0.00  ...        0.00   \n",
       "25%      1954.00       1967.00        0.00        0.00  ...        0.00   \n",
       "50%      1973.00       1994.00        0.00      383.50  ...        0.00   \n",
       "75%      2000.00       2004.00      166.00      712.25  ...      168.00   \n",
       "max      2010.00       2010.00     1600.00     5644.00  ...      857.00   \n",
       "\n",
       "       OpenPorchSF  EnclosedPorch  3SsnPorch  ScreenPorch  PoolArea   MiscVal  \\\n",
       "count      1460.00        1460.00    1460.00      1460.00   1460.00   1460.00   \n",
       "mean         46.66          21.95       3.41        15.06      2.76     43.49   \n",
       "std          66.26          61.12      29.32        55.76     40.18    496.12   \n",
       "min           0.00           0.00       0.00         0.00      0.00      0.00   \n",
       "25%           0.00           0.00       0.00         0.00      0.00      0.00   \n",
       "50%          25.00           0.00       0.00         0.00      0.00      0.00   \n",
       "75%          68.00           0.00       0.00         0.00      0.00      0.00   \n",
       "max         547.00         552.00     508.00       480.00    738.00  15500.00   \n",
       "\n",
       "        MoSold   YrSold  SalePrice  \n",
       "count  1460.00  1460.00     1460.0  \n",
       "mean      6.32  2007.82   180921.2  \n",
       "std       2.70     1.33    79442.5  \n",
       "min       1.00  2006.00    34900.0  \n",
       "25%       5.00  2007.00   129975.0  \n",
       "50%       6.00  2008.00   163000.0  \n",
       "75%       8.00  2009.00   214000.0  \n",
       "max      12.00  2010.00   755000.0  \n",
       "\n",
       "[8 rows x 38 columns]"
      ]
     },
     "execution_count": 549,
     "metadata": {},
     "output_type": "execute_result"
    }
   ],
   "source": [
    "df_train.describe()"
   ]
  },
  {
   "cell_type": "code",
   "execution_count": 550,
   "metadata": {},
   "outputs": [
    {
     "name": "stdout",
     "output_type": "stream",
     "text": [
      "LotFrontage \t: 259\n",
      "Alley \t: 1369\n",
      "MasVnrType \t: 8\n",
      "MasVnrArea \t: 8\n",
      "BsmtQual \t: 37\n",
      "BsmtCond \t: 37\n",
      "BsmtExposure \t: 38\n",
      "BsmtFinType1 \t: 37\n",
      "BsmtFinType2 \t: 38\n",
      "Electrical \t: 1\n",
      "FireplaceQu \t: 690\n",
      "GarageType \t: 81\n",
      "GarageYrBlt \t: 81\n",
      "GarageFinish \t: 81\n",
      "GarageQual \t: 81\n",
      "GarageCond \t: 81\n",
      "PoolQC \t: 1453\n",
      "Fence \t: 1179\n",
      "MiscFeature \t: 1406\n",
      "#################################################################\n",
      "Total columns :  81\n"
     ]
    }
   ],
   "source": [
    "dic = {df_train.columns[i] : df_train.isnull().sum()[i] for i in range(len(df_train.isnull().sum()))}\n",
    "for key, val in dic.items():\n",
    "    if(val > 0):\n",
    "        print(\"{} \\t: {}\".format(key, val))\n",
    "print(\"#\"*65)      \n",
    "print(\"Total columns : \", len(df_train.columns))"
   ]
  },
  {
   "cell_type": "markdown",
   "metadata": {},
   "source": [
    "### Above is the count of missing values in respective columns/features."
   ]
  },
  {
   "cell_type": "code",
   "execution_count": 551,
   "metadata": {},
   "outputs": [
    {
     "data": {
      "text/plain": [
       "Index(['Id', 'MSSubClass', 'MSZoning', 'LotFrontage', 'LotArea', 'Street',\n",
       "       'Alley', 'LotShape', 'LandContour', 'Utilities', 'LotConfig',\n",
       "       'LandSlope', 'Neighborhood', 'Condition1', 'Condition2', 'BldgType',\n",
       "       'HouseStyle', 'OverallQual', 'OverallCond', 'YearBuilt', 'YearRemodAdd',\n",
       "       'RoofStyle', 'RoofMatl', 'Exterior1st', 'Exterior2nd', 'MasVnrType',\n",
       "       'MasVnrArea', 'ExterQual', 'ExterCond', 'Foundation', 'BsmtQual',\n",
       "       'BsmtCond', 'BsmtExposure', 'BsmtFinType1', 'BsmtFinSF1',\n",
       "       'BsmtFinType2', 'BsmtFinSF2', 'BsmtUnfSF', 'TotalBsmtSF', 'Heating',\n",
       "       'HeatingQC', 'CentralAir', 'Electrical', '1stFlrSF', '2ndFlrSF',\n",
       "       'LowQualFinSF', 'GrLivArea', 'BsmtFullBath', 'BsmtHalfBath', 'FullBath',\n",
       "       'HalfBath', 'BedroomAbvGr', 'KitchenAbvGr', 'KitchenQual',\n",
       "       'TotRmsAbvGrd', 'Functional', 'Fireplaces', 'FireplaceQu', 'GarageType',\n",
       "       'GarageYrBlt', 'GarageFinish', 'GarageCars', 'GarageArea', 'GarageQual',\n",
       "       'GarageCond', 'PavedDrive', 'WoodDeckSF', 'OpenPorchSF',\n",
       "       'EnclosedPorch', '3SsnPorch', 'ScreenPorch', 'PoolArea', 'PoolQC',\n",
       "       'Fence', 'MiscFeature', 'MiscVal', 'MoSold', 'YrSold', 'SaleType',\n",
       "       'SaleCondition', 'SalePrice'],\n",
       "      dtype='object')"
      ]
     },
     "execution_count": 551,
     "metadata": {},
     "output_type": "execute_result"
    }
   ],
   "source": [
    "df_train.columns"
   ]
  },
  {
   "cell_type": "markdown",
   "metadata": {},
   "source": [
    "#### Analysing SalePrice\n",
    "\n",
    "SalePrice is the variable we need to predict. So let's do some analysis on this variable first."
   ]
  },
  {
   "cell_type": "code",
   "execution_count": 552,
   "metadata": {},
   "outputs": [
    {
     "name": "stdout",
     "output_type": "stream",
     "text": [
      "Skewness: 1.882876\n",
      "Kurtosis: 6.536282\n"
     ]
    },
    {
     "data": {
      "image/png": "[encoded data removed]",
      "text/plain": [
       "<Figure size 432x288 with 1 Axes>"
      ]
     },
     "metadata": {
      "needs_background": "light"
     },
     "output_type": "display_data"
    },
    {
     "data": {
      "image/png": "[encoded data removed]",
      "text/plain": [
       "<Figure size 432x288 with 1 Axes>"
      ]
     },
     "metadata": {
      "needs_background": "light"
     },
     "output_type": "display_data"
    }
   ],
   "source": [
    "# First things first: analysing 'SalePrice'\n",
    "(mu, sigma) = norm.fit(df_train['SalePrice'])\n",
    "sns.distplot(df_train.SalePrice, fit=norm)\n",
    "plt.legend(['Normal dist. ($\\mu=$ {:.2f} and $\\sigma=$ {:.2f} )'.format(mu, sigma)], loc='best')\n",
    "plt.ylabel('Frequency')\n",
    "plt.title('SalePrice distribution')\n",
    "\n",
    "#skewness and kurtosis\n",
    "print(\"Skewness: %f\" % df_train['SalePrice'].skew())\n",
    "print(\"Kurtosis: %f\" % df_train['SalePrice'].kurt())\n",
    "\n",
    "fig = plt.figure()\n",
    "res = stats.probplot(df_train['SalePrice'], plot=plt)\n",
    "plt.show()"
   ]
  },
  {
   "cell_type": "markdown",
   "metadata": {},
   "source": [
    "The target variable is right skewed. As (linear) models love normally distributed data , we need to transform this variable and make it more normally distributed"
   ]
  },
  {
   "cell_type": "markdown",
   "metadata": {},
   "source": [
    "kurtosis(X)=E[(X−μσ)4]\n",
    " \n",
    "https://en.wikipedia.org/wiki/Kurtosis"
   ]
  },
  {
   "cell_type": "code",
   "execution_count": 553,
   "metadata": {},
   "outputs": [
    {
     "name": "stdout",
     "output_type": "stream",
     "text": [
      "Skewness: 0.121347\n",
      "Kurtosis: 0.809519\n"
     ]
    },
    {
     "data": {
      "image/png": "[encoded data removed]",
      "text/plain": [
       "<Figure size 432x288 with 1 Axes>"
      ]
     },
     "metadata": {
      "needs_background": "light"
     },
     "output_type": "display_data"
    },
    {
     "data": {
      "image/png": "[encoded data removed]",
      "text/plain": [
       "<Figure size 432x288 with 1 Axes>"
      ]
     },
     "metadata": {
      "needs_background": "light"
     },
     "output_type": "display_data"
    }
   ],
   "source": [
    "# First things first: analysing 'SalePrice'\n",
    "sales_normal = np.log1p(df_train.SalePrice)\n",
    "\n",
    "(mu, sigma) = norm.fit(sales_normal)\n",
    "sns.distplot(sales_normal, fit=norm)\n",
    "\n",
    "plt.legend(['Normal dist. ($\\mu=$ {:.2f} and $\\sigma=$ {:.2f} )'.format(mu, sigma)], loc='best')\n",
    "plt.ylabel('Frequency')\n",
    "plt.title('SalePrice distribution')\n",
    "\n",
    "#skewness and kurtosis\n",
    "print(\"Skewness: %f\" % sales_normal.skew())\n",
    "print(\"Kurtosis: %f\" % sales_normal.kurt())\n",
    "\n",
    "fig = plt.figure()\n",
    "res = stats.probplot(sales_normal, plot=plt)\n",
    "plt.show()"
   ]
  },
  {
   "cell_type": "markdown",
   "metadata": {},
   "source": [
    "The skew seems now corrected and the data appears more normally distributed."
   ]
  },
  {
   "cell_type": "markdown",
   "metadata": {},
   "source": [
    "#### Find missing values"
   ]
  },
  {
   "cell_type": "code",
   "execution_count": 554,
   "metadata": {},
   "outputs": [
    {
     "data": {
      "text/plain": [
       "RoofStyle        0.0\n",
       "TotalBsmtSF      0.0\n",
       "SaleCondition    0.0\n",
       "RoofMatl         0.0\n",
       "Exterior1st      0.0\n",
       "Exterior2nd      0.0\n",
       "MasVnrType       0.0\n",
       "MasVnrArea       0.0\n",
       "ExterQual        0.0\n",
       "ExterCond        0.0\n",
       "Foundation       0.0\n",
       "BsmtQual         0.0\n",
       "BsmtCond         0.0\n",
       "BsmtExposure     0.0\n",
       "BsmtFinType1     0.0\n",
       "BsmtFinSF1       0.0\n",
       "BsmtFinType2     0.0\n",
       "BsmtFinSF2       0.0\n",
       "BsmtUnfSF        0.0\n",
       "SalePrice        0.0\n",
       "dtype: float64"
      ]
     },
     "execution_count": 554,
     "metadata": {},
     "output_type": "execute_result"
    }
   ],
   "source": [
    "train_data_na.sort_values(ascending=False)[:20]"
   ]
  },
  {
   "cell_type": "code",
   "execution_count": null,
   "metadata": {},
   "outputs": [],
   "source": []
  },
  {
   "cell_type": "code",
   "execution_count": 555,
   "metadata": {},
   "outputs": [
    {
     "data": {
      "text/html": [
       "<div>\n",
       "<style scoped>\n",
       "    .dataframe tbody tr th:only-of-type {\n",
       "        vertical-align: middle;\n",
       "    }\n",
       "\n",
       "    .dataframe tbody tr th {\n",
       "        vertical-align: top;\n",
       "    }\n",
       "\n",
       "    .dataframe thead th {\n",
       "        text-align: right;\n",
       "    }\n",
       "</style>\n",
       "<table border=\"1\" class=\"dataframe\">\n",
       "  <thead>\n",
       "    <tr style=\"text-align: right;\">\n",
       "      <th></th>\n",
       "      <th>Missing Count</th>\n",
       "      <th>Missing Ratio</th>\n",
       "    </tr>\n",
       "  </thead>\n",
       "  <tbody>\n",
       "    <tr>\n",
       "      <th>PoolQC</th>\n",
       "      <td>1453</td>\n",
       "      <td>99.52</td>\n",
       "    </tr>\n",
       "    <tr>\n",
       "      <th>MiscFeature</th>\n",
       "      <td>1406</td>\n",
       "      <td>96.30</td>\n",
       "    </tr>\n",
       "    <tr>\n",
       "      <th>Alley</th>\n",
       "      <td>1369</td>\n",
       "      <td>93.77</td>\n",
       "    </tr>\n",
       "    <tr>\n",
       "      <th>Fence</th>\n",
       "      <td>1179</td>\n",
       "      <td>80.75</td>\n",
       "    </tr>\n",
       "    <tr>\n",
       "      <th>FireplaceQu</th>\n",
       "      <td>690</td>\n",
       "      <td>47.26</td>\n",
       "    </tr>\n",
       "    <tr>\n",
       "      <th>LotFrontage</th>\n",
       "      <td>259</td>\n",
       "      <td>17.74</td>\n",
       "    </tr>\n",
       "    <tr>\n",
       "      <th>GarageCond</th>\n",
       "      <td>81</td>\n",
       "      <td>5.55</td>\n",
       "    </tr>\n",
       "    <tr>\n",
       "      <th>GarageType</th>\n",
       "      <td>81</td>\n",
       "      <td>5.55</td>\n",
       "    </tr>\n",
       "    <tr>\n",
       "      <th>GarageYrBlt</th>\n",
       "      <td>81</td>\n",
       "      <td>5.55</td>\n",
       "    </tr>\n",
       "    <tr>\n",
       "      <th>GarageFinish</th>\n",
       "      <td>81</td>\n",
       "      <td>5.55</td>\n",
       "    </tr>\n",
       "    <tr>\n",
       "      <th>GarageQual</th>\n",
       "      <td>81</td>\n",
       "      <td>5.55</td>\n",
       "    </tr>\n",
       "    <tr>\n",
       "      <th>BsmtExposure</th>\n",
       "      <td>38</td>\n",
       "      <td>2.60</td>\n",
       "    </tr>\n",
       "    <tr>\n",
       "      <th>BsmtFinType2</th>\n",
       "      <td>38</td>\n",
       "      <td>2.60</td>\n",
       "    </tr>\n",
       "    <tr>\n",
       "      <th>BsmtFinType1</th>\n",
       "      <td>37</td>\n",
       "      <td>2.53</td>\n",
       "    </tr>\n",
       "    <tr>\n",
       "      <th>BsmtCond</th>\n",
       "      <td>37</td>\n",
       "      <td>2.53</td>\n",
       "    </tr>\n",
       "    <tr>\n",
       "      <th>BsmtQual</th>\n",
       "      <td>37</td>\n",
       "      <td>2.53</td>\n",
       "    </tr>\n",
       "    <tr>\n",
       "      <th>MasVnrArea</th>\n",
       "      <td>8</td>\n",
       "      <td>0.55</td>\n",
       "    </tr>\n",
       "    <tr>\n",
       "      <th>MasVnrType</th>\n",
       "      <td>8</td>\n",
       "      <td>0.55</td>\n",
       "    </tr>\n",
       "    <tr>\n",
       "      <th>Electrical</th>\n",
       "      <td>1</td>\n",
       "      <td>0.07</td>\n",
       "    </tr>\n",
       "    <tr>\n",
       "      <th>Utilities</th>\n",
       "      <td>0</td>\n",
       "      <td>0.00</td>\n",
       "    </tr>\n",
       "  </tbody>\n",
       "</table>\n",
       "</div>"
      ],
      "text/plain": [
       "              Missing Count  Missing Ratio\n",
       "PoolQC                 1453          99.52\n",
       "MiscFeature            1406          96.30\n",
       "Alley                  1369          93.77\n",
       "Fence                  1179          80.75\n",
       "FireplaceQu             690          47.26\n",
       "LotFrontage             259          17.74\n",
       "GarageCond               81           5.55\n",
       "GarageType               81           5.55\n",
       "GarageYrBlt              81           5.55\n",
       "GarageFinish             81           5.55\n",
       "GarageQual               81           5.55\n",
       "BsmtExposure             38           2.60\n",
       "BsmtFinType2             38           2.60\n",
       "BsmtFinType1             37           2.53\n",
       "BsmtCond                 37           2.53\n",
       "BsmtQual                 37           2.53\n",
       "MasVnrArea                8           0.55\n",
       "MasVnrType                8           0.55\n",
       "Electrical                1           0.07\n",
       "Utilities                 0           0.00"
      ]
     },
     "execution_count": 555,
     "metadata": {},
     "output_type": "execute_result"
    }
   ],
   "source": [
    "train_data_na = (df_train.isnull().sum()/len(df_train)) * 100\n",
    "train_data_na = train_data_na.sort_values(ascending=False)[:20]\n",
    "\n",
    "train_data_na_count = df_train.isnull().sum().sort_values(ascending=False)[:20]\n",
    "\n",
    "missing_data = pd.DataFrame({'Missing Count' : train_data_na_count, 'Missing Ratio' : train_data_na})\n",
    "missing_data.head(20)"
   ]
  },
  {
   "cell_type": "code",
   "execution_count": 556,
   "metadata": {},
   "outputs": [
    {
     "data": {
      "text/plain": [
       "Text(0.5, 1.0, 'Percent missing data by feature')"
      ]
     },
     "execution_count": 556,
     "metadata": {},
     "output_type": "execute_result"
    },
    {
     "data": {
      "image/png": "[encoded data removed]",
      "text/plain": [
       "<Figure size 1080x360 with 1 Axes>"
      ]
     },
     "metadata": {
      "needs_background": "light"
     },
     "output_type": "display_data"
    }
   ],
   "source": [
    "f, ax = plt.subplots(figsize=(15, 5))\n",
    "plt.xticks(rotation='90')\n",
    "sns.barplot(x=train_data_na.index, y=train_data_na)\n",
    "plt.xlabel('Features', fontsize=15)\n",
    "plt.ylabel('Percent of missing values', fontsize=15)\n",
    "plt.title('Percent missing data by feature', fontsize=15)"
   ]
  },
  {
   "cell_type": "markdown",
   "metadata": {},
   "source": [
    "#### Imputing missing values\n",
    "\n",
    "We impute them by proceeding sequentially through features with missing values"
   ]
  },
  {
   "cell_type": "code",
   "execution_count": 557,
   "metadata": {},
   "outputs": [],
   "source": [
    "df_train.PoolQC = df_train.PoolQC.fillna(\"None\")\n",
    "df_test.PoolQC = df_test.PoolQC.fillna(\"None\")"
   ]
  },
  {
   "cell_type": "markdown",
   "metadata": {},
   "source": [
    "PoolQC : data description says NA means \"No Pool\".<br> \n",
    "That make sense, given the huge ratio of missing value (+99%) and majority of houses have no Pool at all in general."
   ]
  },
  {
   "cell_type": "code",
   "execution_count": 558,
   "metadata": {},
   "outputs": [],
   "source": [
    "df_train.MiscFeature = df_train.MiscFeature.fillna(\"None\")\n",
    "df_test.MiscFeature = df_test.MiscFeature.fillna(\"None\")"
   ]
  },
  {
   "cell_type": "markdown",
   "metadata": {},
   "source": [
    "MiscFeature : data description says NA means \"no misc feature\""
   ]
  },
  {
   "cell_type": "code",
   "execution_count": 559,
   "metadata": {},
   "outputs": [],
   "source": [
    "df_train.Alley = df_train.Alley.fillna(\"None\")\n",
    "df_test.Alley = df_test.Alley.fillna(\"None\")"
   ]
  },
  {
   "cell_type": "markdown",
   "metadata": {},
   "source": [
    " Alley : data description says NA means \"no alley access\""
   ]
  },
  {
   "cell_type": "code",
   "execution_count": 560,
   "metadata": {},
   "outputs": [],
   "source": [
    "df_train.Fence = df_train.Fence.fillna(\"None\")\n",
    "df_test.Fence = df_test.Fence.fillna(\"None\")"
   ]
  },
  {
   "cell_type": "markdown",
   "metadata": {},
   "source": [
    "Fence : data description says NA means \"no fence\""
   ]
  },
  {
   "cell_type": "code",
   "execution_count": 561,
   "metadata": {},
   "outputs": [],
   "source": [
    "df_train.FireplaceQu = df_train.FireplaceQu.fillna(\"None\")\n",
    "df_test.FireplaceQu = df_test.FireplaceQu.fillna(\"None\")"
   ]
  },
  {
   "cell_type": "markdown",
   "metadata": {},
   "source": [
    "FireplaceQu : data description says NA means \"no fireplace\""
   ]
  },
  {
   "cell_type": "code",
   "execution_count": 562,
   "metadata": {},
   "outputs": [],
   "source": [
    "df_train.LotFrontage = df_train.groupby(\"Neighborhood\").LotFrontage.transform(lambda x: x.fillna(x.median()))\n",
    "df_test.LotFrontage = df_test.groupby(\"Neighborhood\").LotFrontage.transform(lambda x: x.fillna(x.median()))"
   ]
  },
  {
   "cell_type": "markdown",
   "metadata": {},
   "source": [
    "LotFrontage : Neighbourhood houses on the same streed are most likely to have similar area, thus, <br>we can fill in missing values by the median LotFrontage of the neighborhood.<br>\n",
    " Group by neighborhood and fill in missing value by the median LotFrontage of all the neighborhood"
   ]
  },
  {
   "cell_type": "code",
   "execution_count": 563,
   "metadata": {},
   "outputs": [],
   "source": [
    "for col in ('GarageType', 'GarageFinish', 'GarageQual', 'GarageCond'):\n",
    "    df_train[col] = df_train[col].fillna('None')\n",
    "    df_test[col] = df_test[col].fillna('None')"
   ]
  },
  {
   "cell_type": "markdown",
   "metadata": {},
   "source": [
    "GarageType, GarageFinish, GarageQual and GarageCond : Replacing missing data with None"
   ]
  },
  {
   "cell_type": "code",
   "execution_count": 564,
   "metadata": {},
   "outputs": [],
   "source": [
    "for col in ('GarageYrBlt', 'GarageArea', 'GarageCars'):\n",
    "    df_train[col] = df_train[col].fillna(0)\n",
    "    df_test[col] = df_test[col].fillna(0)"
   ]
  },
  {
   "cell_type": "markdown",
   "metadata": {},
   "source": [
    "GarageYrBlt, GarageArea and GarageCars : Replacing missing data with 0 (Since No garage = no cars in such garage.)"
   ]
  },
  {
   "cell_type": "code",
   "execution_count": 565,
   "metadata": {},
   "outputs": [],
   "source": [
    "# Althogh these columns dont have any missing values, these need to be handled like below\n",
    "# BsmtFinSF1, BsmtFinSF2, BsmtUnfSF, TotalBsmtSF, BsmtFullBath and BsmtHalfBath : missing values are likely zero for having no basement\n",
    "for col in ('BsmtFinSF1', 'BsmtFinSF2', 'BsmtUnfSF','TotalBsmtSF', 'BsmtFullBath', 'BsmtHalfBath'):\n",
    "    df_train[col] = df_train[col].fillna(0)\n",
    "    df_test[col] = df_test[col].fillna(0)"
   ]
  },
  {
   "cell_type": "code",
   "execution_count": 566,
   "metadata": {},
   "outputs": [],
   "source": [
    "for col in ('BsmtQual', 'BsmtCond', 'BsmtExposure', 'BsmtFinType1', 'BsmtFinType2'):\n",
    "    df_train[col] = df_train[col].fillna('None')\n",
    "    df_test[col] = df_test[col].fillna('None')"
   ]
  },
  {
   "cell_type": "markdown",
   "metadata": {},
   "source": [
    "BsmtQual, BsmtCond, BsmtExposure, BsmtFinType1 and BsmtFinType2 :<br> \n",
    "For all these categorical basement-related features, NaN means that there is no basement."
   ]
  },
  {
   "cell_type": "code",
   "execution_count": 567,
   "metadata": {},
   "outputs": [],
   "source": [
    "df_train.MasVnrType = df_train.MasVnrType.fillna(\"None\")\n",
    "df_train.MasVnrArea = df_train.MasVnrArea.fillna(0)\n",
    "\n",
    "df_test.MasVnrType = df_test.MasVnrType.fillna(\"None\")\n",
    "df_test.MasVnrArea = df_test.MasVnrArea.fillna(0)"
   ]
  },
  {
   "cell_type": "markdown",
   "metadata": {},
   "source": [
    "MasVnrArea and MasVnrType : NA most likely means no masonry veneer for these houses. <br>\n",
    "We can fill 0 for the area and None for the type."
   ]
  },
  {
   "cell_type": "code",
   "execution_count": 568,
   "metadata": {},
   "outputs": [
    {
     "name": "stdout",
     "output_type": "stream",
     "text": [
      "AllPub    1459\n",
      "NoSeWa       1\n",
      "Name: Utilities, dtype: int64\n",
      "#################################################################\n",
      "AllPub    1457\n",
      "Name: Utilities, dtype: int64\n"
     ]
    }
   ],
   "source": [
    "print(df_train.Utilities.value_counts())\n",
    "print(\"#\"*65)\n",
    "print(df_test.Utilities.value_counts())"
   ]
  },
  {
   "cell_type": "code",
   "execution_count": 569,
   "metadata": {},
   "outputs": [],
   "source": [
    "df_train = df_train.drop(['Utilities'], axis=1)\n",
    "df_test = df_test.drop(['Utilities'], axis=1)"
   ]
  },
  {
   "cell_type": "markdown",
   "metadata": {},
   "source": [
    "Utilities : For this categorical feature all records are \"AllPub\", \n",
    " except for one \"NoSeWa\". <br>Since the house with 'NoSewa' is in the training set, \n",
    " this feature won't help in predictive modelling. We can then safely remove it."
   ]
  },
  {
   "cell_type": "code",
   "execution_count": 570,
   "metadata": {},
   "outputs": [],
   "source": [
    "df_train.Electrical = df_train.Electrical.fillna(df_train.Electrical.mode()[0])\n",
    "df_test.Electrical = df_test.Electrical.fillna(df_test.Electrical.mode()[0])"
   ]
  },
  {
   "cell_type": "markdown",
   "metadata": {},
   "source": [
    "Electrical : It has one NA value. Since this feature has mostly 'SBrkr', we can set that for the missing value."
   ]
  },
  {
   "cell_type": "code",
   "execution_count": 571,
   "metadata": {},
   "outputs": [],
   "source": [
    "# Althogh these columns dont have any missing values, these need to be handled like below\n",
    "# MSZoning (The general zoning classification) : 'RL' is by far the most common value. So we can fill in missing values with 'RL'\n",
    "df_train.MSZoning = df_train.MSZoning.fillna(df_train.MSZoning.mode()[0])\n",
    "df_test.MSZoning = df_test.MSZoning.fillna(df_test.MSZoning.mode()[0])\n",
    "\n",
    "# Functional : data description says NA means typical\n",
    "df_train.Functional = df_train.Functional.fillna(\"Typ\")\n",
    "df_test.Functional = df_test.Functional.fillna(\"Typ\")\n",
    "\n",
    "# KitchenQual: Only one NA value, and same as Electrical, \n",
    "# we set 'TA' (which is the most frequent) for the missing value in KitchenQual.\n",
    "df_train.KitchenQual = df_train.KitchenQual.fillna(df_train.KitchenQual.mode()[0])\n",
    "df_test.KitchenQual = df_test.KitchenQual.fillna(df_test.KitchenQual.mode()[0])\n",
    "\n",
    "# Exterior1st and Exterior2nd : Again Both Exterior 1 & 2 have only one missing value. \n",
    "# We will just substitute in the most common string\n",
    "df_train.Exterior1st = df_train.Exterior1st.fillna(df_train.Exterior1st.mode()[0])\n",
    "df_train.Exterior2nd = df_train.Exterior2nd.fillna(df_train.Exterior2nd.mode()[0])\n",
    "\n",
    "df_test.Exterior1st = df_test.Exterior1st.fillna(df_test.Exterior1st.mode()[0])\n",
    "df_test.Exterior2nd = df_test.Exterior2nd.fillna(df_test.Exterior2nd.mode()[0])\n",
    "\n",
    "# SaleType : Fill in again with most frequent which is \"WD\"\n",
    "df_train.SaleType = df_train.SaleType.fillna(df_train.SaleType.mode()[0])\n",
    "df_test.SaleType = df_test.SaleType.fillna(df_test.SaleType.mode()[0])\n",
    "\n",
    "# MSSubClass : Na most likely means No building class. We can replace missing values with None\n",
    "df_train.MSSubClass = df_train.MSSubClass.fillna(\"None\")\n",
    "df_test.MSSubClass = df_test.MSSubClass.fillna(\"None\")"
   ]
  },
  {
   "cell_type": "markdown",
   "metadata": {},
   "source": [
    "### Is there any remaining missing value ?\n",
    "### Check remaining missing values if any "
   ]
  },
  {
   "cell_type": "code",
   "execution_count": 572,
   "metadata": {},
   "outputs": [
    {
     "data": {
      "text/html": [
       "<div>\n",
       "<style scoped>\n",
       "    .dataframe tbody tr th:only-of-type {\n",
       "        vertical-align: middle;\n",
       "    }\n",
       "\n",
       "    .dataframe tbody tr th {\n",
       "        vertical-align: top;\n",
       "    }\n",
       "\n",
       "    .dataframe thead th {\n",
       "        text-align: right;\n",
       "    }\n",
       "</style>\n",
       "<table border=\"1\" class=\"dataframe\">\n",
       "  <thead>\n",
       "    <tr style=\"text-align: right;\">\n",
       "      <th></th>\n",
       "      <th>Missing Count</th>\n",
       "      <th>Missing Ratio</th>\n",
       "    </tr>\n",
       "  </thead>\n",
       "  <tbody>\n",
       "    <tr>\n",
       "      <th>SalePrice</th>\n",
       "      <td>0</td>\n",
       "      <td>0.0</td>\n",
       "    </tr>\n",
       "    <tr>\n",
       "      <th>SaleCondition</th>\n",
       "      <td>0</td>\n",
       "      <td>0.0</td>\n",
       "    </tr>\n",
       "  </tbody>\n",
       "</table>\n",
       "</div>"
      ],
      "text/plain": [
       "               Missing Count  Missing Ratio\n",
       "SalePrice                  0            0.0\n",
       "SaleCondition              0            0.0"
      ]
     },
     "execution_count": 572,
     "metadata": {},
     "output_type": "execute_result"
    }
   ],
   "source": [
    "train_data_na = (df_train.isnull().sum()/len(df_train)) * 100\n",
    "train_data_na = train_data_na.sort_values(ascending=False)[:20]\n",
    "\n",
    "train_data_na_count = df_train.isnull().sum().sort_values(ascending=False)[:20]\n",
    "\n",
    "missing_data = pd.DataFrame({'Missing Count' : train_data_na_count, 'Missing Ratio' : train_data_na})\n",
    "missing_data.head(2)"
   ]
  },
  {
   "cell_type": "markdown",
   "metadata": {},
   "source": [
    "It remains no missing value."
   ]
  },
  {
   "cell_type": "markdown",
   "metadata": {},
   "source": [
    "#### Adding one more important feature\n",
    "Since area related features are very important to determine house prices, \n",
    "we add one more feature which is the total area of basement, first and second floor areas of each house"
   ]
  },
  {
   "cell_type": "code",
   "execution_count": 573,
   "metadata": {},
   "outputs": [],
   "source": [
    "# Adding total sqfootage feature \n",
    "#all_data['TotalSF'] = all_data['TotalBsmtSF'] + all_data['1stFlrSF'] + all_data['2ndFlrSF']\n",
    "df_train['TotalSF'] = df_train['TotalBsmtSF'] + df_train['1stFlrSF'] + df_train['2ndFlrSF']\n",
    "df_test['TotalSF'] = df_test['TotalBsmtSF'] + df_test['1stFlrSF'] + df_test['2ndFlrSF']"
   ]
  },
  {
   "cell_type": "code",
   "execution_count": null,
   "metadata": {},
   "outputs": [],
   "source": []
  },
  {
   "cell_type": "markdown",
   "metadata": {},
   "source": [
    "#### check the numbers of samples and features"
   ]
  },
  {
   "cell_type": "code",
   "execution_count": 574,
   "metadata": {},
   "outputs": [
    {
     "name": "stdout",
     "output_type": "stream",
     "text": [
      "The train data size before dropping Id feature is : (1460, 81) \n",
      "The test data size before dropping Id feature is : (1459, 80) \n",
      "\n",
      "The train data size after dropping Id feature is : (1460, 80) \n",
      "The test data size after dropping Id feature is : (1459, 79) \n"
     ]
    }
   ],
   "source": [
    "print(\"The train data size before dropping Id feature is : {} \".format(df_train.shape))\n",
    "print(\"The test data size before dropping Id feature is : {} \".format(df_test.shape))\n",
    "\n",
    "#Save the 'Id' column\n",
    "train_ID = df_train['Id']\n",
    "test_ID = df_test['Id']\n",
    "\n",
    "#Now drop the  'Id' colum since it's unnecessary for  the prediction process.\n",
    "df_train.drop(\"Id\", axis = 1, inplace = True)\n",
    "df_test.drop(\"Id\", axis = 1, inplace = True)\n",
    "\n",
    "#check again the data size after dropping the 'Id' variable\n",
    "print(\"\\nThe train data size after dropping Id feature is : {} \".format(df_train.shape)) \n",
    "print(\"The test data size after dropping Id feature is : {} \".format(df_test.shape))"
   ]
  },
  {
   "cell_type": "markdown",
   "metadata": {},
   "source": [
    "### Merging the train and test data as one"
   ]
  },
  {
   "cell_type": "code",
   "execution_count": 575,
   "metadata": {},
   "outputs": [
    {
     "name": "stdout",
     "output_type": "stream",
     "text": [
      "all_data size is : (2919, 79)\n",
      "1460\n"
     ]
    }
   ],
   "source": [
    "# let's first concatenate the train and test data in the same dataframe\n",
    "ntrain = df_train.shape[0]\n",
    "ntest = df_test.shape[0]\n",
    "y_train_val = df_train.SalePrice.values\n",
    "all_data = pd.concat((df_train, df_test)).reset_index(drop=True)\n",
    "all_data.drop(['SalePrice'], axis=1, inplace=True)\n",
    "print(\"all_data size is : {}\".format(all_data.shape))\n",
    "print(ntrain)"
   ]
  },
  {
   "cell_type": "code",
   "execution_count": 576,
   "metadata": {},
   "outputs": [
    {
     "name": "stdout",
     "output_type": "stream",
     "text": [
      "Train set :  (1460, 79)\n",
      "Test set :  (1459, 79)\n"
     ]
    }
   ],
   "source": [
    "# Getting the new train and test sets.\n",
    "#train_preprocessed = all_data[lis][:ntrain]\n",
    "#test_preprocessed = all_data[lis][ntrain:]\n",
    "\n",
    "train_preprocessed = all_data[:ntrain]\n",
    "test_preprocessed = all_data[ntrain:]\n",
    "\n",
    "print('Train set : ', train_preprocessed.shape)\n",
    "print('Test set : ', test_preprocessed.shape)"
   ]
  },
  {
   "cell_type": "code",
   "execution_count": 577,
   "metadata": {},
   "outputs": [],
   "source": [
    "def get_zero_val_data(all_data):\n",
    "    '''\n",
    "    Returns a data frame containg data of colums having 0 value entries along with percentage\n",
    "    '''\n",
    "\n",
    "    miss_col=[]\n",
    "    zero_val=[]\n",
    "    perct=[]\n",
    "    for col in all_data.columns:\n",
    "        if all_data[all_data[col] == 0].count()[0] > 0:\n",
    "            #print(\"{} : {} \\t {}\".format(col, df_train[df_train[col] == 0].count()[0], \n",
    "             #                            df_train[df_train[col] == 0].count()[0]/len(df_train)))\n",
    "            miss_col.append(col)\n",
    "            zero_val.append(all_data[all_data[col] == 0].count()[0])\n",
    "            perct.append(all_data[all_data[col] == 0].count()[0]/len(all_data) * 100)\n",
    "\n",
    "    zero_data = pd.DataFrame({'Col Name' : miss_col, 'Count' : zero_val, 'Percentage' : perct})\n",
    "\n",
    "    zero_data = zero_data.sort_values(by='Count',ascending=False)[:20]\n",
    "    zero_data = zero_data.reset_index().drop(['index'], axis=1)\n",
    "    return zero_data\n"
   ]
  },
  {
   "cell_type": "code",
   "execution_count": 578,
   "metadata": {},
   "outputs": [
    {
     "data": {
      "text/html": [
       "<div>\n",
       "<style scoped>\n",
       "    .dataframe tbody tr th:only-of-type {\n",
       "        vertical-align: middle;\n",
       "    }\n",
       "\n",
       "    .dataframe tbody tr th {\n",
       "        vertical-align: top;\n",
       "    }\n",
       "\n",
       "    .dataframe thead th {\n",
       "        text-align: right;\n",
       "    }\n",
       "</style>\n",
       "<table border=\"1\" class=\"dataframe\">\n",
       "  <thead>\n",
       "    <tr style=\"text-align: right;\">\n",
       "      <th></th>\n",
       "      <th>Col Name</th>\n",
       "      <th>Count</th>\n",
       "      <th>Percentage</th>\n",
       "    </tr>\n",
       "  </thead>\n",
       "  <tbody>\n",
       "    <tr>\n",
       "      <th>0</th>\n",
       "      <td>PoolArea</td>\n",
       "      <td>2906</td>\n",
       "      <td>99.55</td>\n",
       "    </tr>\n",
       "    <tr>\n",
       "      <th>1</th>\n",
       "      <td>3SsnPorch</td>\n",
       "      <td>2882</td>\n",
       "      <td>98.73</td>\n",
       "    </tr>\n",
       "    <tr>\n",
       "      <th>2</th>\n",
       "      <td>LowQualFinSF</td>\n",
       "      <td>2879</td>\n",
       "      <td>98.63</td>\n",
       "    </tr>\n",
       "    <tr>\n",
       "      <th>3</th>\n",
       "      <td>MiscVal</td>\n",
       "      <td>2816</td>\n",
       "      <td>96.47</td>\n",
       "    </tr>\n",
       "    <tr>\n",
       "      <th>4</th>\n",
       "      <td>BsmtHalfBath</td>\n",
       "      <td>2744</td>\n",
       "      <td>94.00</td>\n",
       "    </tr>\n",
       "    <tr>\n",
       "      <th>5</th>\n",
       "      <td>ScreenPorch</td>\n",
       "      <td>2663</td>\n",
       "      <td>91.23</td>\n",
       "    </tr>\n",
       "    <tr>\n",
       "      <th>6</th>\n",
       "      <td>BsmtFinSF2</td>\n",
       "      <td>2572</td>\n",
       "      <td>88.11</td>\n",
       "    </tr>\n",
       "    <tr>\n",
       "      <th>7</th>\n",
       "      <td>EnclosedPorch</td>\n",
       "      <td>2460</td>\n",
       "      <td>84.28</td>\n",
       "    </tr>\n",
       "    <tr>\n",
       "      <th>8</th>\n",
       "      <td>HalfBath</td>\n",
       "      <td>1834</td>\n",
       "      <td>62.83</td>\n",
       "    </tr>\n",
       "    <tr>\n",
       "      <th>9</th>\n",
       "      <td>MasVnrArea</td>\n",
       "      <td>1761</td>\n",
       "      <td>60.33</td>\n",
       "    </tr>\n",
       "  </tbody>\n",
       "</table>\n",
       "</div>"
      ],
      "text/plain": [
       "        Col Name  Count  Percentage\n",
       "0       PoolArea   2906       99.55\n",
       "1      3SsnPorch   2882       98.73\n",
       "2   LowQualFinSF   2879       98.63\n",
       "3        MiscVal   2816       96.47\n",
       "4   BsmtHalfBath   2744       94.00\n",
       "5    ScreenPorch   2663       91.23\n",
       "6     BsmtFinSF2   2572       88.11\n",
       "7  EnclosedPorch   2460       84.28\n",
       "8       HalfBath   1834       62.83\n",
       "9     MasVnrArea   1761       60.33"
      ]
     },
     "execution_count": 578,
     "metadata": {},
     "output_type": "execute_result"
    }
   ],
   "source": [
    "zero_data = get_zero_val_data(all_data)\n",
    "zero_data.head(10)"
   ]
  },
  {
   "cell_type": "code",
   "execution_count": 579,
   "metadata": {},
   "outputs": [
    {
     "data": {
      "text/plain": [
       "Text(0.5, 1.0, 'Percent missing data by feature')"
      ]
     },
     "execution_count": 579,
     "metadata": {},
     "output_type": "execute_result"
    },
    {
     "data": {
      "image/png": "[encoded data removed]",
      "text/plain": [
       "<Figure size 1080x360 with 1 Axes>"
      ]
     },
     "metadata": {
      "needs_background": "light"
     },
     "output_type": "display_data"
    }
   ],
   "source": [
    "f, ax = plt.subplots(figsize=(15, 5))\n",
    "plt.xticks(rotation='90')\n",
    "sns.barplot(x=zero_data[zero_data.Percentage>40]['Col Name'], y=zero_data.Percentage)\n",
    "plt.xlabel('Features', fontsize=15)\n",
    "plt.ylabel('Percent of missing values', fontsize=15)\n",
    "plt.title('Percent missing data by feature', fontsize=15)"
   ]
  },
  {
   "cell_type": "code",
   "execution_count": null,
   "metadata": {},
   "outputs": [],
   "source": []
  },
  {
   "cell_type": "code",
   "execution_count": 580,
   "metadata": {},
   "outputs": [
    {
     "data": {
      "text/plain": [
       "['PoolArea',\n",
       " '3SsnPorch',\n",
       " 'LowQualFinSF',\n",
       " 'MiscVal',\n",
       " 'BsmtHalfBath',\n",
       " 'ScreenPorch',\n",
       " 'BsmtFinSF2',\n",
       " 'EnclosedPorch',\n",
       " 'HalfBath',\n",
       " 'MasVnrArea',\n",
       " 'BsmtFullBath',\n",
       " '2ndFlrSF',\n",
       " 'WoodDeckSF',\n",
       " 'Fireplaces',\n",
       " 'OpenPorchSF']"
      ]
     },
     "execution_count": 580,
     "metadata": {},
     "output_type": "execute_result"
    }
   ],
   "source": [
    "col_to_drop=[]\n",
    "for i in range(len(zero_data)):\n",
    "    if zero_data.iloc[i]['Percentage'] > 40 :\n",
    "        #print(zero_data.iloc[i]['Col Name'])\n",
    "        col_to_drop.append(zero_data.iloc[i]['Col Name'])\n",
    "        \n",
    "all_data = all_data.drop(col_to_drop, axis=1)\n",
    "col_to_drop"
   ]
  },
  {
   "cell_type": "code",
   "execution_count": 581,
   "metadata": {},
   "outputs": [
    {
     "data": {
      "text/html": [
       "<div>\n",
       "<style scoped>\n",
       "    .dataframe tbody tr th:only-of-type {\n",
       "        vertical-align: middle;\n",
       "    }\n",
       "\n",
       "    .dataframe tbody tr th {\n",
       "        vertical-align: top;\n",
       "    }\n",
       "\n",
       "    .dataframe thead th {\n",
       "        text-align: right;\n",
       "    }\n",
       "</style>\n",
       "<table border=\"1\" class=\"dataframe\">\n",
       "  <thead>\n",
       "    <tr style=\"text-align: right;\">\n",
       "      <th></th>\n",
       "      <th>1stFlrSF</th>\n",
       "      <th>Alley</th>\n",
       "      <th>BedroomAbvGr</th>\n",
       "      <th>BldgType</th>\n",
       "      <th>BsmtCond</th>\n",
       "      <th>BsmtExposure</th>\n",
       "      <th>BsmtFinSF1</th>\n",
       "      <th>BsmtFinType1</th>\n",
       "      <th>BsmtFinType2</th>\n",
       "      <th>BsmtQual</th>\n",
       "      <th>...</th>\n",
       "      <th>RoofStyle</th>\n",
       "      <th>SaleCondition</th>\n",
       "      <th>SaleType</th>\n",
       "      <th>Street</th>\n",
       "      <th>TotRmsAbvGrd</th>\n",
       "      <th>TotalBsmtSF</th>\n",
       "      <th>TotalSF</th>\n",
       "      <th>YearBuilt</th>\n",
       "      <th>YearRemodAdd</th>\n",
       "      <th>YrSold</th>\n",
       "    </tr>\n",
       "  </thead>\n",
       "  <tbody>\n",
       "    <tr>\n",
       "      <th>0</th>\n",
       "      <td>856</td>\n",
       "      <td>None</td>\n",
       "      <td>3</td>\n",
       "      <td>1Fam</td>\n",
       "      <td>TA</td>\n",
       "      <td>No</td>\n",
       "      <td>706.0</td>\n",
       "      <td>GLQ</td>\n",
       "      <td>Unf</td>\n",
       "      <td>Gd</td>\n",
       "      <td>...</td>\n",
       "      <td>Gable</td>\n",
       "      <td>Normal</td>\n",
       "      <td>WD</td>\n",
       "      <td>Pave</td>\n",
       "      <td>8</td>\n",
       "      <td>856.0</td>\n",
       "      <td>2566.0</td>\n",
       "      <td>2003</td>\n",
       "      <td>2003</td>\n",
       "      <td>2008</td>\n",
       "    </tr>\n",
       "    <tr>\n",
       "      <th>1</th>\n",
       "      <td>1262</td>\n",
       "      <td>None</td>\n",
       "      <td>3</td>\n",
       "      <td>1Fam</td>\n",
       "      <td>TA</td>\n",
       "      <td>Gd</td>\n",
       "      <td>978.0</td>\n",
       "      <td>ALQ</td>\n",
       "      <td>Unf</td>\n",
       "      <td>Gd</td>\n",
       "      <td>...</td>\n",
       "      <td>Gable</td>\n",
       "      <td>Normal</td>\n",
       "      <td>WD</td>\n",
       "      <td>Pave</td>\n",
       "      <td>6</td>\n",
       "      <td>1262.0</td>\n",
       "      <td>2524.0</td>\n",
       "      <td>1976</td>\n",
       "      <td>1976</td>\n",
       "      <td>2007</td>\n",
       "    </tr>\n",
       "    <tr>\n",
       "      <th>2</th>\n",
       "      <td>920</td>\n",
       "      <td>None</td>\n",
       "      <td>3</td>\n",
       "      <td>1Fam</td>\n",
       "      <td>TA</td>\n",
       "      <td>Mn</td>\n",
       "      <td>486.0</td>\n",
       "      <td>GLQ</td>\n",
       "      <td>Unf</td>\n",
       "      <td>Gd</td>\n",
       "      <td>...</td>\n",
       "      <td>Gable</td>\n",
       "      <td>Normal</td>\n",
       "      <td>WD</td>\n",
       "      <td>Pave</td>\n",
       "      <td>6</td>\n",
       "      <td>920.0</td>\n",
       "      <td>2706.0</td>\n",
       "      <td>2001</td>\n",
       "      <td>2002</td>\n",
       "      <td>2008</td>\n",
       "    </tr>\n",
       "    <tr>\n",
       "      <th>3</th>\n",
       "      <td>961</td>\n",
       "      <td>None</td>\n",
       "      <td>3</td>\n",
       "      <td>1Fam</td>\n",
       "      <td>Gd</td>\n",
       "      <td>No</td>\n",
       "      <td>216.0</td>\n",
       "      <td>ALQ</td>\n",
       "      <td>Unf</td>\n",
       "      <td>TA</td>\n",
       "      <td>...</td>\n",
       "      <td>Gable</td>\n",
       "      <td>Abnorml</td>\n",
       "      <td>WD</td>\n",
       "      <td>Pave</td>\n",
       "      <td>7</td>\n",
       "      <td>756.0</td>\n",
       "      <td>2473.0</td>\n",
       "      <td>1915</td>\n",
       "      <td>1970</td>\n",
       "      <td>2006</td>\n",
       "    </tr>\n",
       "    <tr>\n",
       "      <th>4</th>\n",
       "      <td>1145</td>\n",
       "      <td>None</td>\n",
       "      <td>4</td>\n",
       "      <td>1Fam</td>\n",
       "      <td>TA</td>\n",
       "      <td>Av</td>\n",
       "      <td>655.0</td>\n",
       "      <td>GLQ</td>\n",
       "      <td>Unf</td>\n",
       "      <td>Gd</td>\n",
       "      <td>...</td>\n",
       "      <td>Gable</td>\n",
       "      <td>Normal</td>\n",
       "      <td>WD</td>\n",
       "      <td>Pave</td>\n",
       "      <td>9</td>\n",
       "      <td>1145.0</td>\n",
       "      <td>3343.0</td>\n",
       "      <td>2000</td>\n",
       "      <td>2000</td>\n",
       "      <td>2008</td>\n",
       "    </tr>\n",
       "  </tbody>\n",
       "</table>\n",
       "<p>5 rows × 64 columns</p>\n",
       "</div>"
      ],
      "text/plain": [
       "   1stFlrSF Alley  BedroomAbvGr BldgType BsmtCond BsmtExposure  BsmtFinSF1  \\\n",
       "0       856  None             3     1Fam       TA           No       706.0   \n",
       "1      1262  None             3     1Fam       TA           Gd       978.0   \n",
       "2       920  None             3     1Fam       TA           Mn       486.0   \n",
       "3       961  None             3     1Fam       Gd           No       216.0   \n",
       "4      1145  None             4     1Fam       TA           Av       655.0   \n",
       "\n",
       "  BsmtFinType1 BsmtFinType2 BsmtQual  ...  RoofStyle SaleCondition SaleType  \\\n",
       "0          GLQ          Unf       Gd  ...      Gable        Normal       WD   \n",
       "1          ALQ          Unf       Gd  ...      Gable        Normal       WD   \n",
       "2          GLQ          Unf       Gd  ...      Gable        Normal       WD   \n",
       "3          ALQ          Unf       TA  ...      Gable       Abnorml       WD   \n",
       "4          GLQ          Unf       Gd  ...      Gable        Normal       WD   \n",
       "\n",
       "  Street TotRmsAbvGrd TotalBsmtSF TotalSF YearBuilt YearRemodAdd YrSold  \n",
       "0   Pave            8       856.0  2566.0      2003         2003   2008  \n",
       "1   Pave            6      1262.0  2524.0      1976         1976   2007  \n",
       "2   Pave            6       920.0  2706.0      2001         2002   2008  \n",
       "3   Pave            7       756.0  2473.0      1915         1970   2006  \n",
       "4   Pave            9      1145.0  3343.0      2000         2000   2008  \n",
       "\n",
       "[5 rows x 64 columns]"
      ]
     },
     "execution_count": 581,
     "metadata": {},
     "output_type": "execute_result"
    }
   ],
   "source": [
    "all_data.head()"
   ]
  },
  {
   "cell_type": "markdown",
   "metadata": {},
   "source": [
    "zero_data1 = get_zero_val_data(all_data)\n",
    "zero_data1.head(10)"
   ]
  },
  {
   "cell_type": "code",
   "execution_count": 582,
   "metadata": {},
   "outputs": [
    {
     "name": "stdout",
     "output_type": "stream",
     "text": [
      "MSSubClass : 15 -> [ 60  20  70  50 190  45  90 120  30  85  80 160  75 180  40]\n",
      "OverallCond : 9 -> [5 8 6 7 4 2 3 9 1]\n",
      "YrSold : 5 -> [2008 2007 2006 2009 2010]\n",
      "MoSold : 12 -> [ 2  5  9 12 10  8 11  4  1  7  3  6]\n",
      "len :  1460\n"
     ]
    }
   ],
   "source": [
    "print('MSSubClass : {} -> {}'.format(df_train['MSSubClass'].nunique(), df_train['MSSubClass'].unique()))\n",
    "print('OverallCond : {} -> {}'.format(df_train['OverallCond'].nunique(), df_train['OverallCond'].unique()))\n",
    "print('YrSold : {} -> {}'.format(df_train['YrSold'].nunique(), df_train['YrSold'].unique()))\n",
    "print('MoSold : {} -> {}'.format(df_train['MoSold'].nunique(), df_train['MoSold'].unique()))\n",
    "print('len : ', len(df_train))"
   ]
  },
  {
   "cell_type": "markdown",
   "metadata": {},
   "source": [
    "#### More features engeneering\n",
    "\n",
    "Transforming some numerical variables that are really categorical"
   ]
  },
  {
   "cell_type": "code",
   "execution_count": 583,
   "metadata": {},
   "outputs": [],
   "source": [
    "df_train.MSSubClass = df_train.MSSubClass.apply(str)\n",
    "\n",
    "#Changing OverallCond into a categorical variable\n",
    "df_train.OverallCond = df_train.OverallCond.astype(str)\n",
    "\n",
    "#Year and month sold are transformed into categorical features.\n",
    "df_train.YrSold = df_train.YrSold.astype(str)\n",
    "df_train.MoSold = df_train.MoSold.astype(str)\n",
    "\n",
    "df_test.MSSubClass = df_test.MSSubClass.apply(str)\n",
    "\n",
    "#Changing OverallCond into a categorical variable\n",
    "df_test.OverallCond = df_test.OverallCond.astype(str)\n",
    "\n",
    "#Year and month sold are transformed into categorical features.\n",
    "df_test.YrSold = df_test.YrSold.astype(str)\n",
    "df_test.MoSold = df_test.MoSold.astype(str)"
   ]
  },
  {
   "cell_type": "markdown",
   "metadata": {},
   "source": [
    "l = list(df_train.columns)\n",
    "for col in l:\n",
    "    if df_train[col].nunique() < 100 and df_train[col].dtypes != \"object\":\n",
    "        print (col, end='; ')\n",
    "        df_train[col] = df_train[col].astype(str)\n"
   ]
  },
  {
   "cell_type": "code",
   "execution_count": 584,
   "metadata": {},
   "outputs": [
    {
     "name": "stdout",
     "output_type": "stream",
     "text": [
      "BedroomAbvGr; FullBath; GarageCars; KitchenAbvGr; MSSubClass; MoSold; OverallCond; OverallQual; TotRmsAbvGrd; YearRemodAdd; YrSold; "
     ]
    }
   ],
   "source": [
    "l = list(all_data.columns)\n",
    "for col in l:\n",
    "    if all_data[col].nunique() < 100 and all_data[col].dtypes != \"object\":\n",
    "        print (col, end='; ')\n",
    "        all_data[col] = all_data[col].astype(str)"
   ]
  },
  {
   "cell_type": "markdown",
   "metadata": {},
   "source": [
    "#### Data Correlation"
   ]
  },
  {
   "cell_type": "code",
   "execution_count": 585,
   "metadata": {},
   "outputs": [],
   "source": [
    "train_preprocessed = all_data[:ntrain]\n",
    "test_preprocessed = all_data[ntrain:]\n",
    "\n",
    "train_preprocessed['SalePrice'] = y_train_val"
   ]
  },
  {
   "cell_type": "code",
   "execution_count": 586,
   "metadata": {},
   "outputs": [
    {
     "data": {
      "text/plain": [
       "<matplotlib.axes._subplots.AxesSubplot at 0x21c916a9898>"
      ]
     },
     "execution_count": 586,
     "metadata": {},
     "output_type": "execute_result"
    },
    {
     "data": {
      "image/png": "[encoded data removed]",
      "text/plain": [
       "<Figure size 864x648 with 2 Axes>"
      ]
     },
     "metadata": {
      "needs_background": "light"
     },
     "output_type": "display_data"
    }
   ],
   "source": [
    "# Correlation map to see how features are correlated with SalePrice\n",
    "#corrmat = df_train.corr()\n",
    "corrmat = train_preprocessed.corr()\n",
    "\n",
    "# Generate a mask for the upper triangle (taken from seaborn example gallery)\n",
    "mask = np.zeros_like(corrmat, dtype=np.bool)\n",
    "mask[np.triu_indices_from(mask)] = True\n",
    "\n",
    "plt.subplots(figsize=(12,9))\n",
    "sns.heatmap(corrmat, vmax=0.9, square=True, mask=mask)"
   ]
  },
  {
   "cell_type": "code",
   "execution_count": 587,
   "metadata": {},
   "outputs": [
    {
     "data": {
      "image/png": "[encoded data removed]",
      "text/plain": [
       "<Figure size 1080x576 with 2 Axes>"
      ]
     },
     "metadata": {
      "needs_background": "light"
     },
     "output_type": "display_data"
    }
   ],
   "source": [
    "#saleprice correlation matrix\n",
    "k = 20 #number of variables for heatmap\n",
    "\n",
    "cols = corrmat.nlargest(k, 'SalePrice').SalePrice.index\n",
    "#cm = np.corrcoef(df_train[cols].T)\n",
    "cm = np.corrcoef(train_preprocessed[cols].T)\n",
    "\n",
    "# Generate a mask for the upper triangle (taken from seaborn example gallery)\n",
    "mask = np.zeros_like(cm, dtype=np.bool)\n",
    "mask[np.triu_indices_from(mask)] = True\n",
    "\n",
    "plt.figure(figsize=(15,8))\n",
    "hm = sns.heatmap(cm, annot=True, cmap = 'coolwarm', vmax=.9, linecolor='white', linewidths=.1, mask=mask,\n",
    "                 fmt='.2f', annot_kws={'size': 10}, yticklabels=cols.values, xticklabels=cols.values)\n",
    "plt.show()"
   ]
  },
  {
   "cell_type": "code",
   "execution_count": 588,
   "metadata": {},
   "outputs": [
    {
     "name": "stdout",
     "output_type": "stream",
     "text": [
      "Index(['SalePrice', 'TotalSF', 'GrLivArea', 'GarageArea', 'TotalBsmtSF',\n",
      "       '1stFlrSF', 'YearBuilt', 'BsmtFinSF1', 'LotFrontage', 'LotArea',\n",
      "       'GarageYrBlt', 'BsmtUnfSF'],\n",
      "      dtype='object')\n"
     ]
    }
   ],
   "source": [
    "print(cols)"
   ]
  },
  {
   "cell_type": "code",
   "execution_count": null,
   "metadata": {},
   "outputs": [],
   "source": [
    "lis = list(cols)\n",
    "#lis.remove('TotRmsAbvGrd')\n",
    "lis.remove('SalePrice')\n",
    "lis.remove('1stFlrSF')\n",
    "lis.remove('2ndFlrSF')\n",
    "lis.remove('BsmtFinSF1')\n",
    "lis.remove('LotFrontage')\n",
    "print(\"Len = {} \\n{}\".format(len(lis), lis))\n",
    "\n"
   ]
  },
  {
   "cell_type": "code",
   "execution_count": 589,
   "metadata": {},
   "outputs": [],
   "source": [
    "lis = ['TotalSF','GarageArea','YearBuilt']"
   ]
  },
  {
   "cell_type": "code",
   "execution_count": 590,
   "metadata": {},
   "outputs": [
    {
     "data": {
      "text/plain": [
       "\"\\nfor col in cols:\\n    if col != 'SalePrice':\\n        df_train.plot.scatter(x=col, y='SalePrice')\\n\""
      ]
     },
     "execution_count": 590,
     "metadata": {},
     "output_type": "execute_result"
    },
    {
     "data": {
      "image/png": "[encoded data removed]",
      "text/plain": [
       "<Figure size 540x180 with 3 Axes>"
      ]
     },
     "metadata": {
      "needs_background": "light"
     },
     "output_type": "display_data"
    }
   ],
   "source": [
    "#sns.pairplot(df_train, x_vars=lis, y_vars='SalePrice', aspect=1, kind='reg')\n",
    "sns.pairplot(train_preprocessed, x_vars=lis, y_vars='SalePrice', aspect=1, kind='reg')\n",
    "\n",
    "'''\n",
    "for col in cols:\n",
    "    if col != 'SalePrice':\n",
    "        df_train.plot.scatter(x=col, y='SalePrice')\n",
    "'''        "
   ]
  },
  {
   "cell_type": "code",
   "execution_count": 591,
   "metadata": {},
   "outputs": [
    {
     "data": {
      "image/png": "[encoded data removed]",
      "text/plain": [
       "<Figure size 432x288 with 1 Axes>"
      ]
     },
     "metadata": {
      "needs_background": "light"
     },
     "output_type": "display_data"
    }
   ],
   "source": [
    "df_train.plot.scatter(x='GrLivArea', y='SalePrice')\n",
    "plt.ylabel('SalePrice', fontsize=13)\n",
    "plt.xlabel('GrLivArea', fontsize=13)\n",
    "plt.show()"
   ]
  },
  {
   "cell_type": "code",
   "execution_count": 592,
   "metadata": {},
   "outputs": [
    {
     "data": {
      "image/png": "[encoded data removed]",
      "text/plain": [
       "<Figure size 432x288 with 1 Axes>"
      ]
     },
     "metadata": {
      "needs_background": "light"
     },
     "output_type": "display_data"
    }
   ],
   "source": [
    "#Deleting outliers\n",
    "df_train = df_train.drop(df_train[(df_train['GrLivArea']>4000) & (df_train['SalePrice']<300000)].index)\n",
    "\n",
    "sns.scatterplot(y =df_train.SalePrice,x = df_train.GrLivArea)\n",
    "plt.ylabel('SalePrice', fontsize=13)\n",
    "plt.xlabel('GrLivArea', fontsize=13)\n",
    "plt.show()"
   ]
  },
  {
   "cell_type": "code",
   "execution_count": 593,
   "metadata": {},
   "outputs": [
    {
     "data": {
      "text/plain": [
       "<matplotlib.axes._subplots.AxesSubplot at 0x21ca2ef7208>"
      ]
     },
     "execution_count": 593,
     "metadata": {},
     "output_type": "execute_result"
    },
    {
     "data": {
      "image/png": "[encoded data removed]",
      "text/plain": [
       "<Figure size 432x288 with 1 Axes>"
      ]
     },
     "metadata": {
      "needs_background": "light"
     },
     "output_type": "display_data"
    }
   ],
   "source": [
    "sns.barplot(df_train.OverallQual,df_train.SalePrice, ci=None)"
   ]
  },
  {
   "cell_type": "code",
   "execution_count": 598,
   "metadata": {},
   "outputs": [
    {
     "name": "stdout",
     "output_type": "stream",
     "text": [
      "Alley; BedroomAbvGr; BldgType; BsmtCond; BsmtExposure; BsmtFinType1; BsmtFinType2; BsmtQual; CentralAir; Condition1; Condition2; Electrical; ExterCond; ExterQual; Exterior1st; Exterior2nd; Fence; FireplaceQu; Foundation; FullBath; Functional; GarageCars; GarageCond; GarageFinish; GarageQual; GarageType; Heating; HeatingQC; HouseStyle; KitchenAbvGr; KitchenQual; LandContour; LandSlope; LotConfig; LotShape; MSSubClass; MSZoning; MasVnrType; MiscFeature; MoSold; Neighborhood; OverallCond; OverallQual; PavedDrive; PoolQC; RoofMatl; RoofStyle; SaleCondition; SaleType; Street; TotRmsAbvGrd; YearRemodAdd; YrSold; 53\n"
     ]
    }
   ],
   "source": [
    "#l = list(df_train.columns)\n",
    "l = list(train_preprocessed.columns)\n",
    "\n",
    "cat_lis = []\n",
    "for col in l:\n",
    "    #if df_train[col].nunique() < 100 and df_train[col].dtypes == \"object\": train_preprocessed\n",
    "    if df_train[col].nunique() < 100 and train_preprocessed[col].dtypes == \"object\":\n",
    "        print (col, end='; ')\n",
    "        cat_lis.append(col)\n",
    "        \n",
    "print(len(cat_lis))"
   ]
  },
  {
   "cell_type": "code",
   "execution_count": 599,
   "metadata": {},
   "outputs": [
    {
     "name": "stdout",
     "output_type": "stream",
     "text": [
      "Shape all_data: (2919, 64)\n"
     ]
    }
   ],
   "source": [
    "\n",
    "# Label Encoding some categorical variables that may contain information in their ordering set\n",
    "cols = ('FireplaceQu', 'BsmtQual', 'BsmtCond', 'GarageQual', 'GarageCond', \n",
    "        'ExterQual', 'ExterCond','HeatingQC', 'PoolQC', 'KitchenQual', 'BsmtFinType1', \n",
    "        'BsmtFinType2', 'Functional', 'Fence', 'BsmtExposure', 'GarageFinish', 'LandSlope',\n",
    "        'LotShape', 'PavedDrive', 'Street', 'Alley', 'CentralAir', 'MSSubClass', 'OverallCond', \n",
    "        'YrSold', 'MoSold')\n",
    "\n",
    "# process columns, apply LabelEncoder to categorical features\n",
    "from sklearn.preprocessing import LabelEncoder\n",
    "#for c in cols:\n",
    "for c in cat_lis:\n",
    "    lbl = LabelEncoder() \n",
    "    lbl.fit(list(all_data[c].values)) \n",
    "    all_data[c] = lbl.transform(list(all_data[c].values))\n",
    "\n",
    "# shape        \n",
    "print('Shape all_data: {}'.format(all_data.shape))"
   ]
  },
  {
   "cell_type": "code",
   "execution_count": 600,
   "metadata": {},
   "outputs": [
    {
     "data": {
      "text/html": [
       "<div>\n",
       "<style scoped>\n",
       "    .dataframe tbody tr th:only-of-type {\n",
       "        vertical-align: middle;\n",
       "    }\n",
       "\n",
       "    .dataframe tbody tr th {\n",
       "        vertical-align: top;\n",
       "    }\n",
       "\n",
       "    .dataframe thead th {\n",
       "        text-align: right;\n",
       "    }\n",
       "</style>\n",
       "<table border=\"1\" class=\"dataframe\">\n",
       "  <thead>\n",
       "    <tr style=\"text-align: right;\">\n",
       "      <th></th>\n",
       "      <th>1stFlrSF</th>\n",
       "      <th>Alley</th>\n",
       "      <th>BedroomAbvGr</th>\n",
       "      <th>BldgType</th>\n",
       "      <th>BsmtCond</th>\n",
       "      <th>BsmtExposure</th>\n",
       "      <th>BsmtFinSF1</th>\n",
       "      <th>BsmtFinType1</th>\n",
       "      <th>BsmtFinType2</th>\n",
       "      <th>BsmtQual</th>\n",
       "      <th>...</th>\n",
       "      <th>RoofStyle</th>\n",
       "      <th>SaleCondition</th>\n",
       "      <th>SaleType</th>\n",
       "      <th>Street</th>\n",
       "      <th>TotRmsAbvGrd</th>\n",
       "      <th>TotalBsmtSF</th>\n",
       "      <th>TotalSF</th>\n",
       "      <th>YearBuilt</th>\n",
       "      <th>YearRemodAdd</th>\n",
       "      <th>YrSold</th>\n",
       "    </tr>\n",
       "  </thead>\n",
       "  <tbody>\n",
       "    <tr>\n",
       "      <th>0</th>\n",
       "      <td>856</td>\n",
       "      <td>1</td>\n",
       "      <td>3</td>\n",
       "      <td>0</td>\n",
       "      <td>4</td>\n",
       "      <td>3</td>\n",
       "      <td>706.0</td>\n",
       "      <td>2</td>\n",
       "      <td>6</td>\n",
       "      <td>2</td>\n",
       "      <td>...</td>\n",
       "      <td>1</td>\n",
       "      <td>4</td>\n",
       "      <td>8</td>\n",
       "      <td>1</td>\n",
       "      <td>12</td>\n",
       "      <td>856.0</td>\n",
       "      <td>2566.0</td>\n",
       "      <td>2003</td>\n",
       "      <td>53</td>\n",
       "      <td>2</td>\n",
       "    </tr>\n",
       "    <tr>\n",
       "      <th>1</th>\n",
       "      <td>1262</td>\n",
       "      <td>1</td>\n",
       "      <td>3</td>\n",
       "      <td>0</td>\n",
       "      <td>4</td>\n",
       "      <td>1</td>\n",
       "      <td>978.0</td>\n",
       "      <td>0</td>\n",
       "      <td>6</td>\n",
       "      <td>2</td>\n",
       "      <td>...</td>\n",
       "      <td>1</td>\n",
       "      <td>4</td>\n",
       "      <td>8</td>\n",
       "      <td>1</td>\n",
       "      <td>10</td>\n",
       "      <td>1262.0</td>\n",
       "      <td>2524.0</td>\n",
       "      <td>1976</td>\n",
       "      <td>26</td>\n",
       "      <td>1</td>\n",
       "    </tr>\n",
       "    <tr>\n",
       "      <th>2</th>\n",
       "      <td>920</td>\n",
       "      <td>1</td>\n",
       "      <td>3</td>\n",
       "      <td>0</td>\n",
       "      <td>4</td>\n",
       "      <td>2</td>\n",
       "      <td>486.0</td>\n",
       "      <td>2</td>\n",
       "      <td>6</td>\n",
       "      <td>2</td>\n",
       "      <td>...</td>\n",
       "      <td>1</td>\n",
       "      <td>4</td>\n",
       "      <td>8</td>\n",
       "      <td>1</td>\n",
       "      <td>10</td>\n",
       "      <td>920.0</td>\n",
       "      <td>2706.0</td>\n",
       "      <td>2001</td>\n",
       "      <td>52</td>\n",
       "      <td>2</td>\n",
       "    </tr>\n",
       "    <tr>\n",
       "      <th>3</th>\n",
       "      <td>961</td>\n",
       "      <td>1</td>\n",
       "      <td>3</td>\n",
       "      <td>0</td>\n",
       "      <td>1</td>\n",
       "      <td>3</td>\n",
       "      <td>216.0</td>\n",
       "      <td>0</td>\n",
       "      <td>6</td>\n",
       "      <td>4</td>\n",
       "      <td>...</td>\n",
       "      <td>1</td>\n",
       "      <td>0</td>\n",
       "      <td>8</td>\n",
       "      <td>1</td>\n",
       "      <td>11</td>\n",
       "      <td>756.0</td>\n",
       "      <td>2473.0</td>\n",
       "      <td>1915</td>\n",
       "      <td>20</td>\n",
       "      <td>0</td>\n",
       "    </tr>\n",
       "    <tr>\n",
       "      <th>4</th>\n",
       "      <td>1145</td>\n",
       "      <td>1</td>\n",
       "      <td>4</td>\n",
       "      <td>0</td>\n",
       "      <td>4</td>\n",
       "      <td>0</td>\n",
       "      <td>655.0</td>\n",
       "      <td>2</td>\n",
       "      <td>6</td>\n",
       "      <td>2</td>\n",
       "      <td>...</td>\n",
       "      <td>1</td>\n",
       "      <td>4</td>\n",
       "      <td>8</td>\n",
       "      <td>1</td>\n",
       "      <td>13</td>\n",
       "      <td>1145.0</td>\n",
       "      <td>3343.0</td>\n",
       "      <td>2000</td>\n",
       "      <td>50</td>\n",
       "      <td>2</td>\n",
       "    </tr>\n",
       "  </tbody>\n",
       "</table>\n",
       "<p>5 rows × 64 columns</p>\n",
       "</div>"
      ],
      "text/plain": [
       "   1stFlrSF  Alley  BedroomAbvGr  BldgType  BsmtCond  BsmtExposure  \\\n",
       "0       856      1             3         0         4             3   \n",
       "1      1262      1             3         0         4             1   \n",
       "2       920      1             3         0         4             2   \n",
       "3       961      1             3         0         1             3   \n",
       "4      1145      1             4         0         4             0   \n",
       "\n",
       "   BsmtFinSF1  BsmtFinType1  BsmtFinType2  BsmtQual  ...  RoofStyle  \\\n",
       "0       706.0             2             6         2  ...          1   \n",
       "1       978.0             0             6         2  ...          1   \n",
       "2       486.0             2             6         2  ...          1   \n",
       "3       216.0             0             6         4  ...          1   \n",
       "4       655.0             2             6         2  ...          1   \n",
       "\n",
       "   SaleCondition  SaleType  Street  TotRmsAbvGrd  TotalBsmtSF  TotalSF  \\\n",
       "0              4         8       1            12        856.0   2566.0   \n",
       "1              4         8       1            10       1262.0   2524.0   \n",
       "2              4         8       1            10        920.0   2706.0   \n",
       "3              0         8       1            11        756.0   2473.0   \n",
       "4              4         8       1            13       1145.0   3343.0   \n",
       "\n",
       "   YearBuilt  YearRemodAdd  YrSold  \n",
       "0       2003            53       2  \n",
       "1       1976            26       1  \n",
       "2       2001            52       2  \n",
       "3       1915            20       0  \n",
       "4       2000            50       2  \n",
       "\n",
       "[5 rows x 64 columns]"
      ]
     },
     "execution_count": 600,
     "metadata": {},
     "output_type": "execute_result"
    }
   ],
   "source": [
    "all_data.head()\n"
   ]
  },
  {
   "cell_type": "code",
   "execution_count": 619,
   "metadata": {},
   "outputs": [
    {
     "name": "stdout",
     "output_type": "stream",
     "text": [
      "<class 'pandas.core.frame.DataFrame'>\n",
      "RangeIndex: 1460 entries, 0 to 1459\n",
      "Data columns (total 64 columns):\n",
      "1stFlrSF         1460 non-null int64\n",
      "Alley            1460 non-null object\n",
      "BedroomAbvGr     1460 non-null object\n",
      "BldgType         1460 non-null object\n",
      "BsmtCond         1460 non-null object\n",
      "BsmtExposure     1460 non-null object\n",
      "BsmtFinSF1       1460 non-null float64\n",
      "BsmtFinType1     1460 non-null object\n",
      "BsmtFinType2     1460 non-null object\n",
      "BsmtQual         1460 non-null object\n",
      "BsmtUnfSF        1460 non-null float64\n",
      "CentralAir       1460 non-null object\n",
      "Condition1       1460 non-null object\n",
      "Condition2       1460 non-null object\n",
      "Electrical       1460 non-null object\n",
      "ExterCond        1460 non-null object\n",
      "ExterQual        1460 non-null object\n",
      "Exterior1st      1460 non-null object\n",
      "Exterior2nd      1460 non-null object\n",
      "Fence            1460 non-null object\n",
      "FireplaceQu      1460 non-null object\n",
      "Foundation       1460 non-null object\n",
      "FullBath         1460 non-null object\n",
      "Functional       1460 non-null object\n",
      "GarageArea       1460 non-null float64\n",
      "GarageCars       1460 non-null object\n",
      "GarageCond       1460 non-null object\n",
      "GarageFinish     1460 non-null object\n",
      "GarageQual       1460 non-null object\n",
      "GarageType       1460 non-null object\n",
      "GarageYrBlt      1460 non-null float64\n",
      "GrLivArea        1460 non-null int64\n",
      "Heating          1460 non-null object\n",
      "HeatingQC        1460 non-null object\n",
      "HouseStyle       1460 non-null object\n",
      "KitchenAbvGr     1460 non-null object\n",
      "KitchenQual      1460 non-null object\n",
      "LandContour      1460 non-null object\n",
      "LandSlope        1460 non-null object\n",
      "LotArea          1460 non-null int64\n",
      "LotConfig        1460 non-null object\n",
      "LotFrontage      1460 non-null float64\n",
      "LotShape         1460 non-null object\n",
      "MSSubClass       1460 non-null object\n",
      "MSZoning         1460 non-null object\n",
      "MasVnrType       1460 non-null object\n",
      "MiscFeature      1460 non-null object\n",
      "MoSold           1460 non-null object\n",
      "Neighborhood     1460 non-null object\n",
      "OverallCond      1460 non-null object\n",
      "OverallQual      1460 non-null object\n",
      "PavedDrive       1460 non-null object\n",
      "PoolQC           1460 non-null object\n",
      "RoofMatl         1460 non-null object\n",
      "RoofStyle        1460 non-null object\n",
      "SaleCondition    1460 non-null object\n",
      "SaleType         1460 non-null object\n",
      "Street           1460 non-null object\n",
      "TotRmsAbvGrd     1460 non-null object\n",
      "TotalBsmtSF      1460 non-null float64\n",
      "TotalSF          1460 non-null float64\n",
      "YearBuilt        1460 non-null int64\n",
      "YearRemodAdd     1460 non-null object\n",
      "YrSold           1460 non-null object\n",
      "dtypes: float64(7), int64(4), object(53)\n",
      "memory usage: 730.1+ KB\n"
     ]
    }
   ],
   "source": [
    "train_preprocessed.info()"
   ]
  },
  {
   "cell_type": "markdown",
   "metadata": {},
   "source": [
    "#### Skewed features\n",
    "Check the skew of all numerical features"
   ]
  },
  {
   "cell_type": "code",
   "execution_count": 602,
   "metadata": {},
   "outputs": [
    {
     "name": "stdout",
     "output_type": "stream",
     "text": [
      "Skewness in numerical features:\n"
     ]
    },
    {
     "data": {
      "text/html": [
       "<div>\n",
       "<style scoped>\n",
       "    .dataframe tbody tr th:only-of-type {\n",
       "        vertical-align: middle;\n",
       "    }\n",
       "\n",
       "    .dataframe tbody tr th {\n",
       "        vertical-align: top;\n",
       "    }\n",
       "\n",
       "    .dataframe thead th {\n",
       "        text-align: right;\n",
       "    }\n",
       "</style>\n",
       "<table border=\"1\" class=\"dataframe\">\n",
       "  <thead>\n",
       "    <tr style=\"text-align: right;\">\n",
       "      <th></th>\n",
       "      <th>Skew</th>\n",
       "    </tr>\n",
       "  </thead>\n",
       "  <tbody>\n",
       "    <tr>\n",
       "      <th>LotArea</th>\n",
       "      <td>12.82</td>\n",
       "    </tr>\n",
       "    <tr>\n",
       "      <th>Heating</th>\n",
       "      <td>12.08</td>\n",
       "    </tr>\n",
       "    <tr>\n",
       "      <th>Condition2</th>\n",
       "      <td>12.06</td>\n",
       "    </tr>\n",
       "    <tr>\n",
       "      <th>RoofMatl</th>\n",
       "      <td>8.71</td>\n",
       "    </tr>\n",
       "    <tr>\n",
       "      <th>MiscFeature</th>\n",
       "      <td>5.06</td>\n",
       "    </tr>\n",
       "  </tbody>\n",
       "</table>\n",
       "</div>"
      ],
      "text/plain": [
       "              Skew\n",
       "LotArea      12.82\n",
       "Heating      12.08\n",
       "Condition2   12.06\n",
       "RoofMatl      8.71\n",
       "MiscFeature   5.06"
      ]
     },
     "execution_count": 602,
     "metadata": {},
     "output_type": "execute_result"
    }
   ],
   "source": [
    "numeric_feats = all_data.dtypes[all_data.dtypes != \"object\"].index\n",
    "\n",
    "skewed_feats = all_data[numeric_feats].apply(lambda x: skew(x.dropna())).sort_values(ascending=False)\n",
    "print(\"Skewness in numerical features:\")\n",
    "skewness = pd.DataFrame({'Skew' :skewed_feats})\n",
    "skewness.head()"
   ]
  },
  {
   "cell_type": "code",
   "execution_count": 603,
   "metadata": {},
   "outputs": [
    {
     "name": "stdout",
     "output_type": "stream",
     "text": [
      "There are 64 skewed numerical features for log transform\n"
     ]
    },
    {
     "data": {
      "text/plain": [
       "Index(['LotArea', 'Heating', 'Condition2', 'RoofMatl', 'MiscFeature',\n",
       "       'LandSlope', 'KitchenAbvGr', 'Condition1', 'BldgType', 'RoofStyle',\n",
       "       'TotalSF', 'LotFrontage', '1stFlrSF', 'BsmtFinSF1', 'GrLivArea',\n",
       "       'TotalBsmtSF', 'BsmtUnfSF'],\n",
       "      dtype='object')"
      ]
     },
     "execution_count": 603,
     "metadata": {},
     "output_type": "execute_result"
    }
   ],
   "source": [
    "skewed_feats = skewed_feats[skewed_feats > 0.75]\n",
    "print(\"There are {} skewed numerical features for log transform\".format(skewness.shape[0]))\n",
    "skewed_feats = skewed_feats.index\n",
    "skewed_feats"
   ]
  },
  {
   "cell_type": "markdown",
   "metadata": {},
   "source": [
    "#### Log transformation"
   ]
  },
  {
   "cell_type": "code",
   "execution_count": 604,
   "metadata": {},
   "outputs": [],
   "source": [
    "all_data[skewed_feats] = np.log1p(all_data[skewed_feats])"
   ]
  },
  {
   "cell_type": "markdown",
   "metadata": {},
   "source": [
    "#### Getting dummy categorical features"
   ]
  },
  {
   "cell_type": "code",
   "execution_count": 605,
   "metadata": {},
   "outputs": [
    {
     "name": "stdout",
     "output_type": "stream",
     "text": [
      "(2919, 64)\n"
     ]
    }
   ],
   "source": [
    "all_data = pd.get_dummies(all_data)\n",
    "print(all_data.shape)"
   ]
  },
  {
   "cell_type": "markdown",
   "metadata": {},
   "source": [
    "#### Save the process dataset for future use."
   ]
  },
  {
   "cell_type": "code",
   "execution_count": 606,
   "metadata": {},
   "outputs": [
    {
     "data": {
      "text/plain": [
       "['Processed_Dataset.sav']"
      ]
     },
     "execution_count": 606,
     "metadata": {},
     "output_type": "execute_result"
    }
   ],
   "source": [
    "from sklearn.externals import joblib\n",
    "joblib.dump(all_data, 'Processed_Dataset.sav')"
   ]
  },
  {
   "cell_type": "markdown",
   "metadata": {},
   "source": [
    "### Modelling"
   ]
  },
  {
   "cell_type": "code",
   "execution_count": 607,
   "metadata": {},
   "outputs": [],
   "source": [
    "from sklearn.externals import joblib\n",
    "all_data = joblib.load('Processed_Dataset.sav')"
   ]
  },
  {
   "cell_type": "code",
   "execution_count": 628,
   "metadata": {},
   "outputs": [],
   "source": [
    "#train_preprocessed = all_data[:ntrain]\n",
    "#test_preprocessed = all_data[ntrain:]\n",
    "\n",
    "train_preprocessed = all_data[lis][:ntrain]\n",
    "test_preprocessed = all_data[lis][ntrain:]"
   ]
  },
  {
   "cell_type": "code",
   "execution_count": 629,
   "metadata": {},
   "outputs": [],
   "source": [
    "X_train, X_test, y_train, y_test = train_test_split(train_preprocessed, y_train_val, test_size=0.3, random_state=0)"
   ]
  },
  {
   "cell_type": "code",
   "execution_count": 630,
   "metadata": {},
   "outputs": [
    {
     "name": "stdout",
     "output_type": "stream",
     "text": [
      "test rmse :  49427.64169819118\n",
      "train rmse :  43598.82244837938\n"
     ]
    }
   ],
   "source": [
    "# Baseline model\n",
    "from sklearn.linear_model import LinearRegression\n",
    "from sklearn import metrics\n",
    "linreg = LinearRegression().fit(X_train, y_train)\n",
    "linreg_pred_train = linreg.predict(X_train)\n",
    "linereg_pred_test = linreg.predict(X_test)\n",
    "\n",
    "rmse_test = np.sqrt(np.mean((y_test - linereg_pred_test)**2))\n",
    "rmse_train = np.sqrt(np.mean((y_train - linreg_pred_train)**2))\n",
    "print(\"test rmse : \", rmse_test)\n",
    "print(\"train rmse : \", rmse_train)\n",
    "\n",
    "# print('Accuracy', np.sqrt(metrics.mean_squared_error(y_test, linereg_pred_test)))\n",
    "# print('Accuracy', np.sqrt(metrics.mean_squared_error(y_train, linreg_pred_train)))"
   ]
  },
  {
   "cell_type": "code",
   "execution_count": 631,
   "metadata": {},
   "outputs": [
    {
     "name": "stdout",
     "output_type": "stream",
     "text": [
      "**************************************************\n",
      "Test RMSE  :  49427.64169819118\n",
      "Train RMSE :  43598.82244837938\n",
      "**************************************************\n"
     ]
    }
   ],
   "source": [
    "from sklearn.linear_model import LinearRegression\n",
    "from sklearn.model_selection import GridSearchCV\n",
    "\n",
    "hyper_param = {'normalize':[True,False], 'copy_X':[True, False], 'fit_intercept':[True,False]}\n",
    "\n",
    "lin_reg_cv = LinearRegression()\n",
    "lin_reg_cv = GridSearchCV(lin_reg_cv, hyper_param, cv=10)\n",
    "lin_reg_cv.fit(X_train, y_train)\n",
    "\n",
    "linreg_pred_train = linreg.predict(X_train)\n",
    "linereg_pred_test = linreg.predict(X_test)\n",
    "\n",
    "rmse_test = np.sqrt(np.mean((y_test - linereg_pred_test)**2))\n",
    "rmse_train = np.sqrt(np.mean((y_train - linreg_pred_train)**2))\n",
    "print(\"*\"*50)\n",
    "print(\"Test RMSE  : \", rmse_test)\n",
    "print(\"Train RMSE : \", rmse_train)\n",
    "print(\"*\"*50)\n",
    "# print(lin_reg_cv.best_estimator_)\n",
    "# print(lin_reg_cv.best_score_)\n",
    "# print('Accuracy', np.sqrt(metrics.mean_squared_error(y_test, linereg_pred_test)))"
   ]
  },
  {
   "cell_type": "code",
   "execution_count": 632,
   "metadata": {},
   "outputs": [
    {
     "name": "stdout",
     "output_type": "stream",
     "text": [
      "Accuracy 41831.34985198442\n"
     ]
    }
   ],
   "source": [
    "from sklearn.tree import DecisionTreeRegressor\n",
    "dt = DecisionTreeRegressor(random_state = 0)\n",
    "dt.fit(X_train,y_train)\n",
    "y_pred_test = dt.predict(X_test)\n",
    "\n",
    "print('Accuracy', np.sqrt(metrics.mean_squared_error(y_test, y_pred_test)))\n",
    "#rmse.append(np.sqrt(metrics.mean_squared_error(ytest, y_pred_test)))\n",
    "#rmse[-1]"
   ]
  },
  {
   "cell_type": "code",
   "execution_count": 633,
   "metadata": {},
   "outputs": [
    {
     "name": "stdout",
     "output_type": "stream",
     "text": [
      "Fitting 4 folds for each of 12 candidates, totalling 48 fits\n"
     ]
    },
    {
     "name": "stderr",
     "output_type": "stream",
     "text": [
      "[Parallel(n_jobs=1)]: Using backend SequentialBackend with 1 concurrent workers.\n"
     ]
    },
    {
     "name": "stdout",
     "output_type": "stream",
     "text": [
      "Accuracy 57059.01483942714\n"
     ]
    },
    {
     "name": "stderr",
     "output_type": "stream",
     "text": [
      "[Parallel(n_jobs=1)]: Done  48 out of  48 | elapsed:    0.4s finished\n"
     ]
    }
   ],
   "source": [
    "from sklearn.tree import DecisionTreeRegressor\n",
    "dt_cv = DecisionTreeRegressor(random_state = 0)\n",
    "hyper_param={#\"max_depth\": range(2,50),\n",
    "            'splitter':['best','random'],             \n",
    "             'max_features':['auto','sqrt','log2'],\n",
    "             'presort':[True,False]\n",
    "            }\n",
    "dt_cv = GridSearchCV(dt_cv, hyper_param, cv=4, verbose=1)\n",
    "dt_cv.fit(X_train,y_train)\n",
    "y_pred_test = dt_cv.predict(X_test)\n",
    "\n",
    "print('Accuracy', np.sqrt(metrics.mean_squared_error(y_test, y_pred_test)))"
   ]
  },
  {
   "cell_type": "code",
   "execution_count": null,
   "metadata": {},
   "outputs": [],
   "source": []
  },
  {
   "cell_type": "code",
   "execution_count": 634,
   "metadata": {},
   "outputs": [
    {
     "name": "stdout",
     "output_type": "stream",
     "text": [
      "**************************************************\n",
      "Test RMSE  :  35879.44066148955\n",
      "Train RMSE :  15774.306924077891\n",
      "**************************************************\n"
     ]
    }
   ],
   "source": [
    "from sklearn.ensemble import RandomForestRegressor\n",
    "rfr = RandomForestRegressor(random_state=0)\n",
    "rfr.fit(X_train, y_train)\n",
    "\n",
    "pred_train = rfr.predict(X_train)\n",
    "pred_test = rfr.predict(X_test)\n",
    "\n",
    "rmse_test = np.sqrt(np.mean((y_test - pred_test)**2))\n",
    "rmse_train = np.sqrt(np.mean((y_train - pred_train)**2))\n",
    "print(\"*\"*50)\n",
    "print(\"Test RMSE  : \", rmse_test)\n",
    "print(\"Train RMSE : \", rmse_train)\n",
    "print(\"*\"*50)\n",
    "# print('Accuracy', np.sqrt(metrics.mean_squared_error(y_test, y_pred_test)))"
   ]
  },
  {
   "cell_type": "code",
   "execution_count": 635,
   "metadata": {},
   "outputs": [
    {
     "name": "stdout",
     "output_type": "stream",
     "text": [
      "**************************************************\n",
      "RMSE: 35736.760417393445 - est: 360\n",
      "RMSE: 35618.26237783493 - est: 380\n",
      "RMSE: 35761.91638069774 - est: 400\n",
      "RMSE: 35620.699993975235 - est: 420\n",
      "RMSE: 35629.25838913735 - est: 440\n",
      "RMSE: 35846.29045748962 - est: 460\n",
      "RMSE: 35897.506398767364 - est: 480\n",
      "RMSE: 35632.97477291457 - est: 500\n",
      "RMSE: 35808.33385950765 - est: 520\n",
      "RMSE: 35986.84749526043 - est: 540\n",
      "**************************************************\n"
     ]
    }
   ],
   "source": [
    "print(\"*\"*50)\n",
    "rmse_est = {}\n",
    "for est in range(360,550,20):\n",
    "    model = RandomForestRegressor(n_estimators=est, n_jobs=-1)\n",
    "    model.fit(X_train, y_train)\n",
    "    predictions = np.array(model.predict(X_test))\n",
    "    rmse = math.sqrt(np.mean((np.array(y_test) - predictions)**2))\n",
    "    imp = sorted(zip(df_train.columns, model.feature_importances_), key=lambda tup: tup[1], reverse=True)\n",
    "    print (\"RMSE: {0} - est: {1}\".format(str(rmse), est))\n",
    "    rmse_est[rmse]= est\n",
    "print(\"*\"*50)    "
   ]
  },
  {
   "cell_type": "code",
   "execution_count": 636,
   "metadata": {},
   "outputs": [
    {
     "data": {
      "text/plain": [
       "RandomForestRegressor(bootstrap=True, criterion='mse', max_depth=None,\n",
       "                      max_features='auto', max_leaf_nodes=None,\n",
       "                      min_impurity_decrease=0.0, min_impurity_split=None,\n",
       "                      min_samples_leaf=1, min_samples_split=2,\n",
       "                      min_weight_fraction_leaf=0.0, n_estimators=380, n_jobs=-1,\n",
       "                      oob_score=False, random_state=None, verbose=0,\n",
       "                      warm_start=False)"
      ]
     },
     "execution_count": 636,
     "metadata": {},
     "output_type": "execute_result"
    }
   ],
   "source": [
    "d = collections.OrderedDict(sorted(rmse_est.items()))\n",
    "\n",
    "final_model = RandomForestRegressor(n_estimators=list(d.items())[0][1], n_jobs=-1)\n",
    "final_model.fit(train_preprocessed, y_train_val)"
   ]
  },
  {
   "cell_type": "code",
   "execution_count": 637,
   "metadata": {},
   "outputs": [
    {
     "data": {
      "text/plain": [
       "['RandomForestReg_CV.sav']"
      ]
     },
     "execution_count": 637,
     "metadata": {},
     "output_type": "execute_result"
    }
   ],
   "source": [
    "from sklearn.externals import joblib\n",
    "final_model_name = \"RandomForestReg_CV.sav\"\n",
    "joblib.dump(final_model, final_model_name)"
   ]
  },
  {
   "cell_type": "code",
   "execution_count": 638,
   "metadata": {},
   "outputs": [],
   "source": [
    "from sklearn.externals import joblib\n",
    "model_name = \"RandomForestReg_CV.sav\"\n",
    "final_model = joblib.load(model_name)"
   ]
  },
  {
   "cell_type": "code",
   "execution_count": 639,
   "metadata": {},
   "outputs": [
    {
     "name": "stdout",
     "output_type": "stream",
     "text": [
      "**************************************************\n",
      "Test RMSE  :  13452.151970150235\n",
      "Train RMSE :  13481.442885329177\n",
      "**************************************************\n"
     ]
    }
   ],
   "source": [
    "pred_train = final_model.predict(X_train)\n",
    "pred_test = final_model.predict(X_test)\n",
    "\n",
    "rmse_test = np.sqrt(np.mean((y_test - pred_test)**2))\n",
    "rmse_train = np.sqrt(np.mean((y_train - pred_train)**2))\n",
    "print(\"*\"*50)\n",
    "print(\"Test RMSE  : \", rmse_test)\n",
    "print(\"Train RMSE : \", rmse_train)\n",
    "print(\"*\"*50)"
   ]
  },
  {
   "cell_type": "code",
   "execution_count": 640,
   "metadata": {},
   "outputs": [
    {
     "data": {
      "image/png": "[encoded data removed]",
      "text/plain": [
       "<Figure size 432x288 with 1 Axes>"
      ]
     },
     "metadata": {
      "needs_background": "light"
     },
     "output_type": "display_data"
    }
   ],
   "source": [
    "y_train_pred = final_model.predict(X_train)\n",
    "y_test_pred = final_model.predict(X_test)\n",
    "#submission = pd.DataFrame({\"Id\": test_ID,\"SalePrice\": y_test_pred})\n",
    "#submission.loc[submission['SalePrice'] <= 0, 'SalePrice'] = 0\n",
    "\n",
    "# Plot predictions\n",
    "plt.scatter(y_train_pred, y_train, c = \"blue\", marker = \"s\", label = \"Training data\")\n",
    "plt.scatter(y_test_pred, y_test, c = \"lightgreen\", marker = \"s\", label = \"Validation data\")\n",
    "plt.title(\"Linear regression with RandomForestRegressor\")\n",
    "plt.xlabel(\"Predicted values\")\n",
    "plt.ylabel(\"Real values\")\n",
    "plt.legend(loc = \"upper left\")\n",
    "plt.plot([10.5, 13.5], [10.5, 13.5], c = \"red\")\n",
    "plt.show()"
   ]
  },
  {
   "cell_type": "code",
   "execution_count": null,
   "metadata": {},
   "outputs": [],
   "source": []
  },
  {
   "cell_type": "markdown",
   "metadata": {},
   "source": [
    "### Creation of submission file."
   ]
  },
  {
   "cell_type": "code",
   "execution_count": 641,
   "metadata": {},
   "outputs": [],
   "source": [
    "from sklearn.externals import joblib\n",
    "model_name = \"RandomForestReg_CV.sav\"\n",
    "rfr_cv = joblib.load(model_name)\n",
    "\n",
    "y_test_pred = rfr_cv.predict(test_preprocessed)\n",
    "submission = pd.DataFrame({\"Id\": test_ID,\"SalePrice\": y_test_pred})\n",
    "submission.loc[submission['SalePrice'] <= 0, 'SalePrice'] = 0\n",
    "fileName = \"final_submission_cv.csv\".format(rmse)\n",
    "submission.to_csv(fileName, index=False)"
   ]
  },
  {
   "cell_type": "code",
   "execution_count": null,
   "metadata": {},
   "outputs": [],
   "source": []
  },
  {
   "cell_type": "code",
   "execution_count": 642,
   "metadata": {},
   "outputs": [
    {
     "name": "stdout",
     "output_type": "stream",
     "text": [
      "**************************************************\n",
      "Test RMSE  :  37616.215969246536\n",
      "Train RMSE :  13009.096468113472\n",
      "**************************************************\n"
     ]
    }
   ],
   "source": [
    "from sklearn.ensemble import RandomForestRegressor\n",
    "from sklearn.model_selection import RandomizedSearchCV\n",
    "from scipy.stats import randint as sp_randint\n",
    "\n",
    "hyper_param={#\"max_depth\": range(2,300),\n",
    "              #\"min_samples_split\": sp_randint(2, 25),\n",
    "              #\"min_samples_leaf\": sp_randint(5, 20),\n",
    "              \"bootstrap\": [True, False],\n",
    "              \"n_estimators\": range(300, 600, 20), #[20,50,100,400],\n",
    "              'max_features': ['auto','sqrt', 'log2', None]\n",
    "            }\n",
    "\n",
    "rfr = RandomForestRegressor(random_state=0)\n",
    "rfr_cv = RandomizedSearchCV(rfr, hyper_param,  n_iter = 100, cv=4)\n",
    "\n",
    "rfr_cv.fit(X_train,y_train)\n",
    "\n",
    "pred_train = rfr_cv.predict(X_train)\n",
    "pred_test = rfr_cv.predict(X_test)\n",
    "\n",
    "rmse_test = np.sqrt(np.mean((y_test - pred_test)**2))\n",
    "rmse_train = np.sqrt(np.mean((y_train - pred_train)**2))\n",
    "print(\"*\"*50)\n",
    "print(\"Test RMSE  : \", rmse_test)\n",
    "print(\"Train RMSE : \", rmse_train)\n",
    "print(\"*\"*50)"
   ]
  },
  {
   "cell_type": "code",
   "execution_count": null,
   "metadata": {},
   "outputs": [],
   "source": [
    "print(rfr_cv.best_estimator_)\n",
    "print(\"*\"*50)\n",
    "print('RMSE', np.sqrt(metrics.mean_squared_error(y_test, pred_test)))"
   ]
  },
  {
   "cell_type": "code",
   "execution_count": null,
   "metadata": {},
   "outputs": [],
   "source": [
    "rfr_cv = rfr_cv.best_estimator_\n",
    "rfr_cv.fit(X_train,y_train)\n",
    "\n",
    "pred_train = rfr_cv.predict(X_train)\n",
    "pred_test = rfr_cv.predict(X_test)\n",
    "\n",
    "rmse_test = np.sqrt(np.mean((y_test - pred_test)**2))\n",
    "rmse_train = np.sqrt(np.mean((y_train - pred_train)**2))\n",
    "print(\"*\"*50)\n",
    "print(\"Test RMSE  : \", rmse_test)\n",
    "print(\"Train RMSE : \", rmse_train)\n",
    "print(\"*\"*50)"
   ]
  },
  {
   "cell_type": "code",
   "execution_count": null,
   "metadata": {},
   "outputs": [],
   "source": [
    "from sklearn.externals import joblib\n",
    "# load the model from disk\n",
    "random_forest_reg_model = joblib.load(\"RandomForestReg_CV.sav\")\n",
    "\n",
    "pred_train = random_forest_reg_model.predict(X_train)\n",
    "pred_test = random_forest_reg_model.predict(X_test)\n",
    "\n",
    "rmse_test = np.sqrt(np.mean((y_test - pred_test)**2))\n",
    "rmse_train = np.sqrt(np.mean((y_train - pred_train)**2))\n",
    "print(\"*\"*50)\n",
    "print(\"Test RMSE  : \", rmse_test)\n",
    "print(\"Train RMSE : \", rmse_train)\n",
    "print(\"*\"*50)"
   ]
  },
  {
   "cell_type": "code",
   "execution_count": null,
   "metadata": {},
   "outputs": [],
   "source": [
    "y_test_pred = final_model.predict(test_preprocessed)\n",
    "submission = pd.DataFrame({\"Id\": test_ID,\"SalePrice\": y_test_pred})\n",
    "submission.loc[submission['SalePrice'] <= 0, 'SalePrice'] = 0\n",
    "fileName = \"final_submission.csv\".format(rmse)\n",
    "submission.to_csv(fileName, index=False)"
   ]
  },
  {
   "cell_type": "code",
   "execution_count": null,
   "metadata": {},
   "outputs": [],
   "source": [
    "model = RandomForestRegressor(n_estimators=list(d.items())[0][1], n_jobs=-1)\n",
    "model.fit(X_train, y_train)\n",
    "\n",
    "y_train_pred = model.predict(X_train)\n",
    "y_test_pred = model.predict(X_test)\n",
    "#submission = pd.DataFrame({\"Id\": test_ID,\"SalePrice\": y_test_pred})\n",
    "#submission.loc[submission['SalePrice'] <= 0, 'SalePrice'] = 0\n",
    "\n",
    "\n",
    "# Plot predictions\n",
    "plt.scatter(y_train_pred, y_train, c = \"blue\", marker = \"s\", label = \"Training data\")\n",
    "plt.scatter(y_test_pred, y_test, c = \"lightgreen\", marker = \"s\", label = \"Validation data\")\n",
    "plt.title(\"Linear regression with RandomForestRegressor\")\n",
    "plt.xlabel(\"Predicted values\")\n",
    "plt.ylabel(\"Real values\")\n",
    "plt.legend(loc = \"upper left\")\n",
    "plt.plot([10.5, 13.5], [10.5, 13.5], c = \"red\")\n",
    "plt.show()"
   ]
  },
  {
   "cell_type": "code",
   "execution_count": null,
   "metadata": {},
   "outputs": [],
   "source": [
    "# https://www.kaggle.com/pmarcelino/comprehensive-data-exploration-with-python"
   ]
  }
 ],
 "metadata": {
  "kernelspec": {
   "display_name": "Python 3",
   "language": "python",
   "name": "python3"
  },
  "language_info": {
   "codemirror_mode": {
    "name": "ipython",
    "version": 3
   },
   "file_extension": ".py",
   "mimetype": "text/x-python",
   "name": "python",
   "nbconvert_exporter": "python",
   "pygments_lexer": "ipython3",
   "version": "3.7.3"
  }
 },
 "nbformat": 4,
 "nbformat_minor": 2
}
