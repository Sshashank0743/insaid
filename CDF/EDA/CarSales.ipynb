{
 "cells": [
  {
   "cell_type": "markdown",
   "metadata": {},
   "source": [
    "### Importing the packages."
   ]
  },
  {
   "cell_type": "code",
   "execution_count": 8,
   "metadata": {},
   "outputs": [],
   "source": [
    "import numpy as np\n",
    "import pandas as pd\n",
    "pd.set_option('mode.chained_assignment', None)      # To suppress pandas warnings.\n",
    "pd.set_option('display.max_colwidth', -1)           # To display all the data in each column\n",
    "pd.options.display.max_columns = 50                 # To display every column of the dataset in head()\n",
    "\n",
    "import pandas_profiling\n",
    "import seaborn as sns\n",
    "import matplotlib as mat\n",
    "import matplotlib.pyplot as plt\n",
    "import bokeh\n",
    "import sys\n",
    "import os\n",
    "%matplotlib inline\n",
    "\n",
    "import warnings\n",
    "warnings.filterwarnings('ignore')                   # To suppress all the warnings in the notebook."
   ]
  },
  {
   "cell_type": "markdown",
   "metadata": {},
   "source": [
    "### Loading data"
   ]
  },
  {
   "cell_type": "code",
   "execution_count": 52,
   "metadata": {},
   "outputs": [
    {
     "data": {
      "text/html": [
       "<div>\n",
       "<style scoped>\n",
       "    .dataframe tbody tr th:only-of-type {\n",
       "        vertical-align: middle;\n",
       "    }\n",
       "\n",
       "    .dataframe tbody tr th {\n",
       "        vertical-align: top;\n",
       "    }\n",
       "\n",
       "    .dataframe thead th {\n",
       "        text-align: right;\n",
       "    }\n",
       "</style>\n",
       "<table border=\"1\" class=\"dataframe\">\n",
       "  <thead>\n",
       "    <tr style=\"text-align: right;\">\n",
       "      <th></th>\n",
       "      <th>car</th>\n",
       "      <th>price</th>\n",
       "      <th>body</th>\n",
       "      <th>mileage</th>\n",
       "      <th>engV</th>\n",
       "      <th>engType</th>\n",
       "      <th>registration</th>\n",
       "      <th>year</th>\n",
       "      <th>model</th>\n",
       "      <th>drive</th>\n",
       "    </tr>\n",
       "  </thead>\n",
       "  <tbody>\n",
       "    <tr>\n",
       "      <th>0</th>\n",
       "      <td>Ford</td>\n",
       "      <td>15500.0</td>\n",
       "      <td>crossover</td>\n",
       "      <td>68</td>\n",
       "      <td>2.5</td>\n",
       "      <td>Gas</td>\n",
       "      <td>yes</td>\n",
       "      <td>2010</td>\n",
       "      <td>Kuga</td>\n",
       "      <td>full</td>\n",
       "    </tr>\n",
       "    <tr>\n",
       "      <th>1</th>\n",
       "      <td>Mercedes-Benz</td>\n",
       "      <td>20500.0</td>\n",
       "      <td>sedan</td>\n",
       "      <td>173</td>\n",
       "      <td>1.8</td>\n",
       "      <td>Gas</td>\n",
       "      <td>yes</td>\n",
       "      <td>2011</td>\n",
       "      <td>E-Class</td>\n",
       "      <td>rear</td>\n",
       "    </tr>\n",
       "    <tr>\n",
       "      <th>2</th>\n",
       "      <td>Mercedes-Benz</td>\n",
       "      <td>35000.0</td>\n",
       "      <td>other</td>\n",
       "      <td>135</td>\n",
       "      <td>5.5</td>\n",
       "      <td>Petrol</td>\n",
       "      <td>yes</td>\n",
       "      <td>2008</td>\n",
       "      <td>CL 550</td>\n",
       "      <td>rear</td>\n",
       "    </tr>\n",
       "    <tr>\n",
       "      <th>3</th>\n",
       "      <td>Mercedes-Benz</td>\n",
       "      <td>17800.0</td>\n",
       "      <td>van</td>\n",
       "      <td>162</td>\n",
       "      <td>1.8</td>\n",
       "      <td>Diesel</td>\n",
       "      <td>yes</td>\n",
       "      <td>2012</td>\n",
       "      <td>B 180</td>\n",
       "      <td>front</td>\n",
       "    </tr>\n",
       "    <tr>\n",
       "      <th>4</th>\n",
       "      <td>Mercedes-Benz</td>\n",
       "      <td>33000.0</td>\n",
       "      <td>vagon</td>\n",
       "      <td>91</td>\n",
       "      <td>NaN</td>\n",
       "      <td>Other</td>\n",
       "      <td>yes</td>\n",
       "      <td>2013</td>\n",
       "      <td>E-Class</td>\n",
       "      <td>NaN</td>\n",
       "    </tr>\n",
       "  </tbody>\n",
       "</table>\n",
       "</div>"
      ],
      "text/plain": [
       "             car    price       body  mileage  engV engType registration  \\\n",
       "0  Ford           15500.0  crossover  68       2.5   Gas     yes           \n",
       "1  Mercedes-Benz  20500.0  sedan      173      1.8   Gas     yes           \n",
       "2  Mercedes-Benz  35000.0  other      135      5.5   Petrol  yes           \n",
       "3  Mercedes-Benz  17800.0  van        162      1.8   Diesel  yes           \n",
       "4  Mercedes-Benz  33000.0  vagon      91      NaN    Other   yes           \n",
       "\n",
       "   year    model  drive  \n",
       "0  2010  Kuga     full   \n",
       "1  2011  E-Class  rear   \n",
       "2  2008  CL 550   rear   \n",
       "3  2012  B 180    front  \n",
       "4  2013  E-Class  NaN    "
      ]
     },
     "execution_count": 52,
     "metadata": {},
     "output_type": "execute_result"
    }
   ],
   "source": [
    "df_cardata = pd.read_csv('https://raw.githubusercontent.com/insaid2018/Term-1/master/Data/Projects/car_sales.csv',sep=',',encoding='latin-1')\n",
    "df_cardata.head()"
   ]
  },
  {
   "cell_type": "markdown",
   "metadata": {},
   "source": [
    "### Rename columns"
   ]
  },
  {
   "cell_type": "code",
   "execution_count": 523,
   "metadata": {},
   "outputs": [
    {
     "data": {
      "text/plain": [
       "(9374, 11)"
      ]
     },
     "execution_count": 523,
     "metadata": {},
     "output_type": "execute_result"
    }
   ],
   "source": [
    "df_cardata.rename(columns={'car':'Brand', 'year':'ProductionYear'}, inplace=True)\n",
    "df_cardata.shape"
   ]
  },
  {
   "cell_type": "markdown",
   "metadata": {},
   "source": [
    "### Remove duplicate data"
   ]
  },
  {
   "cell_type": "code",
   "execution_count": 55,
   "metadata": {},
   "outputs": [
    {
     "data": {
      "text/plain": [
       "(9375, 10)"
      ]
     },
     "execution_count": 55,
     "metadata": {},
     "output_type": "execute_result"
    }
   ],
   "source": [
    "df_cardata.drop_duplicates(keep=False, inplace=True)\n",
    "df_cardata.shape"
   ]
  },
  {
   "cell_type": "markdown",
   "metadata": {},
   "source": [
    "This dataset had 201 duplicate rows."
   ]
  },
  {
   "cell_type": "markdown",
   "metadata": {},
   "source": [
    "### Data Profiling"
   ]
  },
  {
   "cell_type": "code",
   "execution_count": 56,
   "metadata": {},
   "outputs": [
    {
     "data": {
      "text/plain": [
       "Index(['Brand', 'price', 'body', 'mileage', 'engV', 'engType', 'registration',\n",
       "       'ProductionYear', 'model', 'drive'],\n",
       "      dtype='object')"
      ]
     },
     "execution_count": 56,
     "metadata": {},
     "output_type": "execute_result"
    }
   ],
   "source": [
    "df_cardata.columns"
   ]
  },
  {
   "cell_type": "code",
   "execution_count": 16,
   "metadata": {},
   "outputs": [
    {
     "data": {
      "text/plain": [
       "Brand             object \n",
       "price             float64\n",
       "body              object \n",
       "mileage           int64  \n",
       "engV              float64\n",
       "engType           object \n",
       "registration      object \n",
       "ProductionYear    int64  \n",
       "model             object \n",
       "drive             object \n",
       "dtype: object"
      ]
     },
     "execution_count": 16,
     "metadata": {},
     "output_type": "execute_result"
    }
   ],
   "source": [
    "df_cardata.dtypes"
   ]
  },
  {
   "cell_type": "code",
   "execution_count": 57,
   "metadata": {},
   "outputs": [
    {
     "data": {
      "text/html": [
       "<div>\n",
       "<style scoped>\n",
       "    .dataframe tbody tr th:only-of-type {\n",
       "        vertical-align: middle;\n",
       "    }\n",
       "\n",
       "    .dataframe tbody tr th {\n",
       "        vertical-align: top;\n",
       "    }\n",
       "\n",
       "    .dataframe thead th {\n",
       "        text-align: right;\n",
       "    }\n",
       "</style>\n",
       "<table border=\"1\" class=\"dataframe\">\n",
       "  <thead>\n",
       "    <tr style=\"text-align: right;\">\n",
       "      <th></th>\n",
       "      <th>Brand</th>\n",
       "      <th>price</th>\n",
       "      <th>body</th>\n",
       "      <th>mileage</th>\n",
       "      <th>engV</th>\n",
       "      <th>engType</th>\n",
       "      <th>registration</th>\n",
       "      <th>ProductionYear</th>\n",
       "      <th>model</th>\n",
       "      <th>drive</th>\n",
       "    </tr>\n",
       "  </thead>\n",
       "  <tbody>\n",
       "    <tr>\n",
       "      <th>2</th>\n",
       "      <td>Mercedes-Benz</td>\n",
       "      <td>35000.0</td>\n",
       "      <td>other</td>\n",
       "      <td>135</td>\n",
       "      <td>5.5</td>\n",
       "      <td>Petrol</td>\n",
       "      <td>yes</td>\n",
       "      <td>2008</td>\n",
       "      <td>CL 550</td>\n",
       "      <td>rear</td>\n",
       "    </tr>\n",
       "    <tr>\n",
       "      <th>4</th>\n",
       "      <td>Mercedes-Benz</td>\n",
       "      <td>33000.0</td>\n",
       "      <td>vagon</td>\n",
       "      <td>91</td>\n",
       "      <td>NaN</td>\n",
       "      <td>Other</td>\n",
       "      <td>yes</td>\n",
       "      <td>2013</td>\n",
       "      <td>E-Class</td>\n",
       "      <td>NaN</td>\n",
       "    </tr>\n",
       "    <tr>\n",
       "      <th>6</th>\n",
       "      <td>Honda</td>\n",
       "      <td>6500.0</td>\n",
       "      <td>sedan</td>\n",
       "      <td>199</td>\n",
       "      <td>2.0</td>\n",
       "      <td>Petrol</td>\n",
       "      <td>yes</td>\n",
       "      <td>2003</td>\n",
       "      <td>Accord</td>\n",
       "      <td>front</td>\n",
       "    </tr>\n",
       "    <tr>\n",
       "      <th>8</th>\n",
       "      <td>Mercedes-Benz</td>\n",
       "      <td>21500.0</td>\n",
       "      <td>sedan</td>\n",
       "      <td>146</td>\n",
       "      <td>1.8</td>\n",
       "      <td>Gas</td>\n",
       "      <td>yes</td>\n",
       "      <td>2012</td>\n",
       "      <td>E-Class</td>\n",
       "      <td>rear</td>\n",
       "    </tr>\n",
       "    <tr>\n",
       "      <th>9</th>\n",
       "      <td>Mercedes-Benz</td>\n",
       "      <td>22700.0</td>\n",
       "      <td>sedan</td>\n",
       "      <td>125</td>\n",
       "      <td>2.2</td>\n",
       "      <td>Diesel</td>\n",
       "      <td>yes</td>\n",
       "      <td>2010</td>\n",
       "      <td>E-Class</td>\n",
       "      <td>rear</td>\n",
       "    </tr>\n",
       "  </tbody>\n",
       "</table>\n",
       "</div>"
      ],
      "text/plain": [
       "           Brand    price   body  mileage  engV engType registration  \\\n",
       "2  Mercedes-Benz  35000.0  other  135      5.5   Petrol  yes           \n",
       "4  Mercedes-Benz  33000.0  vagon  91      NaN    Other   yes           \n",
       "6  Honda          6500.0   sedan  199      2.0   Petrol  yes           \n",
       "8  Mercedes-Benz  21500.0  sedan  146      1.8   Gas     yes           \n",
       "9  Mercedes-Benz  22700.0  sedan  125      2.2   Diesel  yes           \n",
       "\n",
       "   ProductionYear    model  drive  \n",
       "2  2008            CL 550   rear   \n",
       "4  2013            E-Class  NaN    \n",
       "6  2003            Accord   front  \n",
       "8  2012            E-Class  rear   \n",
       "9  2010            E-Class  rear   "
      ]
     },
     "execution_count": 57,
     "metadata": {},
     "output_type": "execute_result"
    }
   ],
   "source": [
    "df_cardata.head()"
   ]
  },
  {
   "cell_type": "code",
   "execution_count": 18,
   "metadata": {},
   "outputs": [
    {
     "data": {
      "text/html": [
       "<div>\n",
       "<style scoped>\n",
       "    .dataframe tbody tr th:only-of-type {\n",
       "        vertical-align: middle;\n",
       "    }\n",
       "\n",
       "    .dataframe tbody tr th {\n",
       "        vertical-align: top;\n",
       "    }\n",
       "\n",
       "    .dataframe thead th {\n",
       "        text-align: right;\n",
       "    }\n",
       "</style>\n",
       "<table border=\"1\" class=\"dataframe\">\n",
       "  <thead>\n",
       "    <tr style=\"text-align: right;\">\n",
       "      <th></th>\n",
       "      <th>Brand</th>\n",
       "      <th>price</th>\n",
       "      <th>body</th>\n",
       "      <th>mileage</th>\n",
       "      <th>engV</th>\n",
       "      <th>engType</th>\n",
       "      <th>registration</th>\n",
       "      <th>ProductionYear</th>\n",
       "      <th>model</th>\n",
       "      <th>drive</th>\n",
       "    </tr>\n",
       "  </thead>\n",
       "  <tbody>\n",
       "    <tr>\n",
       "      <th>9571</th>\n",
       "      <td>Hyundai</td>\n",
       "      <td>14500.0</td>\n",
       "      <td>crossover</td>\n",
       "      <td>140</td>\n",
       "      <td>2.0</td>\n",
       "      <td>Gas</td>\n",
       "      <td>yes</td>\n",
       "      <td>2011</td>\n",
       "      <td>Tucson</td>\n",
       "      <td>front</td>\n",
       "    </tr>\n",
       "    <tr>\n",
       "      <th>9572</th>\n",
       "      <td>Volkswagen</td>\n",
       "      <td>2200.0</td>\n",
       "      <td>vagon</td>\n",
       "      <td>150</td>\n",
       "      <td>1.6</td>\n",
       "      <td>Petrol</td>\n",
       "      <td>yes</td>\n",
       "      <td>1986</td>\n",
       "      <td>Passat B2</td>\n",
       "      <td>front</td>\n",
       "    </tr>\n",
       "    <tr>\n",
       "      <th>9573</th>\n",
       "      <td>Mercedes-Benz</td>\n",
       "      <td>18500.0</td>\n",
       "      <td>crossover</td>\n",
       "      <td>180</td>\n",
       "      <td>3.5</td>\n",
       "      <td>Petrol</td>\n",
       "      <td>yes</td>\n",
       "      <td>2008</td>\n",
       "      <td>ML 350</td>\n",
       "      <td>full</td>\n",
       "    </tr>\n",
       "    <tr>\n",
       "      <th>9574</th>\n",
       "      <td>Lexus</td>\n",
       "      <td>16999.0</td>\n",
       "      <td>sedan</td>\n",
       "      <td>150</td>\n",
       "      <td>3.5</td>\n",
       "      <td>Gas</td>\n",
       "      <td>yes</td>\n",
       "      <td>2008</td>\n",
       "      <td>ES 350</td>\n",
       "      <td>front</td>\n",
       "    </tr>\n",
       "    <tr>\n",
       "      <th>9575</th>\n",
       "      <td>Audi</td>\n",
       "      <td>22500.0</td>\n",
       "      <td>other</td>\n",
       "      <td>71</td>\n",
       "      <td>3.6</td>\n",
       "      <td>Petrol</td>\n",
       "      <td>yes</td>\n",
       "      <td>2007</td>\n",
       "      <td>Q7</td>\n",
       "      <td>full</td>\n",
       "    </tr>\n",
       "  </tbody>\n",
       "</table>\n",
       "</div>"
      ],
      "text/plain": [
       "              Brand    price       body  mileage  engV engType registration  \\\n",
       "9571  Hyundai        14500.0  crossover  140      2.0   Gas     yes           \n",
       "9572  Volkswagen     2200.0   vagon      150      1.6   Petrol  yes           \n",
       "9573  Mercedes-Benz  18500.0  crossover  180      3.5   Petrol  yes           \n",
       "9574  Lexus          16999.0  sedan      150      3.5   Gas     yes           \n",
       "9575  Audi           22500.0  other      71       3.6   Petrol  yes           \n",
       "\n",
       "      ProductionYear      model  drive  \n",
       "9571  2011            Tucson     front  \n",
       "9572  1986            Passat B2  front  \n",
       "9573  2008            ML 350     full   \n",
       "9574  2008            ES 350     front  \n",
       "9575  2007            Q7         full   "
      ]
     },
     "execution_count": 18,
     "metadata": {},
     "output_type": "execute_result"
    }
   ],
   "source": [
    "df_cardata.tail()"
   ]
  },
  {
   "cell_type": "code",
   "execution_count": 58,
   "metadata": {},
   "outputs": [
    {
     "name": "stdout",
     "output_type": "stream",
     "text": [
      "<class 'pandas.core.frame.DataFrame'>\n",
      "Int64Index: 9375 entries, 2 to 9575\n",
      "Data columns (total 10 columns):\n",
      "Brand             9375 non-null object\n",
      "price             9375 non-null float64\n",
      "body              9375 non-null object\n",
      "mileage           9375 non-null int64\n",
      "engV              8941 non-null float64\n",
      "engType           9375 non-null object\n",
      "registration      9375 non-null object\n",
      "ProductionYear    9375 non-null int64\n",
      "model             9375 non-null object\n",
      "drive             8866 non-null object\n",
      "dtypes: float64(2), int64(2), object(6)\n",
      "memory usage: 805.7+ KB\n"
     ]
    }
   ],
   "source": [
    "df_cardata.info()"
   ]
  },
  {
   "cell_type": "code",
   "execution_count": 59,
   "metadata": {},
   "outputs": [
    {
     "data": {
      "text/html": [
       "<div>\n",
       "<style scoped>\n",
       "    .dataframe tbody tr th:only-of-type {\n",
       "        vertical-align: middle;\n",
       "    }\n",
       "\n",
       "    .dataframe tbody tr th {\n",
       "        vertical-align: top;\n",
       "    }\n",
       "\n",
       "    .dataframe thead th {\n",
       "        text-align: right;\n",
       "    }\n",
       "</style>\n",
       "<table border=\"1\" class=\"dataframe\">\n",
       "  <thead>\n",
       "    <tr style=\"text-align: right;\">\n",
       "      <th></th>\n",
       "      <th>Brand</th>\n",
       "      <th>price</th>\n",
       "      <th>body</th>\n",
       "      <th>mileage</th>\n",
       "      <th>engV</th>\n",
       "      <th>engType</th>\n",
       "      <th>registration</th>\n",
       "      <th>ProductionYear</th>\n",
       "      <th>model</th>\n",
       "      <th>drive</th>\n",
       "    </tr>\n",
       "  </thead>\n",
       "  <tbody>\n",
       "    <tr>\n",
       "      <th>count</th>\n",
       "      <td>9375</td>\n",
       "      <td>9375.000000</td>\n",
       "      <td>9375</td>\n",
       "      <td>9375.000000</td>\n",
       "      <td>8941.000000</td>\n",
       "      <td>9375</td>\n",
       "      <td>9375</td>\n",
       "      <td>9375.000000</td>\n",
       "      <td>9375</td>\n",
       "      <td>8866</td>\n",
       "    </tr>\n",
       "    <tr>\n",
       "      <th>unique</th>\n",
       "      <td>87</td>\n",
       "      <td>NaN</td>\n",
       "      <td>6</td>\n",
       "      <td>NaN</td>\n",
       "      <td>NaN</td>\n",
       "      <td>4</td>\n",
       "      <td>2</td>\n",
       "      <td>NaN</td>\n",
       "      <td>888</td>\n",
       "      <td>3</td>\n",
       "    </tr>\n",
       "    <tr>\n",
       "      <th>top</th>\n",
       "      <td>Volkswagen</td>\n",
       "      <td>NaN</td>\n",
       "      <td>sedan</td>\n",
       "      <td>NaN</td>\n",
       "      <td>NaN</td>\n",
       "      <td>Petrol</td>\n",
       "      <td>yes</td>\n",
       "      <td>NaN</td>\n",
       "      <td>E-Class</td>\n",
       "      <td>front</td>\n",
       "    </tr>\n",
       "    <tr>\n",
       "      <th>freq</th>\n",
       "      <td>919</td>\n",
       "      <td>NaN</td>\n",
       "      <td>3601</td>\n",
       "      <td>NaN</td>\n",
       "      <td>NaN</td>\n",
       "      <td>4309</td>\n",
       "      <td>8814</td>\n",
       "      <td>NaN</td>\n",
       "      <td>188</td>\n",
       "      <td>5156</td>\n",
       "    </tr>\n",
       "    <tr>\n",
       "      <th>mean</th>\n",
       "      <td>NaN</td>\n",
       "      <td>15010.846384</td>\n",
       "      <td>NaN</td>\n",
       "      <td>140.751360</td>\n",
       "      <td>2.637962</td>\n",
       "      <td>NaN</td>\n",
       "      <td>NaN</td>\n",
       "      <td>2006.464107</td>\n",
       "      <td>NaN</td>\n",
       "      <td>NaN</td>\n",
       "    </tr>\n",
       "    <tr>\n",
       "      <th>std</th>\n",
       "      <td>NaN</td>\n",
       "      <td>22091.098664</td>\n",
       "      <td>NaN</td>\n",
       "      <td>98.345011</td>\n",
       "      <td>5.991054</td>\n",
       "      <td>NaN</td>\n",
       "      <td>NaN</td>\n",
       "      <td>7.059092</td>\n",
       "      <td>NaN</td>\n",
       "      <td>NaN</td>\n",
       "    </tr>\n",
       "    <tr>\n",
       "      <th>min</th>\n",
       "      <td>NaN</td>\n",
       "      <td>0.000000</td>\n",
       "      <td>NaN</td>\n",
       "      <td>0.000000</td>\n",
       "      <td>0.100000</td>\n",
       "      <td>NaN</td>\n",
       "      <td>NaN</td>\n",
       "      <td>1953.000000</td>\n",
       "      <td>NaN</td>\n",
       "      <td>NaN</td>\n",
       "    </tr>\n",
       "    <tr>\n",
       "      <th>25%</th>\n",
       "      <td>NaN</td>\n",
       "      <td>4999.000000</td>\n",
       "      <td>NaN</td>\n",
       "      <td>72.000000</td>\n",
       "      <td>1.600000</td>\n",
       "      <td>NaN</td>\n",
       "      <td>NaN</td>\n",
       "      <td>2004.000000</td>\n",
       "      <td>NaN</td>\n",
       "      <td>NaN</td>\n",
       "    </tr>\n",
       "    <tr>\n",
       "      <th>50%</th>\n",
       "      <td>NaN</td>\n",
       "      <td>9025.000000</td>\n",
       "      <td>NaN</td>\n",
       "      <td>130.000000</td>\n",
       "      <td>2.000000</td>\n",
       "      <td>NaN</td>\n",
       "      <td>NaN</td>\n",
       "      <td>2008.000000</td>\n",
       "      <td>NaN</td>\n",
       "      <td>NaN</td>\n",
       "    </tr>\n",
       "    <tr>\n",
       "      <th>75%</th>\n",
       "      <td>NaN</td>\n",
       "      <td>16300.000000</td>\n",
       "      <td>NaN</td>\n",
       "      <td>196.000000</td>\n",
       "      <td>2.500000</td>\n",
       "      <td>NaN</td>\n",
       "      <td>NaN</td>\n",
       "      <td>2012.000000</td>\n",
       "      <td>NaN</td>\n",
       "      <td>NaN</td>\n",
       "    </tr>\n",
       "    <tr>\n",
       "      <th>max</th>\n",
       "      <td>NaN</td>\n",
       "      <td>547800.000000</td>\n",
       "      <td>NaN</td>\n",
       "      <td>999.000000</td>\n",
       "      <td>99.990000</td>\n",
       "      <td>NaN</td>\n",
       "      <td>NaN</td>\n",
       "      <td>2016.000000</td>\n",
       "      <td>NaN</td>\n",
       "      <td>NaN</td>\n",
       "    </tr>\n",
       "  </tbody>\n",
       "</table>\n",
       "</div>"
      ],
      "text/plain": [
       "             Brand          price   body      mileage         engV engType  \\\n",
       "count   9375        9375.000000    9375   9375.000000  8941.000000  9375     \n",
       "unique  87         NaN             6     NaN          NaN           4        \n",
       "top     Volkswagen NaN             sedan NaN          NaN           Petrol   \n",
       "freq    919        NaN             3601  NaN          NaN           4309     \n",
       "mean    NaN         15010.846384   NaN    140.751360   2.637962     NaN      \n",
       "std     NaN         22091.098664   NaN    98.345011    5.991054     NaN      \n",
       "min     NaN         0.000000       NaN    0.000000     0.100000     NaN      \n",
       "25%     NaN         4999.000000    NaN    72.000000    1.600000     NaN      \n",
       "50%     NaN         9025.000000    NaN    130.000000   2.000000     NaN      \n",
       "75%     NaN         16300.000000   NaN    196.000000   2.500000     NaN      \n",
       "max     NaN         547800.000000  NaN    999.000000   99.990000    NaN      \n",
       "\n",
       "       registration  ProductionYear    model  drive  \n",
       "count   9375         9375.000000     9375     8866   \n",
       "unique  2           NaN              888      3      \n",
       "top     yes         NaN              E-Class  front  \n",
       "freq    8814        NaN              188      5156   \n",
       "mean    NaN          2006.464107     NaN      NaN    \n",
       "std     NaN          7.059092        NaN      NaN    \n",
       "min     NaN          1953.000000     NaN      NaN    \n",
       "25%     NaN          2004.000000     NaN      NaN    \n",
       "50%     NaN          2008.000000     NaN      NaN    \n",
       "75%     NaN          2012.000000     NaN      NaN    \n",
       "max     NaN          2016.000000     NaN      NaN    "
      ]
     },
     "execution_count": 59,
     "metadata": {},
     "output_type": "execute_result"
    }
   ],
   "source": [
    "df_cardata.describe(include=\"all\")"
   ]
  },
  {
   "cell_type": "markdown",
   "metadata": {},
   "source": [
    "Here we can see that price and mileage columns have a minimum value of zero, zero values does not make sense and indicates an invalid or missing value."
   ]
  },
  {
   "cell_type": "code",
   "execution_count": 25,
   "metadata": {},
   "outputs": [
    {
     "data": {
      "text/plain": [
       "Brand             0  \n",
       "price             0  \n",
       "body              0  \n",
       "mileage           0  \n",
       "engV              434\n",
       "engType           0  \n",
       "registration      0  \n",
       "ProductionYear    0  \n",
       "model             0  \n",
       "drive             509\n",
       "dtype: int64"
      ]
     },
     "execution_count": 25,
     "metadata": {},
     "output_type": "execute_result"
    }
   ],
   "source": [
    "df_cardata.isnull().sum()"
   ]
  },
  {
   "cell_type": "markdown",
   "metadata": {},
   "source": [
    "From the above output we can see that engV and drive columns contains null values."
   ]
  },
  {
   "cell_type": "code",
   "execution_count": 31,
   "metadata": {},
   "outputs": [],
   "source": [
    "pre_profiling = pandas_profiling.ProfileReport(df_cardata)\n",
    "pre_profiling.to_file(output_file=\"BeforePreprocessing.html\")"
   ]
  },
  {
   "cell_type": "code",
   "execution_count": 60,
   "metadata": {},
   "outputs": [
    {
     "data": {
      "text/html": [
       "<div>\n",
       "<style scoped>\n",
       "    .dataframe tbody tr th:only-of-type {\n",
       "        vertical-align: middle;\n",
       "    }\n",
       "\n",
       "    .dataframe tbody tr th {\n",
       "        vertical-align: top;\n",
       "    }\n",
       "\n",
       "    .dataframe thead th {\n",
       "        text-align: right;\n",
       "    }\n",
       "</style>\n",
       "<table border=\"1\" class=\"dataframe\">\n",
       "  <thead>\n",
       "    <tr style=\"text-align: right;\">\n",
       "      <th></th>\n",
       "      <th>Brand</th>\n",
       "      <th>price</th>\n",
       "      <th>body</th>\n",
       "      <th>mileage</th>\n",
       "      <th>engV</th>\n",
       "      <th>engType</th>\n",
       "      <th>registration</th>\n",
       "      <th>ProductionYear</th>\n",
       "      <th>drive</th>\n",
       "    </tr>\n",
       "  </thead>\n",
       "  <tbody>\n",
       "    <tr>\n",
       "      <th>2</th>\n",
       "      <td>Mercedes-Benz</td>\n",
       "      <td>35000.000</td>\n",
       "      <td>other</td>\n",
       "      <td>135</td>\n",
       "      <td>5.5</td>\n",
       "      <td>Petrol</td>\n",
       "      <td>yes</td>\n",
       "      <td>2008</td>\n",
       "      <td>rear</td>\n",
       "    </tr>\n",
       "    <tr>\n",
       "      <th>4</th>\n",
       "      <td>Mercedes-Benz</td>\n",
       "      <td>33000.000</td>\n",
       "      <td>vagon</td>\n",
       "      <td>91</td>\n",
       "      <td>NaN</td>\n",
       "      <td>Other</td>\n",
       "      <td>yes</td>\n",
       "      <td>2013</td>\n",
       "      <td>NaN</td>\n",
       "    </tr>\n",
       "    <tr>\n",
       "      <th>6</th>\n",
       "      <td>Honda</td>\n",
       "      <td>6500.000</td>\n",
       "      <td>sedan</td>\n",
       "      <td>199</td>\n",
       "      <td>2.0</td>\n",
       "      <td>Petrol</td>\n",
       "      <td>yes</td>\n",
       "      <td>2003</td>\n",
       "      <td>front</td>\n",
       "    </tr>\n",
       "    <tr>\n",
       "      <th>8</th>\n",
       "      <td>Mercedes-Benz</td>\n",
       "      <td>21500.000</td>\n",
       "      <td>sedan</td>\n",
       "      <td>146</td>\n",
       "      <td>1.8</td>\n",
       "      <td>Gas</td>\n",
       "      <td>yes</td>\n",
       "      <td>2012</td>\n",
       "      <td>rear</td>\n",
       "    </tr>\n",
       "    <tr>\n",
       "      <th>9</th>\n",
       "      <td>Mercedes-Benz</td>\n",
       "      <td>22700.000</td>\n",
       "      <td>sedan</td>\n",
       "      <td>125</td>\n",
       "      <td>2.2</td>\n",
       "      <td>Diesel</td>\n",
       "      <td>yes</td>\n",
       "      <td>2010</td>\n",
       "      <td>rear</td>\n",
       "    </tr>\n",
       "    <tr>\n",
       "      <th>10</th>\n",
       "      <td>Nissan</td>\n",
       "      <td>20447.154</td>\n",
       "      <td>crossover</td>\n",
       "      <td>0</td>\n",
       "      <td>1.2</td>\n",
       "      <td>Petrol</td>\n",
       "      <td>yes</td>\n",
       "      <td>2016</td>\n",
       "      <td>front</td>\n",
       "    </tr>\n",
       "    <tr>\n",
       "      <th>12</th>\n",
       "      <td>Mercedes-Benz</td>\n",
       "      <td>22500.000</td>\n",
       "      <td>sedan</td>\n",
       "      <td>164</td>\n",
       "      <td>1.8</td>\n",
       "      <td>Gas</td>\n",
       "      <td>yes</td>\n",
       "      <td>2012</td>\n",
       "      <td>rear</td>\n",
       "    </tr>\n",
       "    <tr>\n",
       "      <th>13</th>\n",
       "      <td>BMW</td>\n",
       "      <td>4700.000</td>\n",
       "      <td>sedan</td>\n",
       "      <td>200</td>\n",
       "      <td>NaN</td>\n",
       "      <td>Petrol</td>\n",
       "      <td>yes</td>\n",
       "      <td>1996</td>\n",
       "      <td>rear</td>\n",
       "    </tr>\n",
       "    <tr>\n",
       "      <th>14</th>\n",
       "      <td>Mercedes-Benz</td>\n",
       "      <td>21500.000</td>\n",
       "      <td>sedan</td>\n",
       "      <td>159</td>\n",
       "      <td>1.8</td>\n",
       "      <td>Gas</td>\n",
       "      <td>yes</td>\n",
       "      <td>2012</td>\n",
       "      <td>rear</td>\n",
       "    </tr>\n",
       "    <tr>\n",
       "      <th>15</th>\n",
       "      <td>BMW</td>\n",
       "      <td>19999.000</td>\n",
       "      <td>sedan</td>\n",
       "      <td>290</td>\n",
       "      <td>4.8</td>\n",
       "      <td>Petrol</td>\n",
       "      <td>yes</td>\n",
       "      <td>2006</td>\n",
       "      <td>rear</td>\n",
       "    </tr>\n",
       "  </tbody>\n",
       "</table>\n",
       "</div>"
      ],
      "text/plain": [
       "            Brand      price       body  mileage  engV engType registration  \\\n",
       "2   Mercedes-Benz  35000.000  other      135      5.5   Petrol  yes           \n",
       "4   Mercedes-Benz  33000.000  vagon      91      NaN    Other   yes           \n",
       "6   Honda          6500.000   sedan      199      2.0   Petrol  yes           \n",
       "8   Mercedes-Benz  21500.000  sedan      146      1.8   Gas     yes           \n",
       "9   Mercedes-Benz  22700.000  sedan      125      2.2   Diesel  yes           \n",
       "10  Nissan         20447.154  crossover  0        1.2   Petrol  yes           \n",
       "12  Mercedes-Benz  22500.000  sedan      164      1.8   Gas     yes           \n",
       "13  BMW            4700.000   sedan      200     NaN    Petrol  yes           \n",
       "14  Mercedes-Benz  21500.000  sedan      159      1.8   Gas     yes           \n",
       "15  BMW            19999.000  sedan      290      4.8   Petrol  yes           \n",
       "\n",
       "    ProductionYear  drive  \n",
       "2   2008            rear   \n",
       "4   2013            NaN    \n",
       "6   2003            front  \n",
       "8   2012            rear   \n",
       "9   2010            rear   \n",
       "10  2016            front  \n",
       "12  2012            rear   \n",
       "13  1996            rear   \n",
       "14  2012            rear   \n",
       "15  2006            rear   "
      ]
     },
     "execution_count": 60,
     "metadata": {},
     "output_type": "execute_result"
    }
   ],
   "source": [
    "df_cardata.drop(['model'], inplace=True, axis=1)\n",
    "df_cardata.head(10)"
   ]
  },
  {
   "cell_type": "code",
   "execution_count": 67,
   "metadata": {},
   "outputs": [
    {
     "data": {
      "text/plain": [
       "9151"
      ]
     },
     "execution_count": 67,
     "metadata": {},
     "output_type": "execute_result"
    }
   ],
   "source": [
    "df_cardata['price'].astype(bool).sum(axis=0)"
   ]
  },
  {
   "cell_type": "code",
   "execution_count": 124,
   "metadata": {},
   "outputs": [
    {
     "data": {
      "text/html": [
       "<div>\n",
       "<style scoped>\n",
       "    .dataframe tbody tr th:only-of-type {\n",
       "        vertical-align: middle;\n",
       "    }\n",
       "\n",
       "    .dataframe tbody tr th {\n",
       "        vertical-align: top;\n",
       "    }\n",
       "\n",
       "    .dataframe thead th {\n",
       "        text-align: right;\n",
       "    }\n",
       "</style>\n",
       "<table border=\"1\" class=\"dataframe\">\n",
       "  <thead>\n",
       "    <tr style=\"text-align: right;\">\n",
       "      <th></th>\n",
       "      <th>Brand</th>\n",
       "      <th>price</th>\n",
       "      <th>body</th>\n",
       "      <th>mileage</th>\n",
       "      <th>engV</th>\n",
       "      <th>engType</th>\n",
       "      <th>registration</th>\n",
       "      <th>ProductionYear</th>\n",
       "      <th>drive</th>\n",
       "    </tr>\n",
       "  </thead>\n",
       "  <tbody>\n",
       "    <tr>\n",
       "      <th>8824</th>\n",
       "      <td>Fisker</td>\n",
       "      <td>NaN</td>\n",
       "      <td>other</td>\n",
       "      <td>100.0</td>\n",
       "      <td>2.637962</td>\n",
       "      <td>Other</td>\n",
       "      <td>yes</td>\n",
       "      <td>2001</td>\n",
       "      <td>front</td>\n",
       "    </tr>\n",
       "  </tbody>\n",
       "</table>\n",
       "</div>"
      ],
      "text/plain": [
       "       Brand  price   body  mileage      engV engType registration  \\\n",
       "8824  Fisker NaN     other  100.0    2.637962  Other   yes           \n",
       "\n",
       "      ProductionYear  drive  \n",
       "8824  2001            front  "
      ]
     },
     "execution_count": 124,
     "metadata": {},
     "output_type": "execute_result"
    }
   ],
   "source": [
    "df_cardata[df_cardata['price'].isnull()]"
   ]
  },
  {
   "cell_type": "code",
   "execution_count": 122,
   "metadata": {},
   "outputs": [],
   "source": [
    "df_cardata['price'] = df_cardata['price'].replace(0, np.nan)"
   ]
  },
  {
   "cell_type": "code",
   "execution_count": 125,
   "metadata": {},
   "outputs": [
    {
     "data": {
      "text/html": [
       "<div>\n",
       "<style scoped>\n",
       "    .dataframe tbody tr th:only-of-type {\n",
       "        vertical-align: middle;\n",
       "    }\n",
       "\n",
       "    .dataframe tbody tr th {\n",
       "        vertical-align: top;\n",
       "    }\n",
       "\n",
       "    .dataframe thead th {\n",
       "        text-align: right;\n",
       "    }\n",
       "</style>\n",
       "<table border=\"1\" class=\"dataframe\">\n",
       "  <thead>\n",
       "    <tr style=\"text-align: right;\">\n",
       "      <th></th>\n",
       "      <th>Brand</th>\n",
       "      <th>price</th>\n",
       "      <th>body</th>\n",
       "      <th>mileage</th>\n",
       "      <th>engV</th>\n",
       "      <th>engType</th>\n",
       "      <th>registration</th>\n",
       "      <th>ProductionYear</th>\n",
       "      <th>drive</th>\n",
       "    </tr>\n",
       "  </thead>\n",
       "  <tbody>\n",
       "    <tr>\n",
       "      <th>2</th>\n",
       "      <td>Mercedes-Benz</td>\n",
       "      <td>35000.0</td>\n",
       "      <td>other</td>\n",
       "      <td>135.0</td>\n",
       "      <td>5.500000</td>\n",
       "      <td>Petrol</td>\n",
       "      <td>yes</td>\n",
       "      <td>2008</td>\n",
       "      <td>rear</td>\n",
       "    </tr>\n",
       "    <tr>\n",
       "      <th>4</th>\n",
       "      <td>Mercedes-Benz</td>\n",
       "      <td>33000.0</td>\n",
       "      <td>vagon</td>\n",
       "      <td>91.0</td>\n",
       "      <td>2.637962</td>\n",
       "      <td>Other</td>\n",
       "      <td>yes</td>\n",
       "      <td>2013</td>\n",
       "      <td>front</td>\n",
       "    </tr>\n",
       "    <tr>\n",
       "      <th>6</th>\n",
       "      <td>Honda</td>\n",
       "      <td>6500.0</td>\n",
       "      <td>sedan</td>\n",
       "      <td>199.0</td>\n",
       "      <td>2.000000</td>\n",
       "      <td>Petrol</td>\n",
       "      <td>yes</td>\n",
       "      <td>2003</td>\n",
       "      <td>front</td>\n",
       "    </tr>\n",
       "    <tr>\n",
       "      <th>8</th>\n",
       "      <td>Mercedes-Benz</td>\n",
       "      <td>21500.0</td>\n",
       "      <td>sedan</td>\n",
       "      <td>146.0</td>\n",
       "      <td>1.800000</td>\n",
       "      <td>Gas</td>\n",
       "      <td>yes</td>\n",
       "      <td>2012</td>\n",
       "      <td>rear</td>\n",
       "    </tr>\n",
       "    <tr>\n",
       "      <th>9</th>\n",
       "      <td>Mercedes-Benz</td>\n",
       "      <td>22700.0</td>\n",
       "      <td>sedan</td>\n",
       "      <td>125.0</td>\n",
       "      <td>2.200000</td>\n",
       "      <td>Diesel</td>\n",
       "      <td>yes</td>\n",
       "      <td>2010</td>\n",
       "      <td>rear</td>\n",
       "    </tr>\n",
       "  </tbody>\n",
       "</table>\n",
       "</div>"
      ],
      "text/plain": [
       "           Brand    price   body  mileage      engV engType registration  \\\n",
       "2  Mercedes-Benz  35000.0  other  135.0    5.500000  Petrol  yes           \n",
       "4  Mercedes-Benz  33000.0  vagon  91.0     2.637962  Other   yes           \n",
       "6  Honda          6500.0   sedan  199.0    2.000000  Petrol  yes           \n",
       "8  Mercedes-Benz  21500.0  sedan  146.0    1.800000  Gas     yes           \n",
       "9  Mercedes-Benz  22700.0  sedan  125.0    2.200000  Diesel  yes           \n",
       "\n",
       "   ProductionYear  drive  \n",
       "2  2008            rear   \n",
       "4  2013            front  \n",
       "6  2003            front  \n",
       "8  2012            rear   \n",
       "9  2010            rear   "
      ]
     },
     "execution_count": 125,
     "metadata": {},
     "output_type": "execute_result"
    }
   ],
   "source": [
    "df_cardata['price'].fillna(df_cardata.groupby('Brand')['price'].transform('mean'), inplace=True)\n",
    "df_cardata.head()"
   ]
  },
  {
   "cell_type": "code",
   "execution_count": 127,
   "metadata": {},
   "outputs": [
    {
     "data": {
      "text/html": [
       "<div>\n",
       "<style scoped>\n",
       "    .dataframe tbody tr th:only-of-type {\n",
       "        vertical-align: middle;\n",
       "    }\n",
       "\n",
       "    .dataframe tbody tr th {\n",
       "        vertical-align: top;\n",
       "    }\n",
       "\n",
       "    .dataframe thead th {\n",
       "        text-align: right;\n",
       "    }\n",
       "</style>\n",
       "<table border=\"1\" class=\"dataframe\">\n",
       "  <thead>\n",
       "    <tr style=\"text-align: right;\">\n",
       "      <th></th>\n",
       "      <th>Brand</th>\n",
       "      <th>price</th>\n",
       "      <th>body</th>\n",
       "      <th>mileage</th>\n",
       "      <th>engV</th>\n",
       "      <th>engType</th>\n",
       "      <th>registration</th>\n",
       "      <th>ProductionYear</th>\n",
       "      <th>drive</th>\n",
       "    </tr>\n",
       "  </thead>\n",
       "  <tbody>\n",
       "    <tr>\n",
       "      <th>8824</th>\n",
       "      <td>Fisker</td>\n",
       "      <td>NaN</td>\n",
       "      <td>other</td>\n",
       "      <td>100.0</td>\n",
       "      <td>2.637962</td>\n",
       "      <td>Other</td>\n",
       "      <td>yes</td>\n",
       "      <td>2001</td>\n",
       "      <td>front</td>\n",
       "    </tr>\n",
       "  </tbody>\n",
       "</table>\n",
       "</div>"
      ],
      "text/plain": [
       "       Brand  price   body  mileage      engV engType registration  \\\n",
       "8824  Fisker NaN     other  100.0    2.637962  Other   yes           \n",
       "\n",
       "      ProductionYear  drive  \n",
       "8824  2001            front  "
      ]
     },
     "execution_count": 127,
     "metadata": {},
     "output_type": "execute_result"
    }
   ],
   "source": [
    "df_cardata[df_cardata['price'].isnull()]"
   ]
  },
  {
   "cell_type": "code",
   "execution_count": 134,
   "metadata": {},
   "outputs": [
    {
     "data": {
      "text/plain": [
       "Int64Index([], dtype='int64')"
      ]
     },
     "execution_count": 134,
     "metadata": {},
     "output_type": "execute_result"
    }
   ],
   "source": [
    "idx = df_cardata[df_cardata['price'].isnull()].index\n",
    "idx"
   ]
  },
  {
   "cell_type": "code",
   "execution_count": 139,
   "metadata": {},
   "outputs": [
    {
     "data": {
      "text/plain": [
       "-9375"
      ]
     },
     "execution_count": 139,
     "metadata": {},
     "output_type": "execute_result"
    }
   ],
   "source": [
    "df_cardata.drop(idx, inplace=True)\n",
    "~df_cardata['price'].isnull().count()"
   ]
  },
  {
   "cell_type": "code",
   "execution_count": 69,
   "metadata": {},
   "outputs": [
    {
     "data": {
      "text/plain": [
       "9090"
      ]
     },
     "execution_count": 69,
     "metadata": {},
     "output_type": "execute_result"
    }
   ],
   "source": [
    "df_cardata['mileage'].astype(bool).sum(axis=0)"
   ]
  },
  {
   "cell_type": "code",
   "execution_count": 75,
   "metadata": {},
   "outputs": [
    {
     "data": {
      "text/plain": [
       "Brand             285\n",
       "price             285\n",
       "body              285\n",
       "mileage           285\n",
       "engV              266\n",
       "engType           285\n",
       "registration      285\n",
       "ProductionYear    285\n",
       "drive             272\n",
       "dtype: int64"
      ]
     },
     "execution_count": 75,
     "metadata": {},
     "output_type": "execute_result"
    }
   ],
   "source": [
    "df_cardata[df_cardata['mileage'] == 0].count()"
   ]
  },
  {
   "cell_type": "code",
   "execution_count": 84,
   "metadata": {},
   "outputs": [],
   "source": [
    "df_cardata['mileage'] = df_cardata['mileage'].replace(0,np.nan)     "
   ]
  },
  {
   "cell_type": "code",
   "execution_count": 95,
   "metadata": {},
   "outputs": [],
   "source": [
    "df_cardata['mileage'].fillna(df_cardata.groupby('Brand')['mileage'].transform('mean'),inplace=True)"
   ]
  },
  {
   "cell_type": "code",
   "execution_count": 96,
   "metadata": {},
   "outputs": [
    {
     "data": {
      "text/html": [
       "<div>\n",
       "<style scoped>\n",
       "    .dataframe tbody tr th:only-of-type {\n",
       "        vertical-align: middle;\n",
       "    }\n",
       "\n",
       "    .dataframe tbody tr th {\n",
       "        vertical-align: top;\n",
       "    }\n",
       "\n",
       "    .dataframe thead th {\n",
       "        text-align: right;\n",
       "    }\n",
       "</style>\n",
       "<table border=\"1\" class=\"dataframe\">\n",
       "  <thead>\n",
       "    <tr style=\"text-align: right;\">\n",
       "      <th></th>\n",
       "      <th>Brand</th>\n",
       "      <th>price</th>\n",
       "      <th>body</th>\n",
       "      <th>mileage</th>\n",
       "      <th>engV</th>\n",
       "      <th>engType</th>\n",
       "      <th>registration</th>\n",
       "      <th>ProductionYear</th>\n",
       "      <th>drive</th>\n",
       "    </tr>\n",
       "  </thead>\n",
       "  <tbody>\n",
       "  </tbody>\n",
       "</table>\n",
       "</div>"
      ],
      "text/plain": [
       "Empty DataFrame\n",
       "Columns: [Brand, price, body, mileage, engV, engType, registration, ProductionYear, drive]\n",
       "Index: []"
      ]
     },
     "execution_count": 96,
     "metadata": {},
     "output_type": "execute_result"
    }
   ],
   "source": [
    "df_cardata[df_cardata['mileage'].isnull()]"
   ]
  },
  {
   "cell_type": "code",
   "execution_count": 98,
   "metadata": {},
   "outputs": [
    {
     "data": {
      "text/plain": [
       "Brand             0  \n",
       "price             0  \n",
       "body              0  \n",
       "mileage           0  \n",
       "engV              434\n",
       "engType           0  \n",
       "registration      0  \n",
       "ProductionYear    0  \n",
       "drive             509\n",
       "dtype: int64"
      ]
     },
     "execution_count": 98,
     "metadata": {},
     "output_type": "execute_result"
    }
   ],
   "source": [
    "df_cardata.isnull().sum()"
   ]
  },
  {
   "cell_type": "code",
   "execution_count": 103,
   "metadata": {},
   "outputs": [
    {
     "data": {
      "text/plain": [
       "Brand             0  \n",
       "price             0  \n",
       "body              0  \n",
       "mileage           0  \n",
       "engV              0  \n",
       "engType           0  \n",
       "registration      0  \n",
       "ProductionYear    0  \n",
       "drive             509\n",
       "dtype: int64"
      ]
     },
     "execution_count": 103,
     "metadata": {},
     "output_type": "execute_result"
    }
   ],
   "source": [
    "df_cardata['engV'].fillna(df_cardata['engV'].mean(), inplace=True)\n",
    "df_cardata.isnull().sum(axis=0)"
   ]
  },
  {
   "cell_type": "code",
   "execution_count": 115,
   "metadata": {},
   "outputs": [
    {
     "data": {
      "text/html": [
       "<div>\n",
       "<style scoped>\n",
       "    .dataframe tbody tr th:only-of-type {\n",
       "        vertical-align: middle;\n",
       "    }\n",
       "\n",
       "    .dataframe tbody tr th {\n",
       "        vertical-align: top;\n",
       "    }\n",
       "\n",
       "    .dataframe thead th {\n",
       "        text-align: right;\n",
       "    }\n",
       "</style>\n",
       "<table border=\"1\" class=\"dataframe\">\n",
       "  <thead>\n",
       "    <tr style=\"text-align: right;\">\n",
       "      <th></th>\n",
       "      <th>Brand</th>\n",
       "      <th>price</th>\n",
       "      <th>body</th>\n",
       "      <th>mileage</th>\n",
       "      <th>engV</th>\n",
       "      <th>engType</th>\n",
       "      <th>registration</th>\n",
       "      <th>ProductionYear</th>\n",
       "      <th>drive</th>\n",
       "    </tr>\n",
       "  </thead>\n",
       "  <tbody>\n",
       "  </tbody>\n",
       "</table>\n",
       "</div>"
      ],
      "text/plain": [
       "Empty DataFrame\n",
       "Columns: [Brand, price, body, mileage, engV, engType, registration, ProductionYear, drive]\n",
       "Index: []"
      ]
     },
     "execution_count": 115,
     "metadata": {},
     "output_type": "execute_result"
    }
   ],
   "source": [
    "df_cardata['drive'].fillna(df_cardata['drive'].mode()[0], inplace=True)\n",
    "df_cardata[df_cardata['drive'].isnull()]"
   ]
  },
  {
   "cell_type": "code",
   "execution_count": 116,
   "metadata": {},
   "outputs": [
    {
     "data": {
      "text/plain": [
       "Brand             0\n",
       "price             0\n",
       "body              0\n",
       "mileage           0\n",
       "engV              0\n",
       "engType           0\n",
       "registration      0\n",
       "ProductionYear    0\n",
       "drive             0\n",
       "dtype: int64"
      ]
     },
     "execution_count": 116,
     "metadata": {},
     "output_type": "execute_result"
    }
   ],
   "source": [
    "df_cardata.isnull().sum(axis=0)"
   ]
  },
  {
   "cell_type": "code",
   "execution_count": 141,
   "metadata": {},
   "outputs": [],
   "source": [
    "pandas_profiling.ProfileReport(df_cardata).to_file(output_file=\"PostProfiling.html\")"
   ]
  },
  {
   "cell_type": "code",
   "execution_count": 142,
   "metadata": {},
   "outputs": [
    {
     "data": {
      "text/html": [
       "<div>\n",
       "<style scoped>\n",
       "    .dataframe tbody tr th:only-of-type {\n",
       "        vertical-align: middle;\n",
       "    }\n",
       "\n",
       "    .dataframe tbody tr th {\n",
       "        vertical-align: top;\n",
       "    }\n",
       "\n",
       "    .dataframe thead th {\n",
       "        text-align: right;\n",
       "    }\n",
       "</style>\n",
       "<table border=\"1\" class=\"dataframe\">\n",
       "  <thead>\n",
       "    <tr style=\"text-align: right;\">\n",
       "      <th></th>\n",
       "      <th>Brand</th>\n",
       "      <th>price</th>\n",
       "      <th>body</th>\n",
       "      <th>mileage</th>\n",
       "      <th>engV</th>\n",
       "      <th>engType</th>\n",
       "      <th>registration</th>\n",
       "      <th>ProductionYear</th>\n",
       "      <th>drive</th>\n",
       "    </tr>\n",
       "  </thead>\n",
       "  <tbody>\n",
       "  </tbody>\n",
       "</table>\n",
       "</div>"
      ],
      "text/plain": [
       "Empty DataFrame\n",
       "Columns: [Brand, price, body, mileage, engV, engType, registration, ProductionYear, drive]\n",
       "Index: []"
      ]
     },
     "execution_count": 142,
     "metadata": {},
     "output_type": "execute_result"
    }
   ],
   "source": [
    "df_cardata[df_cardata['price'] == 0]"
   ]
  },
  {
   "cell_type": "code",
   "execution_count": 143,
   "metadata": {},
   "outputs": [
    {
     "data": {
      "text/html": [
       "<div>\n",
       "<style scoped>\n",
       "    .dataframe tbody tr th:only-of-type {\n",
       "        vertical-align: middle;\n",
       "    }\n",
       "\n",
       "    .dataframe tbody tr th {\n",
       "        vertical-align: top;\n",
       "    }\n",
       "\n",
       "    .dataframe thead th {\n",
       "        text-align: right;\n",
       "    }\n",
       "</style>\n",
       "<table border=\"1\" class=\"dataframe\">\n",
       "  <thead>\n",
       "    <tr style=\"text-align: right;\">\n",
       "      <th></th>\n",
       "      <th>Brand</th>\n",
       "      <th>price</th>\n",
       "      <th>body</th>\n",
       "      <th>mileage</th>\n",
       "      <th>engV</th>\n",
       "      <th>engType</th>\n",
       "      <th>registration</th>\n",
       "      <th>ProductionYear</th>\n",
       "      <th>drive</th>\n",
       "    </tr>\n",
       "  </thead>\n",
       "  <tbody>\n",
       "    <tr>\n",
       "      <th>count</th>\n",
       "      <td>9374</td>\n",
       "      <td>9374.000000</td>\n",
       "      <td>9374</td>\n",
       "      <td>9374.000000</td>\n",
       "      <td>9374.000000</td>\n",
       "      <td>9374</td>\n",
       "      <td>9374</td>\n",
       "      <td>9374.000000</td>\n",
       "      <td>9374</td>\n",
       "    </tr>\n",
       "    <tr>\n",
       "      <th>unique</th>\n",
       "      <td>86</td>\n",
       "      <td>NaN</td>\n",
       "      <td>6</td>\n",
       "      <td>NaN</td>\n",
       "      <td>NaN</td>\n",
       "      <td>4</td>\n",
       "      <td>2</td>\n",
       "      <td>NaN</td>\n",
       "      <td>3</td>\n",
       "    </tr>\n",
       "    <tr>\n",
       "      <th>top</th>\n",
       "      <td>Volkswagen</td>\n",
       "      <td>NaN</td>\n",
       "      <td>sedan</td>\n",
       "      <td>NaN</td>\n",
       "      <td>NaN</td>\n",
       "      <td>Petrol</td>\n",
       "      <td>yes</td>\n",
       "      <td>NaN</td>\n",
       "      <td>front</td>\n",
       "    </tr>\n",
       "    <tr>\n",
       "      <th>freq</th>\n",
       "      <td>919</td>\n",
       "      <td>NaN</td>\n",
       "      <td>3601</td>\n",
       "      <td>NaN</td>\n",
       "      <td>NaN</td>\n",
       "      <td>4309</td>\n",
       "      <td>8813</td>\n",
       "      <td>NaN</td>\n",
       "      <td>5664</td>\n",
       "    </tr>\n",
       "    <tr>\n",
       "      <th>mean</th>\n",
       "      <td>NaN</td>\n",
       "      <td>15517.081150</td>\n",
       "      <td>NaN</td>\n",
       "      <td>145.255332</td>\n",
       "      <td>2.637962</td>\n",
       "      <td>NaN</td>\n",
       "      <td>NaN</td>\n",
       "      <td>2006.464690</td>\n",
       "      <td>NaN</td>\n",
       "    </tr>\n",
       "    <tr>\n",
       "      <th>std</th>\n",
       "      <td>NaN</td>\n",
       "      <td>22168.588839</td>\n",
       "      <td>NaN</td>\n",
       "      <td>95.358965</td>\n",
       "      <td>5.851035</td>\n",
       "      <td>NaN</td>\n",
       "      <td>NaN</td>\n",
       "      <td>7.059242</td>\n",
       "      <td>NaN</td>\n",
       "    </tr>\n",
       "    <tr>\n",
       "      <th>min</th>\n",
       "      <td>NaN</td>\n",
       "      <td>259.350000</td>\n",
       "      <td>NaN</td>\n",
       "      <td>1.000000</td>\n",
       "      <td>0.100000</td>\n",
       "      <td>NaN</td>\n",
       "      <td>NaN</td>\n",
       "      <td>1953.000000</td>\n",
       "      <td>NaN</td>\n",
       "    </tr>\n",
       "    <tr>\n",
       "      <th>25%</th>\n",
       "      <td>NaN</td>\n",
       "      <td>5400.000000</td>\n",
       "      <td>NaN</td>\n",
       "      <td>80.000000</td>\n",
       "      <td>1.600000</td>\n",
       "      <td>NaN</td>\n",
       "      <td>NaN</td>\n",
       "      <td>2004.000000</td>\n",
       "      <td>NaN</td>\n",
       "    </tr>\n",
       "    <tr>\n",
       "      <th>50%</th>\n",
       "      <td>NaN</td>\n",
       "      <td>9500.000000</td>\n",
       "      <td>NaN</td>\n",
       "      <td>133.000000</td>\n",
       "      <td>2.000000</td>\n",
       "      <td>NaN</td>\n",
       "      <td>NaN</td>\n",
       "      <td>2008.000000</td>\n",
       "      <td>NaN</td>\n",
       "    </tr>\n",
       "    <tr>\n",
       "      <th>75%</th>\n",
       "      <td>NaN</td>\n",
       "      <td>16999.000000</td>\n",
       "      <td>NaN</td>\n",
       "      <td>196.000000</td>\n",
       "      <td>2.637962</td>\n",
       "      <td>NaN</td>\n",
       "      <td>NaN</td>\n",
       "      <td>2012.000000</td>\n",
       "      <td>NaN</td>\n",
       "    </tr>\n",
       "    <tr>\n",
       "      <th>max</th>\n",
       "      <td>NaN</td>\n",
       "      <td>547800.000000</td>\n",
       "      <td>NaN</td>\n",
       "      <td>999.000000</td>\n",
       "      <td>99.990000</td>\n",
       "      <td>NaN</td>\n",
       "      <td>NaN</td>\n",
       "      <td>2016.000000</td>\n",
       "      <td>NaN</td>\n",
       "    </tr>\n",
       "  </tbody>\n",
       "</table>\n",
       "</div>"
      ],
      "text/plain": [
       "             Brand          price   body      mileage         engV engType  \\\n",
       "count   9374        9374.000000    9374   9374.000000  9374.000000  9374     \n",
       "unique  86         NaN             6     NaN          NaN           4        \n",
       "top     Volkswagen NaN             sedan NaN          NaN           Petrol   \n",
       "freq    919        NaN             3601  NaN          NaN           4309     \n",
       "mean    NaN         15517.081150   NaN    145.255332   2.637962     NaN      \n",
       "std     NaN         22168.588839   NaN    95.358965    5.851035     NaN      \n",
       "min     NaN         259.350000     NaN    1.000000     0.100000     NaN      \n",
       "25%     NaN         5400.000000    NaN    80.000000    1.600000     NaN      \n",
       "50%     NaN         9500.000000    NaN    133.000000   2.000000     NaN      \n",
       "75%     NaN         16999.000000   NaN    196.000000   2.637962     NaN      \n",
       "max     NaN         547800.000000  NaN    999.000000   99.990000    NaN      \n",
       "\n",
       "       registration  ProductionYear  drive  \n",
       "count   9374         9374.000000     9374   \n",
       "unique  2           NaN              3      \n",
       "top     yes         NaN              front  \n",
       "freq    8813        NaN              5664   \n",
       "mean    NaN          2006.464690     NaN    \n",
       "std     NaN          7.059242        NaN    \n",
       "min     NaN          1953.000000     NaN    \n",
       "25%     NaN          2004.000000     NaN    \n",
       "50%     NaN          2008.000000     NaN    \n",
       "75%     NaN          2012.000000     NaN    \n",
       "max     NaN          2016.000000     NaN    "
      ]
     },
     "execution_count": 143,
     "metadata": {},
     "output_type": "execute_result"
    }
   ],
   "source": [
    "df_cardata.describe(include='all')"
   ]
  },
  {
   "cell_type": "markdown",
   "metadata": {},
   "source": [
    "## 4. Questions\n",
    "### Q 1. Which brand of cars sold the most ?"
   ]
  },
  {
   "cell_type": "code",
   "execution_count": 157,
   "metadata": {},
   "outputs": [
    {
     "data": {
      "text/plain": [
       "Volkswagen       919\n",
       "Mercedes-Benz    863\n",
       "BMW              675\n",
       "Toyota           520\n",
       "VAZ              487\n",
       "Name: Brand, dtype: int64"
      ]
     },
     "execution_count": 157,
     "metadata": {},
     "output_type": "execute_result"
    }
   ],
   "source": [
    "df_cardata['Brand'].value_counts().nlargest()"
   ]
  },
  {
   "cell_type": "code",
   "execution_count": 149,
   "metadata": {},
   "outputs": [
    {
     "data": {
      "text/plain": [
       "Index(['Volkswagen', 'Mercedes-Benz', 'BMW', 'Toyota', 'VAZ'], dtype='object')"
      ]
     },
     "execution_count": 149,
     "metadata": {},
     "output_type": "execute_result"
    }
   ],
   "source": [
    "indexlist = df_cardata['Brand'].value_counts().nlargest().index\n",
    "indexlist"
   ]
  },
  {
   "cell_type": "code",
   "execution_count": 521,
   "metadata": {},
   "outputs": [
    {
     "data": {
      "text/plain": [
       "Text(0, 0.5, 'No. of vehicles')"
      ]
     },
     "execution_count": 521,
     "metadata": {},
     "output_type": "execute_result"
    },
    {
     "data": {
      "image/png": "[encoded data removed]",
      "text/plain": [
       "<Figure size 432x288 with 1 Axes>"
      ]
     },
     "metadata": {
      "needs_background": "light"
     },
     "output_type": "display_data"
    }
   ],
   "source": [
    "sns.countplot(x='Brand', data=df_cardata, order=indexlist)\n",
    "plt.title(\"Cars sold by brand\")\n",
    "plt.xlabel(\"Brand\")\n",
    "plt.ylabel(\"No. of vehicles\")"
   ]
  },
  {
   "cell_type": "code",
   "execution_count": 522,
   "metadata": {},
   "outputs": [
    {
     "data": {
      "text/plain": [
       "<matplotlib.axes._subplots.AxesSubplot at 0x232e05bb390>"
      ]
     },
     "execution_count": 522,
     "metadata": {},
     "output_type": "execute_result"
    },
    {
     "data": {
      "image/png": "[encoded data removed]",
      "text/plain": [
       "<Figure size 432x288 with 1 Axes>"
      ]
     },
     "metadata": {
      "needs_background": "light"
     },
     "output_type": "display_data"
    }
   ],
   "source": [
    "df_cardata['Brand'].value_counts().nlargest().plot.bar()"
   ]
  },
  {
   "cell_type": "markdown",
   "metadata": {},
   "source": [
    "### Q 2. Which body segment of cars sold the most ?"
   ]
  },
  {
   "cell_type": "code",
   "execution_count": 155,
   "metadata": {},
   "outputs": [
    {
     "data": {
      "text/plain": [
       "sedan        3601\n",
       "crossover    1960\n",
       "hatch        1244\n",
       "van          1031\n",
       "other        821 \n",
       "vagon        717 \n",
       "Name: body, dtype: int64"
      ]
     },
     "execution_count": 155,
     "metadata": {},
     "output_type": "execute_result"
    }
   ],
   "source": [
    "df_cardata['body'].value_counts()"
   ]
  },
  {
   "cell_type": "code",
   "execution_count": 161,
   "metadata": {},
   "outputs": [
    {
     "data": {
      "text/plain": [
       "Index(['sedan', 'crossover', 'hatch', 'van', 'other', 'vagon'], dtype='object')"
      ]
     },
     "execution_count": 161,
     "metadata": {},
     "output_type": "execute_result"
    }
   ],
   "source": [
    "df_cardata['body'].value_counts().index"
   ]
  },
  {
   "cell_type": "code",
   "execution_count": 168,
   "metadata": {},
   "outputs": [
    {
     "data": {
      "text/plain": [
       "Text(0, 0.5, 'No. Of Cars')"
      ]
     },
     "execution_count": 168,
     "metadata": {},
     "output_type": "execute_result"
    },
    {
     "data": {
      "image/png": "[encoded data removed]",
      "text/plain": [
       "<Figure size 432x288 with 1 Axes>"
      ]
     },
     "metadata": {
      "needs_background": "light"
     },
     "output_type": "display_data"
    }
   ],
   "source": [
    "sns.countplot(x='body', data=df_cardata, order=df_cardata['body'].value_counts().index)\n",
    "plt.title(\"Car sold by body\")\n",
    "plt.xlabel(\"Body type\")\n",
    "plt.ylabel(\"No. Of Cars\")"
   ]
  },
  {
   "cell_type": "code",
   "execution_count": 520,
   "metadata": {},
   "outputs": [
    {
     "data": {
      "text/plain": [
       "Text(0, 0.5, '% of vehicles')"
      ]
     },
     "execution_count": 520,
     "metadata": {},
     "output_type": "execute_result"
    },
    {
     "data": {
      "image/png": "[encoded data removed]",
      "text/plain": [
       "<Figure size 432x288 with 1 Axes>"
      ]
     },
     "metadata": {
      "needs_background": "light"
     },
     "output_type": "display_data"
    }
   ],
   "source": [
    "sns.countplot(x='body', data=df_cardata, order=(df_cardata['body'].value_counts()/len(df_cardata)*100).index)\n",
    "#(df_cardata['body'].value_counts()/len(df_cardata)*100).plot.bar()\n",
    "plt.title(\"Car sold by body\", fontsize=13)\n",
    "plt.xlabel(\"Body type\", fontsize=13)\n",
    "plt.ylabel(\"% of vehicles\", fontsize=13)"
   ]
  },
  {
   "cell_type": "markdown",
   "metadata": {},
   "source": [
    "### Q 3. Which drive segment of cars sold the most ?"
   ]
  },
  {
   "cell_type": "code",
   "execution_count": 218,
   "metadata": {},
   "outputs": [
    {
     "data": {
      "text/plain": [
       "<matplotlib.axes._subplots.AxesSubplot at 0x232bc586128>"
      ]
     },
     "execution_count": 218,
     "metadata": {},
     "output_type": "execute_result"
    },
    {
     "data": {
      "image/png": "[encoded data removed]",
      "text/plain": [
       "<Figure size 288x288 with 1 Axes>"
      ]
     },
     "metadata": {},
     "output_type": "display_data"
    }
   ],
   "source": [
    "space = (0.05, 0.05, 0.05)\n",
    "df_cardata['drive'].value_counts().plot(kind=\"pie\", explode=space, \n",
    "                                        figsize=(4, 4), fontsize=14, \n",
    "                                        shadow=True, autopct='%.2f')"
   ]
  },
  {
   "cell_type": "code",
   "execution_count": 228,
   "metadata": {},
   "outputs": [
    {
     "data": {
      "image/png": "[encoded data removed]",
      "text/plain": [
       "<Figure size 432x288 with 1 Axes>"
      ]
     },
     "metadata": {
      "needs_background": "light"
     },
     "output_type": "display_data"
    }
   ],
   "source": [
    "sns.countplot(x='body', data=df_cardata, hue='drive')\n",
    "plt.xlabel(\"Body Type\")\n",
    "plt.ylabel(\"Vehicle Count\")\n",
    "plt.show()"
   ]
  },
  {
   "cell_type": "code",
   "execution_count": 236,
   "metadata": {},
   "outputs": [
    {
     "data": {
      "text/plain": [
       "2     (20000.0, 40000.0]\n",
       "4     (20000.0, 40000.0]\n",
       "6     (-0.001, 20000.0] \n",
       "8     (20000.0, 40000.0]\n",
       "9     (20000.0, 40000.0]\n",
       "10    (20000.0, 40000.0]\n",
       "12    (20000.0, 40000.0]\n",
       "13    (-0.001, 20000.0] \n",
       "14    (20000.0, 40000.0]\n",
       "15    (-0.001, 20000.0] \n",
       "Name: price, dtype: category\n",
       "Categories (6, interval[float64]): [(-0.001, 20000.0] < (20000.0, 40000.0] < (40000.0, 60000.0] < (60000.0, 80000.0] < (80000.0, 100000.0] < (100000.0, 600000.0]]"
      ]
     },
     "execution_count": 236,
     "metadata": {},
     "output_type": "execute_result"
    }
   ],
   "source": [
    "pd.cut(df_cardata['price'],[0,20000,40000,60000,80000,100000,600000], \n",
    "       include_lowest=True).head(10)"
   ]
  },
  {
   "cell_type": "code",
   "execution_count": 237,
   "metadata": {},
   "outputs": [
    {
     "data": {
      "text/plain": [
       "2     20-39K\n",
       "4     20-39K\n",
       "6     <20K  \n",
       "8     20-39K\n",
       "9     20-39K\n",
       "10    20-39K\n",
       "12    20-39K\n",
       "13    <20K  \n",
       "14    20-39K\n",
       "15    <20K  \n",
       "Name: price, dtype: category\n",
       "Categories (6, object): [<20K < 20-39K < 40-59K < 60-79K < 80-99K < >100K]"
      ]
     },
     "execution_count": 237,
     "metadata": {},
     "output_type": "execute_result"
    }
   ],
   "source": [
    "pd.cut(df_cardata['price'],[0,20000,40000,60000,80000,100000,600000], \n",
    "       labels = ['<20K','20-39K','40-59K','60-79K','80-99K','>100K'], include_lowest=True).head(10)"
   ]
  },
  {
   "cell_type": "code",
   "execution_count": 248,
   "metadata": {},
   "outputs": [
    {
     "data": {
      "text/html": [
       "<div>\n",
       "<style scoped>\n",
       "    .dataframe tbody tr th:only-of-type {\n",
       "        vertical-align: middle;\n",
       "    }\n",
       "\n",
       "    .dataframe tbody tr th {\n",
       "        vertical-align: top;\n",
       "    }\n",
       "\n",
       "    .dataframe thead th {\n",
       "        text-align: right;\n",
       "    }\n",
       "</style>\n",
       "<table border=\"1\" class=\"dataframe\">\n",
       "  <thead>\n",
       "    <tr style=\"text-align: right;\">\n",
       "      <th></th>\n",
       "      <th>Brand</th>\n",
       "      <th>price</th>\n",
       "      <th>body</th>\n",
       "      <th>mileage</th>\n",
       "      <th>engV</th>\n",
       "      <th>engType</th>\n",
       "      <th>registration</th>\n",
       "      <th>ProductionYear</th>\n",
       "      <th>drive</th>\n",
       "      <th>price_group</th>\n",
       "    </tr>\n",
       "  </thead>\n",
       "  <tbody>\n",
       "    <tr>\n",
       "      <th>2</th>\n",
       "      <td>Mercedes-Benz</td>\n",
       "      <td>35000.0</td>\n",
       "      <td>other</td>\n",
       "      <td>135.0</td>\n",
       "      <td>5.500000</td>\n",
       "      <td>Petrol</td>\n",
       "      <td>yes</td>\n",
       "      <td>2008</td>\n",
       "      <td>rear</td>\n",
       "      <td>20-39K</td>\n",
       "    </tr>\n",
       "    <tr>\n",
       "      <th>4</th>\n",
       "      <td>Mercedes-Benz</td>\n",
       "      <td>33000.0</td>\n",
       "      <td>vagon</td>\n",
       "      <td>91.0</td>\n",
       "      <td>2.637962</td>\n",
       "      <td>Other</td>\n",
       "      <td>yes</td>\n",
       "      <td>2013</td>\n",
       "      <td>front</td>\n",
       "      <td>20-39K</td>\n",
       "    </tr>\n",
       "    <tr>\n",
       "      <th>6</th>\n",
       "      <td>Honda</td>\n",
       "      <td>6500.0</td>\n",
       "      <td>sedan</td>\n",
       "      <td>199.0</td>\n",
       "      <td>2.000000</td>\n",
       "      <td>Petrol</td>\n",
       "      <td>yes</td>\n",
       "      <td>2003</td>\n",
       "      <td>front</td>\n",
       "      <td>&lt;20K</td>\n",
       "    </tr>\n",
       "    <tr>\n",
       "      <th>8</th>\n",
       "      <td>Mercedes-Benz</td>\n",
       "      <td>21500.0</td>\n",
       "      <td>sedan</td>\n",
       "      <td>146.0</td>\n",
       "      <td>1.800000</td>\n",
       "      <td>Gas</td>\n",
       "      <td>yes</td>\n",
       "      <td>2012</td>\n",
       "      <td>rear</td>\n",
       "      <td>20-39K</td>\n",
       "    </tr>\n",
       "    <tr>\n",
       "      <th>9</th>\n",
       "      <td>Mercedes-Benz</td>\n",
       "      <td>22700.0</td>\n",
       "      <td>sedan</td>\n",
       "      <td>125.0</td>\n",
       "      <td>2.200000</td>\n",
       "      <td>Diesel</td>\n",
       "      <td>yes</td>\n",
       "      <td>2010</td>\n",
       "      <td>rear</td>\n",
       "      <td>20-39K</td>\n",
       "    </tr>\n",
       "  </tbody>\n",
       "</table>\n",
       "</div>"
      ],
      "text/plain": [
       "           Brand    price   body  mileage      engV engType registration  \\\n",
       "2  Mercedes-Benz  35000.0  other  135.0    5.500000  Petrol  yes           \n",
       "4  Mercedes-Benz  33000.0  vagon  91.0     2.637962  Other   yes           \n",
       "6  Honda          6500.0   sedan  199.0    2.000000  Petrol  yes           \n",
       "8  Mercedes-Benz  21500.0  sedan  146.0    1.800000  Gas     yes           \n",
       "9  Mercedes-Benz  22700.0  sedan  125.0    2.200000  Diesel  yes           \n",
       "\n",
       "   ProductionYear  drive price_group  \n",
       "2  2008            rear   20-39K      \n",
       "4  2013            front  20-39K      \n",
       "6  2003            front  <20K        \n",
       "8  2012            rear   20-39K      \n",
       "9  2010            rear   20-39K      "
      ]
     },
     "execution_count": 248,
     "metadata": {},
     "output_type": "execute_result"
    }
   ],
   "source": [
    "df_cardata['price_group'] = pd.cut(df_cardata['price'],[0,20000,40000,60000,80000,100000,600000], \n",
    "                                   labels = ['<20K','20-39K','40-59K','60-79K','80-99K','>100K'], include_lowest=True)\n",
    "df_cardata['price_group'] = df_cardata['price_group'].astype(object)  # making this column as object\n",
    "df_cardata.head()"
   ]
  },
  {
   "cell_type": "code",
   "execution_count": 255,
   "metadata": {},
   "outputs": [
    {
     "data": {
      "text/plain": [
       "Text(0.5, 1.0, 'Price group bar chart')"
      ]
     },
     "execution_count": 255,
     "metadata": {},
     "output_type": "execute_result"
    },
    {
     "data": {
      "image/png": "[encoded data removed]",
      "text/plain": [
       "<Figure size 432x288 with 1 Axes>"
      ]
     },
     "metadata": {
      "needs_background": "light"
     },
     "output_type": "display_data"
    }
   ],
   "source": [
    "(df_cardata['price_group'].value_counts()/len(df_cardata)*100).plot(kind='bar')\n",
    "plt.ylabel(\"% of vehicles\")\n",
    "plt.xlabel(\"Price Group\")\n",
    "plt.title(\"Price group bar chart\")"
   ]
  },
  {
   "cell_type": "code",
   "execution_count": 261,
   "metadata": {},
   "outputs": [
    {
     "data": {
      "text/plain": [
       "Text(0.5, 1.0, 'Price group bar chart')"
      ]
     },
     "execution_count": 261,
     "metadata": {},
     "output_type": "execute_result"
    },
    {
     "data": {
      "image/png": "[encoded data removed]",
      "text/plain": [
       "<Figure size 432x288 with 1 Axes>"
      ]
     },
     "metadata": {
      "needs_background": "light"
     },
     "output_type": "display_data"
    }
   ],
   "source": [
    "sns.countplot(x='price_group', data=df_cardata, \n",
    "              order=(df_cardata['price_group'].value_counts()/len(df_cardata)*100).index)\n",
    "plt.ylabel(\"% of vehicles\")\n",
    "plt.xlabel(\"Price Group\")\n",
    "plt.title(\"Price group bar chart\")"
   ]
  },
  {
   "cell_type": "code",
   "execution_count": 515,
   "metadata": {},
   "outputs": [
    {
     "name": "stdout",
     "output_type": "stream",
     "text": [
      "Index(['Mercedes-Benz', 'Land Rover', 'BMW', 'Tesla', 'Bentley', 'Lexus',\n",
      "       'Toyota', 'Porsche', 'Rolls-Royce', 'Aston Martin', 'Ferrari', 'Nissan',\n",
      "       'Maserati', 'Cadillac', 'Lamborghini', 'Ford'],\n",
      "      dtype='object')\n"
     ]
    },
    {
     "data": {
      "text/plain": [
       "Text(, Brand, '')"
      ]
     },
     "execution_count": 515,
     "metadata": {},
     "output_type": "execute_result"
    },
    {
     "ename": "ValueError",
     "evalue": "could not convert string to float: ",
     "output_type": "error",
     "traceback": [
      "\u001b[1;31m---------------------------------------------------------------------------\u001b[0m",
      "\u001b[1;31mValueError\u001b[0m                                Traceback (most recent call last)",
      "\u001b[1;32mC:\\Anaconda3\\lib\\site-packages\\IPython\\core\\formatters.py\u001b[0m in \u001b[0;36m__call__\u001b[1;34m(self, obj)\u001b[0m\n\u001b[0;32m    339\u001b[0m                 \u001b[1;32mpass\u001b[0m\u001b[1;33m\u001b[0m\u001b[1;33m\u001b[0m\u001b[0m\n\u001b[0;32m    340\u001b[0m             \u001b[1;32melse\u001b[0m\u001b[1;33m:\u001b[0m\u001b[1;33m\u001b[0m\u001b[1;33m\u001b[0m\u001b[0m\n\u001b[1;32m--> 341\u001b[1;33m                 \u001b[1;32mreturn\u001b[0m \u001b[0mprinter\u001b[0m\u001b[1;33m(\u001b[0m\u001b[0mobj\u001b[0m\u001b[1;33m)\u001b[0m\u001b[1;33m\u001b[0m\u001b[1;33m\u001b[0m\u001b[0m\n\u001b[0m\u001b[0;32m    342\u001b[0m             \u001b[1;31m# Finally look for special method names\u001b[0m\u001b[1;33m\u001b[0m\u001b[1;33m\u001b[0m\u001b[1;33m\u001b[0m\u001b[0m\n\u001b[0;32m    343\u001b[0m             \u001b[0mmethod\u001b[0m \u001b[1;33m=\u001b[0m \u001b[0mget_real_method\u001b[0m\u001b[1;33m(\u001b[0m\u001b[0mobj\u001b[0m\u001b[1;33m,\u001b[0m \u001b[0mself\u001b[0m\u001b[1;33m.\u001b[0m\u001b[0mprint_method\u001b[0m\u001b[1;33m)\u001b[0m\u001b[1;33m\u001b[0m\u001b[1;33m\u001b[0m\u001b[0m\n",
      "\u001b[1;32mC:\\Anaconda3\\lib\\site-packages\\IPython\\core\\pylabtools.py\u001b[0m in \u001b[0;36m<lambda>\u001b[1;34m(fig)\u001b[0m\n\u001b[0;32m    242\u001b[0m \u001b[1;33m\u001b[0m\u001b[0m\n\u001b[0;32m    243\u001b[0m     \u001b[1;32mif\u001b[0m \u001b[1;34m'png'\u001b[0m \u001b[1;32min\u001b[0m \u001b[0mformats\u001b[0m\u001b[1;33m:\u001b[0m\u001b[1;33m\u001b[0m\u001b[1;33m\u001b[0m\u001b[0m\n\u001b[1;32m--> 244\u001b[1;33m         \u001b[0mpng_formatter\u001b[0m\u001b[1;33m.\u001b[0m\u001b[0mfor_type\u001b[0m\u001b[1;33m(\u001b[0m\u001b[0mFigure\u001b[0m\u001b[1;33m,\u001b[0m \u001b[1;32mlambda\u001b[0m \u001b[0mfig\u001b[0m\u001b[1;33m:\u001b[0m \u001b[0mprint_figure\u001b[0m\u001b[1;33m(\u001b[0m\u001b[0mfig\u001b[0m\u001b[1;33m,\u001b[0m \u001b[1;34m'png'\u001b[0m\u001b[1;33m,\u001b[0m \u001b[1;33m**\u001b[0m\u001b[0mkwargs\u001b[0m\u001b[1;33m)\u001b[0m\u001b[1;33m)\u001b[0m\u001b[1;33m\u001b[0m\u001b[1;33m\u001b[0m\u001b[0m\n\u001b[0m\u001b[0;32m    245\u001b[0m     \u001b[1;32mif\u001b[0m \u001b[1;34m'retina'\u001b[0m \u001b[1;32min\u001b[0m \u001b[0mformats\u001b[0m \u001b[1;32mor\u001b[0m \u001b[1;34m'png2x'\u001b[0m \u001b[1;32min\u001b[0m \u001b[0mformats\u001b[0m\u001b[1;33m:\u001b[0m\u001b[1;33m\u001b[0m\u001b[1;33m\u001b[0m\u001b[0m\n\u001b[0;32m    246\u001b[0m         \u001b[0mpng_formatter\u001b[0m\u001b[1;33m.\u001b[0m\u001b[0mfor_type\u001b[0m\u001b[1;33m(\u001b[0m\u001b[0mFigure\u001b[0m\u001b[1;33m,\u001b[0m \u001b[1;32mlambda\u001b[0m \u001b[0mfig\u001b[0m\u001b[1;33m:\u001b[0m \u001b[0mretina_figure\u001b[0m\u001b[1;33m(\u001b[0m\u001b[0mfig\u001b[0m\u001b[1;33m,\u001b[0m \u001b[1;33m**\u001b[0m\u001b[0mkwargs\u001b[0m\u001b[1;33m)\u001b[0m\u001b[1;33m)\u001b[0m\u001b[1;33m\u001b[0m\u001b[1;33m\u001b[0m\u001b[0m\n",
      "\u001b[1;32mC:\\Anaconda3\\lib\\site-packages\\IPython\\core\\pylabtools.py\u001b[0m in \u001b[0;36mprint_figure\u001b[1;34m(fig, fmt, bbox_inches, **kwargs)\u001b[0m\n\u001b[0;32m    126\u001b[0m \u001b[1;33m\u001b[0m\u001b[0m\n\u001b[0;32m    127\u001b[0m     \u001b[0mbytes_io\u001b[0m \u001b[1;33m=\u001b[0m \u001b[0mBytesIO\u001b[0m\u001b[1;33m(\u001b[0m\u001b[1;33m)\u001b[0m\u001b[1;33m\u001b[0m\u001b[1;33m\u001b[0m\u001b[0m\n\u001b[1;32m--> 128\u001b[1;33m     \u001b[0mfig\u001b[0m\u001b[1;33m.\u001b[0m\u001b[0mcanvas\u001b[0m\u001b[1;33m.\u001b[0m\u001b[0mprint_figure\u001b[0m\u001b[1;33m(\u001b[0m\u001b[0mbytes_io\u001b[0m\u001b[1;33m,\u001b[0m \u001b[1;33m**\u001b[0m\u001b[0mkw\u001b[0m\u001b[1;33m)\u001b[0m\u001b[1;33m\u001b[0m\u001b[1;33m\u001b[0m\u001b[0m\n\u001b[0m\u001b[0;32m    129\u001b[0m     \u001b[0mdata\u001b[0m \u001b[1;33m=\u001b[0m \u001b[0mbytes_io\u001b[0m\u001b[1;33m.\u001b[0m\u001b[0mgetvalue\u001b[0m\u001b[1;33m(\u001b[0m\u001b[1;33m)\u001b[0m\u001b[1;33m\u001b[0m\u001b[1;33m\u001b[0m\u001b[0m\n\u001b[0;32m    130\u001b[0m     \u001b[1;32mif\u001b[0m \u001b[0mfmt\u001b[0m \u001b[1;33m==\u001b[0m \u001b[1;34m'svg'\u001b[0m\u001b[1;33m:\u001b[0m\u001b[1;33m\u001b[0m\u001b[1;33m\u001b[0m\u001b[0m\n",
      "\u001b[1;32mC:\\Anaconda3\\lib\\site-packages\\matplotlib\\backend_bases.py\u001b[0m in \u001b[0;36mprint_figure\u001b[1;34m(self, filename, dpi, facecolor, edgecolor, orientation, format, bbox_inches, **kwargs)\u001b[0m\n\u001b[0;32m   2058\u001b[0m                     \u001b[0mbbox_artists\u001b[0m \u001b[1;33m=\u001b[0m \u001b[0mkwargs\u001b[0m\u001b[1;33m.\u001b[0m\u001b[0mpop\u001b[0m\u001b[1;33m(\u001b[0m\u001b[1;34m\"bbox_extra_artists\"\u001b[0m\u001b[1;33m,\u001b[0m \u001b[1;32mNone\u001b[0m\u001b[1;33m)\u001b[0m\u001b[1;33m\u001b[0m\u001b[1;33m\u001b[0m\u001b[0m\n\u001b[0;32m   2059\u001b[0m                     bbox_inches = self.figure.get_tightbbox(renderer,\n\u001b[1;32m-> 2060\u001b[1;33m                             bbox_extra_artists=bbox_artists)\n\u001b[0m\u001b[0;32m   2061\u001b[0m                     \u001b[0mpad\u001b[0m \u001b[1;33m=\u001b[0m \u001b[0mkwargs\u001b[0m\u001b[1;33m.\u001b[0m\u001b[0mpop\u001b[0m\u001b[1;33m(\u001b[0m\u001b[1;34m\"pad_inches\"\u001b[0m\u001b[1;33m,\u001b[0m \u001b[1;32mNone\u001b[0m\u001b[1;33m)\u001b[0m\u001b[1;33m\u001b[0m\u001b[1;33m\u001b[0m\u001b[0m\n\u001b[0;32m   2062\u001b[0m                     \u001b[1;32mif\u001b[0m \u001b[0mpad\u001b[0m \u001b[1;32mis\u001b[0m \u001b[1;32mNone\u001b[0m\u001b[1;33m:\u001b[0m\u001b[1;33m\u001b[0m\u001b[1;33m\u001b[0m\u001b[0m\n",
      "\u001b[1;32mC:\\Anaconda3\\lib\\site-packages\\matplotlib\\figure.py\u001b[0m in \u001b[0;36mget_tightbbox\u001b[1;34m(self, renderer, bbox_extra_artists)\u001b[0m\n\u001b[0;32m   2364\u001b[0m \u001b[1;33m\u001b[0m\u001b[0m\n\u001b[0;32m   2365\u001b[0m         \u001b[1;32mfor\u001b[0m \u001b[0ma\u001b[0m \u001b[1;32min\u001b[0m \u001b[0martists\u001b[0m\u001b[1;33m:\u001b[0m\u001b[1;33m\u001b[0m\u001b[1;33m\u001b[0m\u001b[0m\n\u001b[1;32m-> 2366\u001b[1;33m             \u001b[0mbbox\u001b[0m \u001b[1;33m=\u001b[0m \u001b[0ma\u001b[0m\u001b[1;33m.\u001b[0m\u001b[0mget_tightbbox\u001b[0m\u001b[1;33m(\u001b[0m\u001b[0mrenderer\u001b[0m\u001b[1;33m)\u001b[0m\u001b[1;33m\u001b[0m\u001b[1;33m\u001b[0m\u001b[0m\n\u001b[0m\u001b[0;32m   2367\u001b[0m             \u001b[1;32mif\u001b[0m \u001b[0mbbox\u001b[0m \u001b[1;32mis\u001b[0m \u001b[1;32mnot\u001b[0m \u001b[1;32mNone\u001b[0m \u001b[1;32mand\u001b[0m \u001b[1;33m(\u001b[0m\u001b[0mbbox\u001b[0m\u001b[1;33m.\u001b[0m\u001b[0mwidth\u001b[0m \u001b[1;33m!=\u001b[0m \u001b[1;36m0\u001b[0m \u001b[1;32mor\u001b[0m \u001b[0mbbox\u001b[0m\u001b[1;33m.\u001b[0m\u001b[0mheight\u001b[0m \u001b[1;33m!=\u001b[0m \u001b[1;36m0\u001b[0m\u001b[1;33m)\u001b[0m\u001b[1;33m:\u001b[0m\u001b[1;33m\u001b[0m\u001b[1;33m\u001b[0m\u001b[0m\n\u001b[0;32m   2368\u001b[0m                 \u001b[0mbb\u001b[0m\u001b[1;33m.\u001b[0m\u001b[0mappend\u001b[0m\u001b[1;33m(\u001b[0m\u001b[0mbbox\u001b[0m\u001b[1;33m)\u001b[0m\u001b[1;33m\u001b[0m\u001b[1;33m\u001b[0m\u001b[0m\n",
      "\u001b[1;32mC:\\Anaconda3\\lib\\site-packages\\matplotlib\\artist.py\u001b[0m in \u001b[0;36mget_tightbbox\u001b[1;34m(self, renderer)\u001b[0m\n\u001b[0;32m    265\u001b[0m             \u001b[0mThe\u001b[0m \u001b[0menclosing\u001b[0m \u001b[0mbounding\u001b[0m \u001b[0mbox\u001b[0m \u001b[1;33m(\u001b[0m\u001b[1;32min\u001b[0m \u001b[0mfigure\u001b[0m \u001b[0mpixel\u001b[0m \u001b[0mco\u001b[0m\u001b[1;33m-\u001b[0m\u001b[0mordinates\u001b[0m\u001b[1;33m)\u001b[0m\u001b[1;33m.\u001b[0m\u001b[1;33m\u001b[0m\u001b[1;33m\u001b[0m\u001b[0m\n\u001b[0;32m    266\u001b[0m         \"\"\"\n\u001b[1;32m--> 267\u001b[1;33m         \u001b[0mbbox\u001b[0m \u001b[1;33m=\u001b[0m \u001b[0mself\u001b[0m\u001b[1;33m.\u001b[0m\u001b[0mget_window_extent\u001b[0m\u001b[1;33m(\u001b[0m\u001b[0mrenderer\u001b[0m\u001b[1;33m)\u001b[0m\u001b[1;33m\u001b[0m\u001b[1;33m\u001b[0m\u001b[0m\n\u001b[0m\u001b[0;32m    268\u001b[0m         \u001b[1;32mif\u001b[0m \u001b[0mself\u001b[0m\u001b[1;33m.\u001b[0m\u001b[0mget_clip_on\u001b[0m\u001b[1;33m(\u001b[0m\u001b[1;33m)\u001b[0m\u001b[1;33m:\u001b[0m\u001b[1;33m\u001b[0m\u001b[1;33m\u001b[0m\u001b[0m\n\u001b[0;32m    269\u001b[0m             \u001b[0mclip_box\u001b[0m \u001b[1;33m=\u001b[0m \u001b[0mself\u001b[0m\u001b[1;33m.\u001b[0m\u001b[0mget_clip_box\u001b[0m\u001b[1;33m(\u001b[0m\u001b[1;33m)\u001b[0m\u001b[1;33m\u001b[0m\u001b[1;33m\u001b[0m\u001b[0m\n",
      "\u001b[1;32mC:\\Anaconda3\\lib\\site-packages\\matplotlib\\text.py\u001b[0m in \u001b[0;36mget_window_extent\u001b[1;34m(self, renderer, dpi)\u001b[0m\n\u001b[0;32m    878\u001b[0m             \u001b[0mself\u001b[0m\u001b[1;33m.\u001b[0m\u001b[0mfigure\u001b[0m\u001b[1;33m.\u001b[0m\u001b[0mdpi\u001b[0m \u001b[1;33m=\u001b[0m \u001b[0mdpi\u001b[0m\u001b[1;33m\u001b[0m\u001b[1;33m\u001b[0m\u001b[0m\n\u001b[0;32m    879\u001b[0m         \u001b[1;32mif\u001b[0m \u001b[0mself\u001b[0m\u001b[1;33m.\u001b[0m\u001b[0mget_text\u001b[0m\u001b[1;33m(\u001b[0m\u001b[1;33m)\u001b[0m \u001b[1;33m==\u001b[0m \u001b[1;34m''\u001b[0m\u001b[1;33m:\u001b[0m\u001b[1;33m\u001b[0m\u001b[1;33m\u001b[0m\u001b[0m\n\u001b[1;32m--> 880\u001b[1;33m             \u001b[0mtx\u001b[0m\u001b[1;33m,\u001b[0m \u001b[0mty\u001b[0m \u001b[1;33m=\u001b[0m \u001b[0mself\u001b[0m\u001b[1;33m.\u001b[0m\u001b[0m_get_xy_display\u001b[0m\u001b[1;33m(\u001b[0m\u001b[1;33m)\u001b[0m\u001b[1;33m\u001b[0m\u001b[1;33m\u001b[0m\u001b[0m\n\u001b[0m\u001b[0;32m    881\u001b[0m             \u001b[1;32mreturn\u001b[0m \u001b[0mBbox\u001b[0m\u001b[1;33m.\u001b[0m\u001b[0mfrom_bounds\u001b[0m\u001b[1;33m(\u001b[0m\u001b[0mtx\u001b[0m\u001b[1;33m,\u001b[0m \u001b[0mty\u001b[0m\u001b[1;33m,\u001b[0m \u001b[1;36m0\u001b[0m\u001b[1;33m,\u001b[0m \u001b[1;36m0\u001b[0m\u001b[1;33m)\u001b[0m\u001b[1;33m\u001b[0m\u001b[1;33m\u001b[0m\u001b[0m\n\u001b[0;32m    882\u001b[0m \u001b[1;33m\u001b[0m\u001b[0m\n",
      "\u001b[1;32mC:\\Anaconda3\\lib\\site-packages\\matplotlib\\text.py\u001b[0m in \u001b[0;36m_get_xy_display\u001b[1;34m(self)\u001b[0m\n\u001b[0;32m    221\u001b[0m         \u001b[0mGet\u001b[0m \u001b[0mthe\u001b[0m \u001b[1;33m(\u001b[0m\u001b[0mpossibly\u001b[0m \u001b[0munit\u001b[0m \u001b[0mconverted\u001b[0m\u001b[1;33m)\u001b[0m \u001b[0mtransformed\u001b[0m \u001b[0mx\u001b[0m\u001b[1;33m,\u001b[0m \u001b[0my\u001b[0m \u001b[1;32min\u001b[0m \u001b[0mdisplay\u001b[0m \u001b[0mcoords\u001b[0m\u001b[1;33m.\u001b[0m\u001b[1;33m\u001b[0m\u001b[1;33m\u001b[0m\u001b[0m\n\u001b[0;32m    222\u001b[0m         \"\"\"\n\u001b[1;32m--> 223\u001b[1;33m         \u001b[0mx\u001b[0m\u001b[1;33m,\u001b[0m \u001b[0my\u001b[0m \u001b[1;33m=\u001b[0m \u001b[0mself\u001b[0m\u001b[1;33m.\u001b[0m\u001b[0mget_unitless_position\u001b[0m\u001b[1;33m(\u001b[0m\u001b[1;33m)\u001b[0m\u001b[1;33m\u001b[0m\u001b[1;33m\u001b[0m\u001b[0m\n\u001b[0m\u001b[0;32m    224\u001b[0m         \u001b[1;32mreturn\u001b[0m \u001b[0mself\u001b[0m\u001b[1;33m.\u001b[0m\u001b[0mget_transform\u001b[0m\u001b[1;33m(\u001b[0m\u001b[1;33m)\u001b[0m\u001b[1;33m.\u001b[0m\u001b[0mtransform_point\u001b[0m\u001b[1;33m(\u001b[0m\u001b[1;33m(\u001b[0m\u001b[0mx\u001b[0m\u001b[1;33m,\u001b[0m \u001b[0my\u001b[0m\u001b[1;33m)\u001b[0m\u001b[1;33m)\u001b[0m\u001b[1;33m\u001b[0m\u001b[1;33m\u001b[0m\u001b[0m\n\u001b[0;32m    225\u001b[0m \u001b[1;33m\u001b[0m\u001b[0m\n",
      "\u001b[1;32mC:\\Anaconda3\\lib\\site-packages\\matplotlib\\text.py\u001b[0m in \u001b[0;36mget_unitless_position\u001b[1;34m(self)\u001b[0m\n\u001b[0;32m    811\u001b[0m         \u001b[1;31m# This will get the position with all unit information stripped away.\u001b[0m\u001b[1;33m\u001b[0m\u001b[1;33m\u001b[0m\u001b[1;33m\u001b[0m\u001b[0m\n\u001b[0;32m    812\u001b[0m         \u001b[1;31m# This is here for convenience since it is done in several locations.\u001b[0m\u001b[1;33m\u001b[0m\u001b[1;33m\u001b[0m\u001b[1;33m\u001b[0m\u001b[0m\n\u001b[1;32m--> 813\u001b[1;33m         \u001b[0mx\u001b[0m \u001b[1;33m=\u001b[0m \u001b[0mfloat\u001b[0m\u001b[1;33m(\u001b[0m\u001b[0mself\u001b[0m\u001b[1;33m.\u001b[0m\u001b[0mconvert_xunits\u001b[0m\u001b[1;33m(\u001b[0m\u001b[0mself\u001b[0m\u001b[1;33m.\u001b[0m\u001b[0m_x\u001b[0m\u001b[1;33m)\u001b[0m\u001b[1;33m)\u001b[0m\u001b[1;33m\u001b[0m\u001b[1;33m\u001b[0m\u001b[0m\n\u001b[0m\u001b[0;32m    814\u001b[0m         \u001b[0my\u001b[0m \u001b[1;33m=\u001b[0m \u001b[0mfloat\u001b[0m\u001b[1;33m(\u001b[0m\u001b[0mself\u001b[0m\u001b[1;33m.\u001b[0m\u001b[0mconvert_yunits\u001b[0m\u001b[1;33m(\u001b[0m\u001b[0mself\u001b[0m\u001b[1;33m.\u001b[0m\u001b[0m_y\u001b[0m\u001b[1;33m)\u001b[0m\u001b[1;33m)\u001b[0m\u001b[1;33m\u001b[0m\u001b[1;33m\u001b[0m\u001b[0m\n\u001b[0;32m    815\u001b[0m         \u001b[1;32mreturn\u001b[0m \u001b[0mx\u001b[0m\u001b[1;33m,\u001b[0m \u001b[0my\u001b[0m\u001b[1;33m\u001b[0m\u001b[1;33m\u001b[0m\u001b[0m\n",
      "\u001b[1;31mValueError\u001b[0m: could not convert string to float: "
     ]
    },
    {
     "data": {
      "text/plain": [
       "<Figure size 432x288 with 1 Axes>"
      ]
     },
     "metadata": {
      "needs_background": "light"
     },
     "output_type": "display_data"
    }
   ],
   "source": [
    "df_carprice = df_cardata[df_cardata['price'] >= 100000]\n",
    "price_list=(df_carprice['Brand'].value_counts()/len(df_carprice)*100).index\n",
    "print(price_list)\n",
    "sns.countplot(y='Brand', data=df_carprice, order=price_list)\n",
    "plt.title(\"Brand wise Sales Distribution in Higher Price Segment\")\n",
    "plt.xlabel('% of vehicles')\n",
    "plt.ylabel('Brand type');\n"
   ]
  },
  {
   "cell_type": "markdown",
   "metadata": {},
   "source": [
    "### Q 5. How does price relate to body and drive type of car?"
   ]
  },
  {
   "cell_type": "markdown",
   "metadata": {},
   "source": [
    "   <li> price group v/s body type"
   ]
  },
  {
   "cell_type": "code",
   "execution_count": 303,
   "metadata": {},
   "outputs": [
    {
     "data": {
      "image/png": "[encoded data removed]",
      "text/plain": [
       "<Figure size 432x288 with 1 Axes>"
      ]
     },
     "metadata": {
      "needs_background": "light"
     },
     "output_type": "display_data"
    }
   ],
   "source": [
    "labels = ['<20K','20-39K','40-59K','60-79K','80-99K','>100K']\n",
    "sns.countplot(x='price_group', data=df_cardata, order=labels, hue='body')\n",
    "plt.title(\"Price Group v/s Body Type\")\n",
    "plt.xlabel('Price Group')\n",
    "plt.ylabel('Count of vehicles');"
   ]
  },
  {
   "cell_type": "markdown",
   "metadata": {},
   "source": [
    "<li> price group v/s drive type"
   ]
  },
  {
   "cell_type": "code",
   "execution_count": 304,
   "metadata": {},
   "outputs": [
    {
     "data": {
      "image/png": "[encoded data removed]",
      "text/plain": [
       "<Figure size 432x288 with 1 Axes>"
      ]
     },
     "metadata": {
      "needs_background": "light"
     },
     "output_type": "display_data"
    }
   ],
   "source": [
    "labels = ['<20K','20-39K','40-59K','60-79K','80-99K','>100K']\n",
    "sns.countplot(x='price_group', data=df_cardata, order=labels, hue='drive')\n",
    "plt.title(\"Price Group v/s Body Type\")\n",
    "plt.xlabel('Price Group')\n",
    "plt.ylabel('Count of vehicles');"
   ]
  },
  {
   "cell_type": "code",
   "execution_count": 312,
   "metadata": {},
   "outputs": [
    {
     "data": {
      "image/png": "[encoded data removed]",
      "text/plain": [
       "<Figure size 576x360 with 1 Axes>"
      ]
     },
     "metadata": {
      "needs_background": "light"
     },
     "output_type": "display_data"
    }
   ],
   "source": [
    "colors = [\"#00e600\", \"#ff8c1a\",\"#a180cc\"]\n",
    "fig, ax = plt.subplots(figsize=(8,5))\n",
    "sns.barplot(x='body', y='price', data=df_cardata, hue='drive')\n",
    "ax.set_title(\"Average price of cars by body type and drive type\", fontdict= {'size':12})\n",
    "ax.xaxis.set_label_text(\"Body Type Of Car\",fontdict= {'size':12})\n",
    "ax.yaxis.set_label_text(\"Average Price\",fontdict= {'size':12})\n",
    "plt.show()"
   ]
  },
  {
   "cell_type": "markdown",
   "metadata": {},
   "source": [
    "### Q 6. Does the engType have any impact on price of the car?"
   ]
  },
  {
   "cell_type": "code",
   "execution_count": 315,
   "metadata": {},
   "outputs": [
    {
     "data": {
      "image/png": "[encoded data removed]",
      "text/plain": [
       "<Figure size 423.75x360 with 1 Axes>"
      ]
     },
     "metadata": {
      "needs_background": "light"
     },
     "output_type": "display_data"
    }
   ],
   "source": [
    "orderList = ['<20K','20-39K','40-59K','60-79K','80-99K','>100K']\n",
    "sns.catplot(x='price_group', data=df_cardata, hue='engType', kind= 'count', order=orderList)   \n",
    "plt.title('Factorplot for Price Group and Engine Type')\n",
    "plt.xlabel('Price Group')\n",
    "plt.ylabel('Count of vehicles');"
   ]
  },
  {
   "cell_type": "markdown",
   "metadata": {},
   "source": [
    "### Q 7. How does price relate to engine type (engType) and drive type of the car?"
   ]
  },
  {
   "cell_type": "code",
   "execution_count": 317,
   "metadata": {},
   "outputs": [
    {
     "data": {
      "image/png": "[encoded data removed]",
      "text/plain": [
       "<Figure size 576x360 with 1 Axes>"
      ]
     },
     "metadata": {
      "needs_background": "light"
     },
     "output_type": "display_data"
    }
   ],
   "source": [
    "colors = [\"#00e600\", \"#ff8c1a\",\"#a180cc\"]\n",
    "fig, ax = plt.subplots(figsize=(8,5))\n",
    "sns.barplot(x='engType', y='price', data=df_cardata, hue='drive')\n",
    "ax.set_title(\"Average price of Cars by engine type and drive type\", fontdict= {'size':12})\n",
    "ax.xaxis.set_label_text(\"Engine Type\",fontdict= {'size':12})\n",
    "ax.yaxis.set_label_text(\"Average Price\",fontdict= {'size':12})\n",
    "plt.show()"
   ]
  },
  {
   "cell_type": "code",
   "execution_count": 319,
   "metadata": {},
   "outputs": [
    {
     "data": {
      "text/html": [
       "<div>\n",
       "<style scoped>\n",
       "    .dataframe tbody tr th:only-of-type {\n",
       "        vertical-align: middle;\n",
       "    }\n",
       "\n",
       "    .dataframe tbody tr th {\n",
       "        vertical-align: top;\n",
       "    }\n",
       "\n",
       "    .dataframe thead th {\n",
       "        text-align: right;\n",
       "    }\n",
       "</style>\n",
       "<table border=\"1\" class=\"dataframe\">\n",
       "  <thead>\n",
       "    <tr style=\"text-align: right;\">\n",
       "      <th></th>\n",
       "      <th>price</th>\n",
       "      <th>mileage</th>\n",
       "      <th>engV</th>\n",
       "      <th>ProductionYear</th>\n",
       "    </tr>\n",
       "  </thead>\n",
       "  <tbody>\n",
       "    <tr>\n",
       "      <th>count</th>\n",
       "      <td>9374.000000</td>\n",
       "      <td>9374.000000</td>\n",
       "      <td>9374.000000</td>\n",
       "      <td>9374.000000</td>\n",
       "    </tr>\n",
       "    <tr>\n",
       "      <th>mean</th>\n",
       "      <td>15517.081150</td>\n",
       "      <td>145.255332</td>\n",
       "      <td>2.637962</td>\n",
       "      <td>2006.464690</td>\n",
       "    </tr>\n",
       "    <tr>\n",
       "      <th>std</th>\n",
       "      <td>22168.588839</td>\n",
       "      <td>95.358965</td>\n",
       "      <td>5.851035</td>\n",
       "      <td>7.059242</td>\n",
       "    </tr>\n",
       "    <tr>\n",
       "      <th>min</th>\n",
       "      <td>259.350000</td>\n",
       "      <td>1.000000</td>\n",
       "      <td>0.100000</td>\n",
       "      <td>1953.000000</td>\n",
       "    </tr>\n",
       "    <tr>\n",
       "      <th>25%</th>\n",
       "      <td>5400.000000</td>\n",
       "      <td>80.000000</td>\n",
       "      <td>1.600000</td>\n",
       "      <td>2004.000000</td>\n",
       "    </tr>\n",
       "    <tr>\n",
       "      <th>50%</th>\n",
       "      <td>9500.000000</td>\n",
       "      <td>133.000000</td>\n",
       "      <td>2.000000</td>\n",
       "      <td>2008.000000</td>\n",
       "    </tr>\n",
       "    <tr>\n",
       "      <th>75%</th>\n",
       "      <td>16999.000000</td>\n",
       "      <td>196.000000</td>\n",
       "      <td>2.637962</td>\n",
       "      <td>2012.000000</td>\n",
       "    </tr>\n",
       "    <tr>\n",
       "      <th>max</th>\n",
       "      <td>547800.000000</td>\n",
       "      <td>999.000000</td>\n",
       "      <td>99.990000</td>\n",
       "      <td>2016.000000</td>\n",
       "    </tr>\n",
       "  </tbody>\n",
       "</table>\n",
       "</div>"
      ],
      "text/plain": [
       "               price      mileage         engV  ProductionYear\n",
       "count  9374.000000    9374.000000  9374.000000  9374.000000   \n",
       "mean   15517.081150   145.255332   2.637962     2006.464690   \n",
       "std    22168.588839   95.358965    5.851035     7.059242      \n",
       "min    259.350000     1.000000     0.100000     1953.000000   \n",
       "25%    5400.000000    80.000000    1.600000     2004.000000   \n",
       "50%    9500.000000    133.000000   2.000000     2008.000000   \n",
       "75%    16999.000000   196.000000   2.637962     2012.000000   \n",
       "max    547800.000000  999.000000   99.990000    2016.000000   "
      ]
     },
     "execution_count": 319,
     "metadata": {},
     "output_type": "execute_result"
    }
   ],
   "source": [
    "df_cardata.describe()"
   ]
  },
  {
   "cell_type": "markdown",
   "metadata": {},
   "source": [
    "### Q 8. Which engine volume (engV) cars sold the most ?"
   ]
  },
  {
   "cell_type": "code",
   "execution_count": 352,
   "metadata": {},
   "outputs": [
    {
     "data": {
      "image/png": "[encoded data removed]",
      "text/plain": [
       "<Figure size 432x288 with 1 Axes>"
      ]
     },
     "metadata": {
      "needs_background": "light"
     },
     "output_type": "display_data"
    }
   ],
   "source": [
    "lab=['<=0.5','0.51-1.50','1.51-2.50','2.51-3.50','>3.51']\n",
    "bins=[0,0.51,1.51,2.51,3.51,100]\n",
    "\n",
    "(pd.cut(df_cardata['engV'], bins, labels=lab).value_counts()/len(df_cardata['engV'])*100).plot.bar()\n",
    "plt.title(\"Engine Volume (engV) Bar Diagram\")\n",
    "plt.ylabel('% of vehicles')\n",
    "plt.xlabel('Engine Volume Group');"
   ]
  },
  {
   "cell_type": "code",
   "execution_count": null,
   "metadata": {},
   "outputs": [],
   "source": [
    "pd.cut(df_cardata['price'],[0,20000,40000,60000,80000,100000,600000], \n",
    "       labels = ['<20K','20-39K','40-59K','60-79K','80-99K','>100K'], include_lowest=True).head(10)"
   ]
  },
  {
   "cell_type": "code",
   "execution_count": 365,
   "metadata": {},
   "outputs": [
    {
     "data": {
      "text/html": [
       "<div>\n",
       "<style scoped>\n",
       "    .dataframe tbody tr th:only-of-type {\n",
       "        vertical-align: middle;\n",
       "    }\n",
       "\n",
       "    .dataframe tbody tr th {\n",
       "        vertical-align: top;\n",
       "    }\n",
       "\n",
       "    .dataframe thead th {\n",
       "        text-align: right;\n",
       "    }\n",
       "</style>\n",
       "<table border=\"1\" class=\"dataframe\">\n",
       "  <thead>\n",
       "    <tr style=\"text-align: right;\">\n",
       "      <th></th>\n",
       "      <th>Brand</th>\n",
       "      <th>price</th>\n",
       "      <th>body</th>\n",
       "      <th>mileage</th>\n",
       "      <th>engV</th>\n",
       "      <th>engType</th>\n",
       "      <th>registration</th>\n",
       "      <th>ProductionYear</th>\n",
       "      <th>drive</th>\n",
       "      <th>price_group</th>\n",
       "      <th>engV_categ</th>\n",
       "    </tr>\n",
       "  </thead>\n",
       "  <tbody>\n",
       "    <tr>\n",
       "      <th>2</th>\n",
       "      <td>Mercedes-Benz</td>\n",
       "      <td>35000.0</td>\n",
       "      <td>other</td>\n",
       "      <td>135.0</td>\n",
       "      <td>5.500000</td>\n",
       "      <td>Petrol</td>\n",
       "      <td>yes</td>\n",
       "      <td>2008</td>\n",
       "      <td>rear</td>\n",
       "      <td>20-39K</td>\n",
       "      <td>&gt;3.51</td>\n",
       "    </tr>\n",
       "    <tr>\n",
       "      <th>4</th>\n",
       "      <td>Mercedes-Benz</td>\n",
       "      <td>33000.0</td>\n",
       "      <td>vagon</td>\n",
       "      <td>91.0</td>\n",
       "      <td>2.637962</td>\n",
       "      <td>Other</td>\n",
       "      <td>yes</td>\n",
       "      <td>2013</td>\n",
       "      <td>front</td>\n",
       "      <td>20-39K</td>\n",
       "      <td>2.51-3.50</td>\n",
       "    </tr>\n",
       "    <tr>\n",
       "      <th>6</th>\n",
       "      <td>Honda</td>\n",
       "      <td>6500.0</td>\n",
       "      <td>sedan</td>\n",
       "      <td>199.0</td>\n",
       "      <td>2.000000</td>\n",
       "      <td>Petrol</td>\n",
       "      <td>yes</td>\n",
       "      <td>2003</td>\n",
       "      <td>front</td>\n",
       "      <td>&lt;20K</td>\n",
       "      <td>1.51-2.50</td>\n",
       "    </tr>\n",
       "    <tr>\n",
       "      <th>8</th>\n",
       "      <td>Mercedes-Benz</td>\n",
       "      <td>21500.0</td>\n",
       "      <td>sedan</td>\n",
       "      <td>146.0</td>\n",
       "      <td>1.800000</td>\n",
       "      <td>Gas</td>\n",
       "      <td>yes</td>\n",
       "      <td>2012</td>\n",
       "      <td>rear</td>\n",
       "      <td>20-39K</td>\n",
       "      <td>1.51-2.50</td>\n",
       "    </tr>\n",
       "    <tr>\n",
       "      <th>9</th>\n",
       "      <td>Mercedes-Benz</td>\n",
       "      <td>22700.0</td>\n",
       "      <td>sedan</td>\n",
       "      <td>125.0</td>\n",
       "      <td>2.200000</td>\n",
       "      <td>Diesel</td>\n",
       "      <td>yes</td>\n",
       "      <td>2010</td>\n",
       "      <td>rear</td>\n",
       "      <td>20-39K</td>\n",
       "      <td>1.51-2.50</td>\n",
       "    </tr>\n",
       "  </tbody>\n",
       "</table>\n",
       "</div>"
      ],
      "text/plain": [
       "           Brand    price   body  mileage      engV engType registration  \\\n",
       "2  Mercedes-Benz  35000.0  other  135.0    5.500000  Petrol  yes           \n",
       "4  Mercedes-Benz  33000.0  vagon  91.0     2.637962  Other   yes           \n",
       "6  Honda          6500.0   sedan  199.0    2.000000  Petrol  yes           \n",
       "8  Mercedes-Benz  21500.0  sedan  146.0    1.800000  Gas     yes           \n",
       "9  Mercedes-Benz  22700.0  sedan  125.0    2.200000  Diesel  yes           \n",
       "\n",
       "   ProductionYear  drive price_group engV_categ  \n",
       "2  2008            rear   20-39K      >3.51      \n",
       "4  2013            front  20-39K      2.51-3.50  \n",
       "6  2003            front  <20K        1.51-2.50  \n",
       "8  2012            rear   20-39K      1.51-2.50  \n",
       "9  2010            rear   20-39K      1.51-2.50  "
      ]
     },
     "execution_count": 365,
     "metadata": {},
     "output_type": "execute_result"
    }
   ],
   "source": [
    "df_cardata['engV_categ'] = pd.cut(df_cardata['engV'], bins, labels=lab)\n",
    "df_cardata['engV_categ'] = df_cardata['engV_categ'].astype(object)\n",
    "df_cardata.head()"
   ]
  },
  {
   "cell_type": "code",
   "execution_count": 384,
   "metadata": {},
   "outputs": [
    {
     "data": {
      "text/plain": [
       "Text(0.5, 1.0, 'Engine Volume (engV) Bar chart')"
      ]
     },
     "execution_count": 384,
     "metadata": {},
     "output_type": "execute_result"
    },
    {
     "data": {
      "image/png": "[encoded data removed]",
      "text/plain": [
       "<Figure size 432x288 with 1 Axes>"
      ]
     },
     "metadata": {
      "needs_background": "light"
     },
     "output_type": "display_data"
    }
   ],
   "source": [
    "olist=(df_cardata['engV_categ'].value_counts()/len(df_cardata['engV_categ']*100)).index\n",
    "sns.countplot(x='engV_categ', data=df_cardata, order=olist)\n",
    "plt.ylabel(\"No. of vehicles\")\n",
    "plt.xlabel(\"EngV Volumes\")\n",
    "plt.title(\"Engine Volume (engV) Bar chart\")"
   ]
  },
  {
   "cell_type": "code",
   "execution_count": 388,
   "metadata": {},
   "outputs": [
    {
     "data": {
      "text/plain": [
       "(0, 6)"
      ]
     },
     "execution_count": 388,
     "metadata": {},
     "output_type": "execute_result"
    },
    {
     "data": {
      "image/png": "[encoded data removed]",
      "text/plain": [
       "<Figure size 432x288 with 1 Axes>"
      ]
     },
     "metadata": {
      "needs_background": "light"
     },
     "output_type": "display_data"
    }
   ],
   "source": [
    "# engine volume wise count of vehicles\n",
    "careng = df_cardata.loc[df_cardata['engV'] <= 6]\n",
    "careng['engV'].value_counts().sort_index().plot.line()\n",
    "plt.title(\"Engine Volume (CC) wise count of vehicles\")\n",
    "plt.ylabel('Count of vehicles')\n",
    "plt.xlabel('Engine Volume');\n",
    "plt.xlim(0,6)"
   ]
  },
  {
   "cell_type": "markdown",
   "metadata": {},
   "source": [
    "### Q 9. How does engine volume (engV) relate to mileage of the car?"
   ]
  },
  {
   "cell_type": "code",
   "execution_count": 396,
   "metadata": {},
   "outputs": [
    {
     "data": {
      "image/png": "[encoded data removed]",
      "text/plain": [
       "<Figure size 432x288 with 2 Axes>"
      ]
     },
     "metadata": {
      "needs_background": "light"
     },
     "output_type": "display_data"
    }
   ],
   "source": [
    "df_cardata[df_cardata['engV'] < 3.51].plot.hexbin(x='engV', y='mileage', sharex=False, gridsize=12)\n",
    "plt.title(\"Engine Volume  v/s Mileage\")\n",
    "plt.ylabel('Mileage')\n",
    "plt.xlabel('Engine Volume');"
   ]
  },
  {
   "cell_type": "markdown",
   "metadata": {},
   "source": [
    "### Q 10. How does price is relate to mileage and production year of the car?"
   ]
  },
  {
   "cell_type": "code",
   "execution_count": 420,
   "metadata": {},
   "outputs": [
    {
     "data": {
      "text/plain": [
       "Text(0, 0.5, 'Mileage')"
      ]
     },
     "execution_count": 420,
     "metadata": {},
     "output_type": "execute_result"
    },
    {
     "data": {
      "image/png": "[encoded data removed]",
      "text/plain": [
       "<Figure size 432x288 with 1 Axes>"
      ]
     },
     "metadata": {
      "needs_background": "light"
     },
     "output_type": "display_data"
    }
   ],
   "source": [
    "df_cardata[df_cardata['price'] < 100000 ].plot.scatter(x='price', y='mileage')\n",
    "plt.title(\"Mileage Vs Price\")\n",
    "plt.xlabel(\"Price\")\n",
    "plt.ylabel(\"Mileage\")"
   ]
  },
  {
   "cell_type": "code",
   "execution_count": 433,
   "metadata": {},
   "outputs": [
    {
     "data": {
      "text/plain": [
       "Text(0, 0.5, 'Price')"
      ]
     },
     "execution_count": 433,
     "metadata": {},
     "output_type": "execute_result"
    },
    {
     "data": {
      "image/png": "[encoded data removed]",
      "text/plain": [
       "<Figure size 432x288 with 1 Axes>"
      ]
     },
     "metadata": {
      "needs_background": "light"
     },
     "output_type": "display_data"
    }
   ],
   "source": [
    "df_cardata[df_cardata['price'] <= 300000].plot.scatter(y='price', x='ProductionYear')\n",
    "plt.title(\"Price Vs ProductionYear\")\n",
    "plt.xlabel(\"ProdcutionYear\")\n",
    "plt.ylabel(\"Price\")"
   ]
  },
  {
   "cell_type": "markdown",
   "metadata": {},
   "source": [
    "### Q 11. Which production year of cars sold the most ?"
   ]
  },
  {
   "cell_type": "code",
   "execution_count": 455,
   "metadata": {},
   "outputs": [
    {
     "data": {
      "image/png": "[encoded data removed]",
      "text/plain": [
       "<Figure size 432x288 with 1 Axes>"
      ]
     },
     "metadata": {
      "needs_background": "light"
     },
     "output_type": "display_data"
    }
   ],
   "source": [
    "df_prdYear = df_cardata[df_cardata['ProductionYear'] > 1980]\n",
    "df_prdYear['ProductionYear'].value_counts().sort_index().plot(kind='bar')\n",
    "#df_prdYear['ProductionYear'].value_counts().index\n",
    "#sns.countplot(y=\"ProductionYear\", data=df_prdYear, order=df_prdYear['ProductionYear'].value_counts().sort_index().index)\n",
    "\n",
    "plt.title(\"Production Year wise count of vehicles\")\n",
    "plt.ylabel('Count of vehicles')\n",
    "plt.xlabel('Production Year');"
   ]
  },
  {
   "cell_type": "code",
   "execution_count": 454,
   "metadata": {},
   "outputs": [
    {
     "data": {
      "image/png": "[encoded data removed]",
      "text/plain": [
       "<Figure size 432x288 with 1 Axes>"
      ]
     },
     "metadata": {
      "needs_background": "light"
     },
     "output_type": "display_data"
    }
   ],
   "source": [
    "df_prdYear = df_cardata[df_cardata['ProductionYear'] > 1980]\n",
    "df_prdYear['ProductionYear'].value_counts().sort_index().plot(kind='line')\n",
    "plt.title(\"Production Year wise count of vehicles\")\n",
    "plt.ylabel('Count of vehicles')\n",
    "plt.xlabel('Production Year');"
   ]
  },
  {
   "cell_type": "markdown",
   "metadata": {},
   "source": [
    "### Q 12. How does production year relate to registration?"
   ]
  },
  {
   "cell_type": "code",
   "execution_count": 512,
   "metadata": {},
   "outputs": [
    {
     "data": {
      "text/plain": [
       "(array([   0.,  200.,  400.,  600.,  800., 1000., 1200.]),\n",
       " <a list of 7 Text yticklabel objects>)"
      ]
     },
     "execution_count": 512,
     "metadata": {},
     "output_type": "execute_result"
    },
    {
     "data": {
      "image/png": "[encoded data removed]",
      "text/plain": [
       "<Figure size 1080x360 with 1 Axes>"
      ]
     },
     "metadata": {
      "needs_background": "light"
     },
     "output_type": "display_data"
    }
   ],
   "source": [
    "df_reg = df_cardata[df_cardata['ProductionYear'] > 2000]\n",
    "plt.figure(figsize=(15,5))\n",
    "g = sns.countplot(x='ProductionYear',data=df_reg.sort_index(), hue='registration')           \n",
    "plt.title(\"Price Group v/s Body Type\")\n",
    "plt.ylabel('Price Group')\n",
    "plt.xlabel('Count of vehicles');\n",
    "\n",
    "plt.xticks(rotation=50)\n",
    "plt.yticks(rotation=50)\n",
    "\n",
    "#yearLabel = df_cardata[df_cardata['ProductionYear'] > 2000]['ProductionYear'].sort_values().unique()\n",
    "#g.set_xticklabels(yearLabel, rotation=50)"
   ]
  },
  {
   "cell_type": "code",
   "execution_count": 467,
   "metadata": {},
   "outputs": [
    {
     "data": {
      "text/plain": [
       "Brand             561\n",
       "price             561\n",
       "body              561\n",
       "mileage           561\n",
       "engV              561\n",
       "engType           561\n",
       "registration      561\n",
       "ProductionYear    561\n",
       "drive             561\n",
       "price_group       561\n",
       "engV_categ        561\n",
       "dtype: int64"
      ]
     },
     "execution_count": 467,
     "metadata": {},
     "output_type": "execute_result"
    }
   ],
   "source": [
    "df_reg[df_reg['registration'] == 'no'].count()"
   ]
  },
  {
   "cell_type": "code",
   "execution_count": 497,
   "metadata": {},
   "outputs": [
    {
     "data": {
      "text/plain": [
       "<seaborn.axisgrid.FacetGrid at 0x232d41561d0>"
      ]
     },
     "execution_count": 497,
     "metadata": {},
     "output_type": "execute_result"
    },
    {
     "data": {
      "image/png": "[encoded data removed]",
      "text/plain": [
       "<Figure size 954.5x360 with 1 Axes>"
      ]
     },
     "metadata": {
      "needs_background": "light"
     },
     "output_type": "display_data"
    }
   ],
   "source": [
    "# Production year v/s registration\n",
    "cc = df_cardata.loc[df_cardata['ProductionYear'] >= 2000]\n",
    "\n",
    "g = sns.factorplot('ProductionYear',data=cc,aspect=2.5, kind='count',hue='registration' ,color=\"m\")\n",
    "g.set_xticklabels(rotation=30)"
   ]
  },
  {
   "cell_type": "markdown",
   "metadata": {},
   "source": [
    "### Q 13. Correlation between various features of car data."
   ]
  },
  {
   "cell_type": "code",
   "execution_count": 508,
   "metadata": {},
   "outputs": [
    {
     "data": {
      "text/plain": [
       "Text(0.5, 1, 'Correlation between various features of car')"
      ]
     },
     "execution_count": 508,
     "metadata": {},
     "output_type": "execute_result"
    },
    {
     "data": {
      "image/png": "[encoded data removed]",
      "text/plain": [
       "<Figure size 576x432 with 2 Axes>"
      ]
     },
     "metadata": {
      "needs_background": "light"
     },
     "output_type": "display_data"
    }
   ],
   "source": [
    "plt.figure(figsize=(8,6))\n",
    "sns.heatmap(df_cardata.corr(), vmax=1,  annot=True, cmap='BuGn')\n",
    "plt.title(\"Correlation between various features of car\")"
   ]
  }
 ],
 "metadata": {
  "kernelspec": {
   "display_name": "Python 3",
   "language": "python",
   "name": "python3"
  },
  "language_info": {
   "codemirror_mode": {
    "name": "ipython",
    "version": 3
   },
   "file_extension": ".py",
   "mimetype": "text/x-python",
   "name": "python",
   "nbconvert_exporter": "python",
   "pygments_lexer": "ipython3",
   "version": "3.7.3"
  }
 },
 "nbformat": 4,
 "nbformat_minor": 2
}
